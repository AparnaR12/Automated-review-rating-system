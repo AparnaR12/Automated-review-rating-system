{
  "cells": [
    {
      "cell_type": "markdown",
      "metadata": {
        "id": "view-in-github",
        "colab_type": "text"
      },
      "source": [
        "<a href=\"https://colab.research.google.com/github/AparnaR12/Automated-review-rating-system/blob/main/notebooks/Preprocessing.ipynb\" target=\"_parent\"><img src=\"https://colab.research.google.com/assets/colab-badge.svg\" alt=\"Open In Colab\"/></a>"
      ]
    },
    {
      "cell_type": "markdown",
      "metadata": {
        "id": "EqEDDRji_2WC"
      },
      "source": [
        "Import pandas"
      ]
    },
    {
      "cell_type": "code",
      "execution_count": null,
      "metadata": {
        "id": "mQyNuwA97-1Y"
      },
      "outputs": [],
      "source": [
        "import pandas as pd"
      ]
    },
    {
      "cell_type": "markdown",
      "metadata": {
        "id": "zei9rKpG__dJ"
      },
      "source": [
        "Load data"
      ]
    },
    {
      "cell_type": "code",
      "execution_count": null,
      "metadata": {
        "id": "8VMP6RpU-Iqg"
      },
      "outputs": [],
      "source": [
        "df=pd.read_csv('/content/amazon_review.csv')"
      ]
    },
    {
      "cell_type": "markdown",
      "metadata": {
        "id": "RjRI-35EAIkU"
      },
      "source": [
        "View data"
      ]
    },
    {
      "cell_type": "code",
      "execution_count": null,
      "metadata": {
        "id": "TVSKoW7D_rHO",
        "colab": {
          "base_uri": "https://localhost:8080/",
          "height": 275
        },
        "outputId": "abb27238-e448-4a7d-8230-0b30f9f91be2"
      },
      "outputs": [
        {
          "output_type": "execute_result",
          "data": {
            "text/plain": [
              "       reviewerID        asin  reviewerName helpful  \\\n",
              "0  A3SBTW3WS4IQSN  B007WTAJTO           NaN  [0, 0]   \n",
              "1  A18K1ODH1I2MVB  B007WTAJTO          0mie  [0, 0]   \n",
              "2  A2FII3I2MBMUIA  B007WTAJTO           1K3  [0, 0]   \n",
              "3   A3H99DFEG68SR  B007WTAJTO           1m2  [0, 0]   \n",
              "4  A375ZM4U047O79  B007WTAJTO  2&amp;1/2Men  [0, 0]   \n",
              "\n",
              "                                          reviewText  overall  \\\n",
              "0                                         No issues.        4   \n",
              "1  Purchased this for my device, it worked as adv...        5   \n",
              "2  it works as expected. I should have sprung for...        4   \n",
              "3  This think has worked out great.Had a diff. br...        5   \n",
              "4  Bought it with Retail Packaging, arrived legit...        5   \n",
              "\n",
              "                                  summary  unixReviewTime  reviewTime  \\\n",
              "0                              Four Stars      1406073600   7/23/2014   \n",
              "1                           MOAR SPACE!!!      1382659200  10/25/2013   \n",
              "2               nothing to really say....      1356220800  12/23/2012   \n",
              "3  Great buy at this price!!!  *** UPDATE      1384992000  11/21/2013   \n",
              "4                        best deal around      1373673600   7/13/2013   \n",
              "\n",
              "   day_diff  helpful_yes  total_vote  \n",
              "0       138            0           0  \n",
              "1       409            0           0  \n",
              "2       715            0           0  \n",
              "3       382            0           0  \n",
              "4       513            0           0  "
            ],
            "text/html": [
              "\n",
              "  <div id=\"df-b0a09b1a-d708-4359-88cd-303b17cd2cf9\" class=\"colab-df-container\">\n",
              "    <div>\n",
              "<style scoped>\n",
              "    .dataframe tbody tr th:only-of-type {\n",
              "        vertical-align: middle;\n",
              "    }\n",
              "\n",
              "    .dataframe tbody tr th {\n",
              "        vertical-align: top;\n",
              "    }\n",
              "\n",
              "    .dataframe thead th {\n",
              "        text-align: right;\n",
              "    }\n",
              "</style>\n",
              "<table border=\"1\" class=\"dataframe\">\n",
              "  <thead>\n",
              "    <tr style=\"text-align: right;\">\n",
              "      <th></th>\n",
              "      <th>reviewerID</th>\n",
              "      <th>asin</th>\n",
              "      <th>reviewerName</th>\n",
              "      <th>helpful</th>\n",
              "      <th>reviewText</th>\n",
              "      <th>overall</th>\n",
              "      <th>summary</th>\n",
              "      <th>unixReviewTime</th>\n",
              "      <th>reviewTime</th>\n",
              "      <th>day_diff</th>\n",
              "      <th>helpful_yes</th>\n",
              "      <th>total_vote</th>\n",
              "    </tr>\n",
              "  </thead>\n",
              "  <tbody>\n",
              "    <tr>\n",
              "      <th>0</th>\n",
              "      <td>A3SBTW3WS4IQSN</td>\n",
              "      <td>B007WTAJTO</td>\n",
              "      <td>NaN</td>\n",
              "      <td>[0, 0]</td>\n",
              "      <td>No issues.</td>\n",
              "      <td>4</td>\n",
              "      <td>Four Stars</td>\n",
              "      <td>1406073600</td>\n",
              "      <td>7/23/2014</td>\n",
              "      <td>138</td>\n",
              "      <td>0</td>\n",
              "      <td>0</td>\n",
              "    </tr>\n",
              "    <tr>\n",
              "      <th>1</th>\n",
              "      <td>A18K1ODH1I2MVB</td>\n",
              "      <td>B007WTAJTO</td>\n",
              "      <td>0mie</td>\n",
              "      <td>[0, 0]</td>\n",
              "      <td>Purchased this for my device, it worked as adv...</td>\n",
              "      <td>5</td>\n",
              "      <td>MOAR SPACE!!!</td>\n",
              "      <td>1382659200</td>\n",
              "      <td>10/25/2013</td>\n",
              "      <td>409</td>\n",
              "      <td>0</td>\n",
              "      <td>0</td>\n",
              "    </tr>\n",
              "    <tr>\n",
              "      <th>2</th>\n",
              "      <td>A2FII3I2MBMUIA</td>\n",
              "      <td>B007WTAJTO</td>\n",
              "      <td>1K3</td>\n",
              "      <td>[0, 0]</td>\n",
              "      <td>it works as expected. I should have sprung for...</td>\n",
              "      <td>4</td>\n",
              "      <td>nothing to really say....</td>\n",
              "      <td>1356220800</td>\n",
              "      <td>12/23/2012</td>\n",
              "      <td>715</td>\n",
              "      <td>0</td>\n",
              "      <td>0</td>\n",
              "    </tr>\n",
              "    <tr>\n",
              "      <th>3</th>\n",
              "      <td>A3H99DFEG68SR</td>\n",
              "      <td>B007WTAJTO</td>\n",
              "      <td>1m2</td>\n",
              "      <td>[0, 0]</td>\n",
              "      <td>This think has worked out great.Had a diff. br...</td>\n",
              "      <td>5</td>\n",
              "      <td>Great buy at this price!!!  *** UPDATE</td>\n",
              "      <td>1384992000</td>\n",
              "      <td>11/21/2013</td>\n",
              "      <td>382</td>\n",
              "      <td>0</td>\n",
              "      <td>0</td>\n",
              "    </tr>\n",
              "    <tr>\n",
              "      <th>4</th>\n",
              "      <td>A375ZM4U047O79</td>\n",
              "      <td>B007WTAJTO</td>\n",
              "      <td>2&amp;amp;1/2Men</td>\n",
              "      <td>[0, 0]</td>\n",
              "      <td>Bought it with Retail Packaging, arrived legit...</td>\n",
              "      <td>5</td>\n",
              "      <td>best deal around</td>\n",
              "      <td>1373673600</td>\n",
              "      <td>7/13/2013</td>\n",
              "      <td>513</td>\n",
              "      <td>0</td>\n",
              "      <td>0</td>\n",
              "    </tr>\n",
              "  </tbody>\n",
              "</table>\n",
              "</div>\n",
              "    <div class=\"colab-df-buttons\">\n",
              "\n",
              "  <div class=\"colab-df-container\">\n",
              "    <button class=\"colab-df-convert\" onclick=\"convertToInteractive('df-b0a09b1a-d708-4359-88cd-303b17cd2cf9')\"\n",
              "            title=\"Convert this dataframe to an interactive table.\"\n",
              "            style=\"display:none;\">\n",
              "\n",
              "  <svg xmlns=\"http://www.w3.org/2000/svg\" height=\"24px\" viewBox=\"0 -960 960 960\">\n",
              "    <path d=\"M120-120v-720h720v720H120Zm60-500h600v-160H180v160Zm220 220h160v-160H400v160Zm0 220h160v-160H400v160ZM180-400h160v-160H180v160Zm440 0h160v-160H620v160ZM180-180h160v-160H180v160Zm440 0h160v-160H620v160Z\"/>\n",
              "  </svg>\n",
              "    </button>\n",
              "\n",
              "  <style>\n",
              "    .colab-df-container {\n",
              "      display:flex;\n",
              "      gap: 12px;\n",
              "    }\n",
              "\n",
              "    .colab-df-convert {\n",
              "      background-color: #E8F0FE;\n",
              "      border: none;\n",
              "      border-radius: 50%;\n",
              "      cursor: pointer;\n",
              "      display: none;\n",
              "      fill: #1967D2;\n",
              "      height: 32px;\n",
              "      padding: 0 0 0 0;\n",
              "      width: 32px;\n",
              "    }\n",
              "\n",
              "    .colab-df-convert:hover {\n",
              "      background-color: #E2EBFA;\n",
              "      box-shadow: 0px 1px 2px rgba(60, 64, 67, 0.3), 0px 1px 3px 1px rgba(60, 64, 67, 0.15);\n",
              "      fill: #174EA6;\n",
              "    }\n",
              "\n",
              "    .colab-df-buttons div {\n",
              "      margin-bottom: 4px;\n",
              "    }\n",
              "\n",
              "    [theme=dark] .colab-df-convert {\n",
              "      background-color: #3B4455;\n",
              "      fill: #D2E3FC;\n",
              "    }\n",
              "\n",
              "    [theme=dark] .colab-df-convert:hover {\n",
              "      background-color: #434B5C;\n",
              "      box-shadow: 0px 1px 3px 1px rgba(0, 0, 0, 0.15);\n",
              "      filter: drop-shadow(0px 1px 2px rgba(0, 0, 0, 0.3));\n",
              "      fill: #FFFFFF;\n",
              "    }\n",
              "  </style>\n",
              "\n",
              "    <script>\n",
              "      const buttonEl =\n",
              "        document.querySelector('#df-b0a09b1a-d708-4359-88cd-303b17cd2cf9 button.colab-df-convert');\n",
              "      buttonEl.style.display =\n",
              "        google.colab.kernel.accessAllowed ? 'block' : 'none';\n",
              "\n",
              "      async function convertToInteractive(key) {\n",
              "        const element = document.querySelector('#df-b0a09b1a-d708-4359-88cd-303b17cd2cf9');\n",
              "        const dataTable =\n",
              "          await google.colab.kernel.invokeFunction('convertToInteractive',\n",
              "                                                    [key], {});\n",
              "        if (!dataTable) return;\n",
              "\n",
              "        const docLinkHtml = 'Like what you see? Visit the ' +\n",
              "          '<a target=\"_blank\" href=https://colab.research.google.com/notebooks/data_table.ipynb>data table notebook</a>'\n",
              "          + ' to learn more about interactive tables.';\n",
              "        element.innerHTML = '';\n",
              "        dataTable['output_type'] = 'display_data';\n",
              "        await google.colab.output.renderOutput(dataTable, element);\n",
              "        const docLink = document.createElement('div');\n",
              "        docLink.innerHTML = docLinkHtml;\n",
              "        element.appendChild(docLink);\n",
              "      }\n",
              "    </script>\n",
              "  </div>\n",
              "\n",
              "\n",
              "    <div id=\"df-34054903-92d4-4689-91bd-980bb1e43bf7\">\n",
              "      <button class=\"colab-df-quickchart\" onclick=\"quickchart('df-34054903-92d4-4689-91bd-980bb1e43bf7')\"\n",
              "                title=\"Suggest charts\"\n",
              "                style=\"display:none;\">\n",
              "\n",
              "<svg xmlns=\"http://www.w3.org/2000/svg\" height=\"24px\"viewBox=\"0 0 24 24\"\n",
              "     width=\"24px\">\n",
              "    <g>\n",
              "        <path d=\"M19 3H5c-1.1 0-2 .9-2 2v14c0 1.1.9 2 2 2h14c1.1 0 2-.9 2-2V5c0-1.1-.9-2-2-2zM9 17H7v-7h2v7zm4 0h-2V7h2v10zm4 0h-2v-4h2v4z\"/>\n",
              "    </g>\n",
              "</svg>\n",
              "      </button>\n",
              "\n",
              "<style>\n",
              "  .colab-df-quickchart {\n",
              "      --bg-color: #E8F0FE;\n",
              "      --fill-color: #1967D2;\n",
              "      --hover-bg-color: #E2EBFA;\n",
              "      --hover-fill-color: #174EA6;\n",
              "      --disabled-fill-color: #AAA;\n",
              "      --disabled-bg-color: #DDD;\n",
              "  }\n",
              "\n",
              "  [theme=dark] .colab-df-quickchart {\n",
              "      --bg-color: #3B4455;\n",
              "      --fill-color: #D2E3FC;\n",
              "      --hover-bg-color: #434B5C;\n",
              "      --hover-fill-color: #FFFFFF;\n",
              "      --disabled-bg-color: #3B4455;\n",
              "      --disabled-fill-color: #666;\n",
              "  }\n",
              "\n",
              "  .colab-df-quickchart {\n",
              "    background-color: var(--bg-color);\n",
              "    border: none;\n",
              "    border-radius: 50%;\n",
              "    cursor: pointer;\n",
              "    display: none;\n",
              "    fill: var(--fill-color);\n",
              "    height: 32px;\n",
              "    padding: 0;\n",
              "    width: 32px;\n",
              "  }\n",
              "\n",
              "  .colab-df-quickchart:hover {\n",
              "    background-color: var(--hover-bg-color);\n",
              "    box-shadow: 0 1px 2px rgba(60, 64, 67, 0.3), 0 1px 3px 1px rgba(60, 64, 67, 0.15);\n",
              "    fill: var(--button-hover-fill-color);\n",
              "  }\n",
              "\n",
              "  .colab-df-quickchart-complete:disabled,\n",
              "  .colab-df-quickchart-complete:disabled:hover {\n",
              "    background-color: var(--disabled-bg-color);\n",
              "    fill: var(--disabled-fill-color);\n",
              "    box-shadow: none;\n",
              "  }\n",
              "\n",
              "  .colab-df-spinner {\n",
              "    border: 2px solid var(--fill-color);\n",
              "    border-color: transparent;\n",
              "    border-bottom-color: var(--fill-color);\n",
              "    animation:\n",
              "      spin 1s steps(1) infinite;\n",
              "  }\n",
              "\n",
              "  @keyframes spin {\n",
              "    0% {\n",
              "      border-color: transparent;\n",
              "      border-bottom-color: var(--fill-color);\n",
              "      border-left-color: var(--fill-color);\n",
              "    }\n",
              "    20% {\n",
              "      border-color: transparent;\n",
              "      border-left-color: var(--fill-color);\n",
              "      border-top-color: var(--fill-color);\n",
              "    }\n",
              "    30% {\n",
              "      border-color: transparent;\n",
              "      border-left-color: var(--fill-color);\n",
              "      border-top-color: var(--fill-color);\n",
              "      border-right-color: var(--fill-color);\n",
              "    }\n",
              "    40% {\n",
              "      border-color: transparent;\n",
              "      border-right-color: var(--fill-color);\n",
              "      border-top-color: var(--fill-color);\n",
              "    }\n",
              "    60% {\n",
              "      border-color: transparent;\n",
              "      border-right-color: var(--fill-color);\n",
              "    }\n",
              "    80% {\n",
              "      border-color: transparent;\n",
              "      border-right-color: var(--fill-color);\n",
              "      border-bottom-color: var(--fill-color);\n",
              "    }\n",
              "    90% {\n",
              "      border-color: transparent;\n",
              "      border-bottom-color: var(--fill-color);\n",
              "    }\n",
              "  }\n",
              "</style>\n",
              "\n",
              "      <script>\n",
              "        async function quickchart(key) {\n",
              "          const quickchartButtonEl =\n",
              "            document.querySelector('#' + key + ' button');\n",
              "          quickchartButtonEl.disabled = true;  // To prevent multiple clicks.\n",
              "          quickchartButtonEl.classList.add('colab-df-spinner');\n",
              "          try {\n",
              "            const charts = await google.colab.kernel.invokeFunction(\n",
              "                'suggestCharts', [key], {});\n",
              "          } catch (error) {\n",
              "            console.error('Error during call to suggestCharts:', error);\n",
              "          }\n",
              "          quickchartButtonEl.classList.remove('colab-df-spinner');\n",
              "          quickchartButtonEl.classList.add('colab-df-quickchart-complete');\n",
              "        }\n",
              "        (() => {\n",
              "          let quickchartButtonEl =\n",
              "            document.querySelector('#df-34054903-92d4-4689-91bd-980bb1e43bf7 button');\n",
              "          quickchartButtonEl.style.display =\n",
              "            google.colab.kernel.accessAllowed ? 'block' : 'none';\n",
              "        })();\n",
              "      </script>\n",
              "    </div>\n",
              "\n",
              "    </div>\n",
              "  </div>\n"
            ],
            "application/vnd.google.colaboratory.intrinsic+json": {
              "type": "dataframe",
              "variable_name": "df",
              "summary": "{\n  \"name\": \"df\",\n  \"rows\": 4915,\n  \"fields\": [\n    {\n      \"column\": \"reviewerID\",\n      \"properties\": {\n        \"dtype\": \"string\",\n        \"num_unique_values\": 4915,\n        \"samples\": [\n          \"A3V5DNLW7DPMUA\",\n          \"A1F08OEM2LEJLK\",\n          \"AOOJ8Y18T3DGM\"\n        ],\n        \"semantic_type\": \"\",\n        \"description\": \"\"\n      }\n    },\n    {\n      \"column\": \"asin\",\n      \"properties\": {\n        \"dtype\": \"category\",\n        \"num_unique_values\": 1,\n        \"samples\": [\n          \"B007WTAJTO\"\n        ],\n        \"semantic_type\": \"\",\n        \"description\": \"\"\n      }\n    },\n    {\n      \"column\": \"reviewerName\",\n      \"properties\": {\n        \"dtype\": \"string\",\n        \"num_unique_values\": 4594,\n        \"samples\": [\n          \"nta699\"\n        ],\n        \"semantic_type\": \"\",\n        \"description\": \"\"\n      }\n    },\n    {\n      \"column\": \"helpful\",\n      \"properties\": {\n        \"dtype\": \"category\",\n        \"num_unique_values\": 42,\n        \"samples\": [\n          \"[1952, 2020]\"\n        ],\n        \"semantic_type\": \"\",\n        \"description\": \"\"\n      }\n    },\n    {\n      \"column\": \"reviewText\",\n      \"properties\": {\n        \"dtype\": \"string\",\n        \"num_unique_values\": 4912,\n        \"samples\": [\n          \"Bought this for extended memory in a Galaxy S III.  Great price. Easy to install and the phone recognized it instantly. Does what its supposed to do.\"\n        ],\n        \"semantic_type\": \"\",\n        \"description\": \"\"\n      }\n    },\n    {\n      \"column\": \"overall\",\n      \"properties\": {\n        \"dtype\": \"number\",\n        \"std\": 0,\n        \"min\": 1,\n        \"max\": 5,\n        \"num_unique_values\": 5,\n        \"samples\": [\n          5\n        ],\n        \"semantic_type\": \"\",\n        \"description\": \"\"\n      }\n    },\n    {\n      \"column\": \"summary\",\n      \"properties\": {\n        \"dtype\": \"string\",\n        \"num_unique_values\": 3885,\n        \"samples\": [\n          \"NICE!!!\"\n        ],\n        \"semantic_type\": \"\",\n        \"description\": \"\"\n      }\n    },\n    {\n      \"column\": \"unixReviewTime\",\n      \"properties\": {\n        \"dtype\": \"number\",\n        \"std\": 15818574,\n        \"min\": 1339200000,\n        \"max\": 1406073600,\n        \"num_unique_values\": 690,\n        \"samples\": [\n          1386028800\n        ],\n        \"semantic_type\": \"\",\n        \"description\": \"\"\n      }\n    },\n    {\n      \"column\": \"reviewTime\",\n      \"properties\": {\n        \"dtype\": \"object\",\n        \"num_unique_values\": 690,\n        \"samples\": [\n          \"3/12/2013\"\n        ],\n        \"semantic_type\": \"\",\n        \"description\": \"\"\n      }\n    },\n    {\n      \"column\": \"day_diff\",\n      \"properties\": {\n        \"dtype\": \"number\",\n        \"std\": 209,\n        \"min\": 1,\n        \"max\": 1064,\n        \"num_unique_values\": 690,\n        \"samples\": [\n          636\n        ],\n        \"semantic_type\": \"\",\n        \"description\": \"\"\n      }\n    },\n    {\n      \"column\": \"helpful_yes\",\n      \"properties\": {\n        \"dtype\": \"number\",\n        \"std\": 41,\n        \"min\": 0,\n        \"max\": 1952,\n        \"num_unique_values\": 23,\n        \"samples\": [\n          1428\n        ],\n        \"semantic_type\": \"\",\n        \"description\": \"\"\n      }\n    },\n    {\n      \"column\": \"total_vote\",\n      \"properties\": {\n        \"dtype\": \"number\",\n        \"std\": 44,\n        \"min\": 0,\n        \"max\": 2020,\n        \"num_unique_values\": 26,\n        \"samples\": [\n          495\n        ],\n        \"semantic_type\": \"\",\n        \"description\": \"\"\n      }\n    }\n  ]\n}"
            }
          },
          "metadata": {},
          "execution_count": 3
        }
      ],
      "source": [
        "df.head()"
      ]
    },
    {
      "cell_type": "code",
      "execution_count": null,
      "metadata": {
        "id": "gADv5hoNAWDO",
        "colab": {
          "base_uri": "https://localhost:8080/",
          "height": 275
        },
        "outputId": "cf103a7a-40a9-4a86-ebe5-f7e0eebc2c10"
      },
      "outputs": [
        {
          "output_type": "execute_result",
          "data": {
            "text/plain": [
              "          reviewerID        asin reviewerName helpful  \\\n",
              "4910  A2LBMKXRM5H2W9  B007WTAJTO       ZM \"J\"  [0, 0]   \n",
              "4911   ALGDLRUI1ZPCS  B007WTAJTO           Zo  [0, 0]   \n",
              "4912  A2MR1NI0ENW2AD  B007WTAJTO    Z S Liske  [0, 0]   \n",
              "4913  A37E6P3DSO9QJD  B007WTAJTO     Z Taylor  [0, 0]   \n",
              "4914   A8KGFTFQ86IBR  B007WTAJTO          Zza  [0, 0]   \n",
              "\n",
              "                                             reviewText  overall  \\\n",
              "4910  I bought this Sandisk 16GB Class 10 to use wit...        1   \n",
              "4911  Used this for extending the capabilities of my...        5   \n",
              "4912  Great card that is very fast and reliable. It ...        5   \n",
              "4913  Good amount of space for the stuff I want to d...        5   \n",
              "4914  I've heard bad things about this 64gb Micro SD...        5   \n",
              "\n",
              "                            summary  unixReviewTime reviewTime  day_diff  \\\n",
              "4910       Do not waste your money.      1374537600  7/23/2013       503   \n",
              "4911                    Great item!      1377129600  8/22/2013       473   \n",
              "4912  Fast and reliable memory card      1396224000  3/31/2014       252   \n",
              "4913              Great little card      1379289600  9/16/2013       448   \n",
              "4914                So far so good.      1388620800   2/1/2014       310   \n",
              "\n",
              "      helpful_yes  total_vote  \n",
              "4910            0           0  \n",
              "4911            0           0  \n",
              "4912            0           0  \n",
              "4913            0           0  \n",
              "4914            0           0  "
            ],
            "text/html": [
              "\n",
              "  <div id=\"df-82369573-a2c8-4c5d-b8c8-da1e0a24ab2f\" class=\"colab-df-container\">\n",
              "    <div>\n",
              "<style scoped>\n",
              "    .dataframe tbody tr th:only-of-type {\n",
              "        vertical-align: middle;\n",
              "    }\n",
              "\n",
              "    .dataframe tbody tr th {\n",
              "        vertical-align: top;\n",
              "    }\n",
              "\n",
              "    .dataframe thead th {\n",
              "        text-align: right;\n",
              "    }\n",
              "</style>\n",
              "<table border=\"1\" class=\"dataframe\">\n",
              "  <thead>\n",
              "    <tr style=\"text-align: right;\">\n",
              "      <th></th>\n",
              "      <th>reviewerID</th>\n",
              "      <th>asin</th>\n",
              "      <th>reviewerName</th>\n",
              "      <th>helpful</th>\n",
              "      <th>reviewText</th>\n",
              "      <th>overall</th>\n",
              "      <th>summary</th>\n",
              "      <th>unixReviewTime</th>\n",
              "      <th>reviewTime</th>\n",
              "      <th>day_diff</th>\n",
              "      <th>helpful_yes</th>\n",
              "      <th>total_vote</th>\n",
              "    </tr>\n",
              "  </thead>\n",
              "  <tbody>\n",
              "    <tr>\n",
              "      <th>4910</th>\n",
              "      <td>A2LBMKXRM5H2W9</td>\n",
              "      <td>B007WTAJTO</td>\n",
              "      <td>ZM \"J\"</td>\n",
              "      <td>[0, 0]</td>\n",
              "      <td>I bought this Sandisk 16GB Class 10 to use wit...</td>\n",
              "      <td>1</td>\n",
              "      <td>Do not waste your money.</td>\n",
              "      <td>1374537600</td>\n",
              "      <td>7/23/2013</td>\n",
              "      <td>503</td>\n",
              "      <td>0</td>\n",
              "      <td>0</td>\n",
              "    </tr>\n",
              "    <tr>\n",
              "      <th>4911</th>\n",
              "      <td>ALGDLRUI1ZPCS</td>\n",
              "      <td>B007WTAJTO</td>\n",
              "      <td>Zo</td>\n",
              "      <td>[0, 0]</td>\n",
              "      <td>Used this for extending the capabilities of my...</td>\n",
              "      <td>5</td>\n",
              "      <td>Great item!</td>\n",
              "      <td>1377129600</td>\n",
              "      <td>8/22/2013</td>\n",
              "      <td>473</td>\n",
              "      <td>0</td>\n",
              "      <td>0</td>\n",
              "    </tr>\n",
              "    <tr>\n",
              "      <th>4912</th>\n",
              "      <td>A2MR1NI0ENW2AD</td>\n",
              "      <td>B007WTAJTO</td>\n",
              "      <td>Z S Liske</td>\n",
              "      <td>[0, 0]</td>\n",
              "      <td>Great card that is very fast and reliable. It ...</td>\n",
              "      <td>5</td>\n",
              "      <td>Fast and reliable memory card</td>\n",
              "      <td>1396224000</td>\n",
              "      <td>3/31/2014</td>\n",
              "      <td>252</td>\n",
              "      <td>0</td>\n",
              "      <td>0</td>\n",
              "    </tr>\n",
              "    <tr>\n",
              "      <th>4913</th>\n",
              "      <td>A37E6P3DSO9QJD</td>\n",
              "      <td>B007WTAJTO</td>\n",
              "      <td>Z Taylor</td>\n",
              "      <td>[0, 0]</td>\n",
              "      <td>Good amount of space for the stuff I want to d...</td>\n",
              "      <td>5</td>\n",
              "      <td>Great little card</td>\n",
              "      <td>1379289600</td>\n",
              "      <td>9/16/2013</td>\n",
              "      <td>448</td>\n",
              "      <td>0</td>\n",
              "      <td>0</td>\n",
              "    </tr>\n",
              "    <tr>\n",
              "      <th>4914</th>\n",
              "      <td>A8KGFTFQ86IBR</td>\n",
              "      <td>B007WTAJTO</td>\n",
              "      <td>Zza</td>\n",
              "      <td>[0, 0]</td>\n",
              "      <td>I've heard bad things about this 64gb Micro SD...</td>\n",
              "      <td>5</td>\n",
              "      <td>So far so good.</td>\n",
              "      <td>1388620800</td>\n",
              "      <td>2/1/2014</td>\n",
              "      <td>310</td>\n",
              "      <td>0</td>\n",
              "      <td>0</td>\n",
              "    </tr>\n",
              "  </tbody>\n",
              "</table>\n",
              "</div>\n",
              "    <div class=\"colab-df-buttons\">\n",
              "\n",
              "  <div class=\"colab-df-container\">\n",
              "    <button class=\"colab-df-convert\" onclick=\"convertToInteractive('df-82369573-a2c8-4c5d-b8c8-da1e0a24ab2f')\"\n",
              "            title=\"Convert this dataframe to an interactive table.\"\n",
              "            style=\"display:none;\">\n",
              "\n",
              "  <svg xmlns=\"http://www.w3.org/2000/svg\" height=\"24px\" viewBox=\"0 -960 960 960\">\n",
              "    <path d=\"M120-120v-720h720v720H120Zm60-500h600v-160H180v160Zm220 220h160v-160H400v160Zm0 220h160v-160H400v160ZM180-400h160v-160H180v160Zm440 0h160v-160H620v160ZM180-180h160v-160H180v160Zm440 0h160v-160H620v160Z\"/>\n",
              "  </svg>\n",
              "    </button>\n",
              "\n",
              "  <style>\n",
              "    .colab-df-container {\n",
              "      display:flex;\n",
              "      gap: 12px;\n",
              "    }\n",
              "\n",
              "    .colab-df-convert {\n",
              "      background-color: #E8F0FE;\n",
              "      border: none;\n",
              "      border-radius: 50%;\n",
              "      cursor: pointer;\n",
              "      display: none;\n",
              "      fill: #1967D2;\n",
              "      height: 32px;\n",
              "      padding: 0 0 0 0;\n",
              "      width: 32px;\n",
              "    }\n",
              "\n",
              "    .colab-df-convert:hover {\n",
              "      background-color: #E2EBFA;\n",
              "      box-shadow: 0px 1px 2px rgba(60, 64, 67, 0.3), 0px 1px 3px 1px rgba(60, 64, 67, 0.15);\n",
              "      fill: #174EA6;\n",
              "    }\n",
              "\n",
              "    .colab-df-buttons div {\n",
              "      margin-bottom: 4px;\n",
              "    }\n",
              "\n",
              "    [theme=dark] .colab-df-convert {\n",
              "      background-color: #3B4455;\n",
              "      fill: #D2E3FC;\n",
              "    }\n",
              "\n",
              "    [theme=dark] .colab-df-convert:hover {\n",
              "      background-color: #434B5C;\n",
              "      box-shadow: 0px 1px 3px 1px rgba(0, 0, 0, 0.15);\n",
              "      filter: drop-shadow(0px 1px 2px rgba(0, 0, 0, 0.3));\n",
              "      fill: #FFFFFF;\n",
              "    }\n",
              "  </style>\n",
              "\n",
              "    <script>\n",
              "      const buttonEl =\n",
              "        document.querySelector('#df-82369573-a2c8-4c5d-b8c8-da1e0a24ab2f button.colab-df-convert');\n",
              "      buttonEl.style.display =\n",
              "        google.colab.kernel.accessAllowed ? 'block' : 'none';\n",
              "\n",
              "      async function convertToInteractive(key) {\n",
              "        const element = document.querySelector('#df-82369573-a2c8-4c5d-b8c8-da1e0a24ab2f');\n",
              "        const dataTable =\n",
              "          await google.colab.kernel.invokeFunction('convertToInteractive',\n",
              "                                                    [key], {});\n",
              "        if (!dataTable) return;\n",
              "\n",
              "        const docLinkHtml = 'Like what you see? Visit the ' +\n",
              "          '<a target=\"_blank\" href=https://colab.research.google.com/notebooks/data_table.ipynb>data table notebook</a>'\n",
              "          + ' to learn more about interactive tables.';\n",
              "        element.innerHTML = '';\n",
              "        dataTable['output_type'] = 'display_data';\n",
              "        await google.colab.output.renderOutput(dataTable, element);\n",
              "        const docLink = document.createElement('div');\n",
              "        docLink.innerHTML = docLinkHtml;\n",
              "        element.appendChild(docLink);\n",
              "      }\n",
              "    </script>\n",
              "  </div>\n",
              "\n",
              "\n",
              "    <div id=\"df-58f133f5-ae05-43ff-8961-6b398ed9328e\">\n",
              "      <button class=\"colab-df-quickchart\" onclick=\"quickchart('df-58f133f5-ae05-43ff-8961-6b398ed9328e')\"\n",
              "                title=\"Suggest charts\"\n",
              "                style=\"display:none;\">\n",
              "\n",
              "<svg xmlns=\"http://www.w3.org/2000/svg\" height=\"24px\"viewBox=\"0 0 24 24\"\n",
              "     width=\"24px\">\n",
              "    <g>\n",
              "        <path d=\"M19 3H5c-1.1 0-2 .9-2 2v14c0 1.1.9 2 2 2h14c1.1 0 2-.9 2-2V5c0-1.1-.9-2-2-2zM9 17H7v-7h2v7zm4 0h-2V7h2v10zm4 0h-2v-4h2v4z\"/>\n",
              "    </g>\n",
              "</svg>\n",
              "      </button>\n",
              "\n",
              "<style>\n",
              "  .colab-df-quickchart {\n",
              "      --bg-color: #E8F0FE;\n",
              "      --fill-color: #1967D2;\n",
              "      --hover-bg-color: #E2EBFA;\n",
              "      --hover-fill-color: #174EA6;\n",
              "      --disabled-fill-color: #AAA;\n",
              "      --disabled-bg-color: #DDD;\n",
              "  }\n",
              "\n",
              "  [theme=dark] .colab-df-quickchart {\n",
              "      --bg-color: #3B4455;\n",
              "      --fill-color: #D2E3FC;\n",
              "      --hover-bg-color: #434B5C;\n",
              "      --hover-fill-color: #FFFFFF;\n",
              "      --disabled-bg-color: #3B4455;\n",
              "      --disabled-fill-color: #666;\n",
              "  }\n",
              "\n",
              "  .colab-df-quickchart {\n",
              "    background-color: var(--bg-color);\n",
              "    border: none;\n",
              "    border-radius: 50%;\n",
              "    cursor: pointer;\n",
              "    display: none;\n",
              "    fill: var(--fill-color);\n",
              "    height: 32px;\n",
              "    padding: 0;\n",
              "    width: 32px;\n",
              "  }\n",
              "\n",
              "  .colab-df-quickchart:hover {\n",
              "    background-color: var(--hover-bg-color);\n",
              "    box-shadow: 0 1px 2px rgba(60, 64, 67, 0.3), 0 1px 3px 1px rgba(60, 64, 67, 0.15);\n",
              "    fill: var(--button-hover-fill-color);\n",
              "  }\n",
              "\n",
              "  .colab-df-quickchart-complete:disabled,\n",
              "  .colab-df-quickchart-complete:disabled:hover {\n",
              "    background-color: var(--disabled-bg-color);\n",
              "    fill: var(--disabled-fill-color);\n",
              "    box-shadow: none;\n",
              "  }\n",
              "\n",
              "  .colab-df-spinner {\n",
              "    border: 2px solid var(--fill-color);\n",
              "    border-color: transparent;\n",
              "    border-bottom-color: var(--fill-color);\n",
              "    animation:\n",
              "      spin 1s steps(1) infinite;\n",
              "  }\n",
              "\n",
              "  @keyframes spin {\n",
              "    0% {\n",
              "      border-color: transparent;\n",
              "      border-bottom-color: var(--fill-color);\n",
              "      border-left-color: var(--fill-color);\n",
              "    }\n",
              "    20% {\n",
              "      border-color: transparent;\n",
              "      border-left-color: var(--fill-color);\n",
              "      border-top-color: var(--fill-color);\n",
              "    }\n",
              "    30% {\n",
              "      border-color: transparent;\n",
              "      border-left-color: var(--fill-color);\n",
              "      border-top-color: var(--fill-color);\n",
              "      border-right-color: var(--fill-color);\n",
              "    }\n",
              "    40% {\n",
              "      border-color: transparent;\n",
              "      border-right-color: var(--fill-color);\n",
              "      border-top-color: var(--fill-color);\n",
              "    }\n",
              "    60% {\n",
              "      border-color: transparent;\n",
              "      border-right-color: var(--fill-color);\n",
              "    }\n",
              "    80% {\n",
              "      border-color: transparent;\n",
              "      border-right-color: var(--fill-color);\n",
              "      border-bottom-color: var(--fill-color);\n",
              "    }\n",
              "    90% {\n",
              "      border-color: transparent;\n",
              "      border-bottom-color: var(--fill-color);\n",
              "    }\n",
              "  }\n",
              "</style>\n",
              "\n",
              "      <script>\n",
              "        async function quickchart(key) {\n",
              "          const quickchartButtonEl =\n",
              "            document.querySelector('#' + key + ' button');\n",
              "          quickchartButtonEl.disabled = true;  // To prevent multiple clicks.\n",
              "          quickchartButtonEl.classList.add('colab-df-spinner');\n",
              "          try {\n",
              "            const charts = await google.colab.kernel.invokeFunction(\n",
              "                'suggestCharts', [key], {});\n",
              "          } catch (error) {\n",
              "            console.error('Error during call to suggestCharts:', error);\n",
              "          }\n",
              "          quickchartButtonEl.classList.remove('colab-df-spinner');\n",
              "          quickchartButtonEl.classList.add('colab-df-quickchart-complete');\n",
              "        }\n",
              "        (() => {\n",
              "          let quickchartButtonEl =\n",
              "            document.querySelector('#df-58f133f5-ae05-43ff-8961-6b398ed9328e button');\n",
              "          quickchartButtonEl.style.display =\n",
              "            google.colab.kernel.accessAllowed ? 'block' : 'none';\n",
              "        })();\n",
              "      </script>\n",
              "    </div>\n",
              "\n",
              "    </div>\n",
              "  </div>\n"
            ],
            "application/vnd.google.colaboratory.intrinsic+json": {
              "type": "dataframe",
              "repr_error": "0"
            }
          },
          "metadata": {},
          "execution_count": 4
        }
      ],
      "source": [
        "df.tail()"
      ]
    },
    {
      "cell_type": "code",
      "execution_count": null,
      "metadata": {
        "id": "n7ZfrwsJAi6f",
        "colab": {
          "base_uri": "https://localhost:8080/",
          "height": 98
        },
        "outputId": "687decd5-adf3-4cdb-c93d-29100167c5a9"
      },
      "outputs": [
        {
          "output_type": "execute_result",
          "data": {
            "text/plain": [
              "        reviewerID        asin         reviewerName helpful  \\\n",
              "54  A1M1BDJBIS2KUJ  B007WTAJTO  a_compulsive_reader  [0, 0]   \n",
              "\n",
              "                                           reviewText  overall  \\\n",
              "54  Liked the first one I purchased so much, I bou...        5   \n",
              "\n",
              "                                              summary  unixReviewTime  \\\n",
              "54  Fast, reliable, compatible, buy it direct from...      1385164800   \n",
              "\n",
              "    reviewTime  day_diff  helpful_yes  total_vote  \n",
              "54  11/23/2013       380            0           0  "
            ],
            "text/html": [
              "\n",
              "  <div id=\"df-392fa2de-31be-4ad6-a547-9150055110ac\" class=\"colab-df-container\">\n",
              "    <div>\n",
              "<style scoped>\n",
              "    .dataframe tbody tr th:only-of-type {\n",
              "        vertical-align: middle;\n",
              "    }\n",
              "\n",
              "    .dataframe tbody tr th {\n",
              "        vertical-align: top;\n",
              "    }\n",
              "\n",
              "    .dataframe thead th {\n",
              "        text-align: right;\n",
              "    }\n",
              "</style>\n",
              "<table border=\"1\" class=\"dataframe\">\n",
              "  <thead>\n",
              "    <tr style=\"text-align: right;\">\n",
              "      <th></th>\n",
              "      <th>reviewerID</th>\n",
              "      <th>asin</th>\n",
              "      <th>reviewerName</th>\n",
              "      <th>helpful</th>\n",
              "      <th>reviewText</th>\n",
              "      <th>overall</th>\n",
              "      <th>summary</th>\n",
              "      <th>unixReviewTime</th>\n",
              "      <th>reviewTime</th>\n",
              "      <th>day_diff</th>\n",
              "      <th>helpful_yes</th>\n",
              "      <th>total_vote</th>\n",
              "    </tr>\n",
              "  </thead>\n",
              "  <tbody>\n",
              "    <tr>\n",
              "      <th>54</th>\n",
              "      <td>A1M1BDJBIS2KUJ</td>\n",
              "      <td>B007WTAJTO</td>\n",
              "      <td>a_compulsive_reader</td>\n",
              "      <td>[0, 0]</td>\n",
              "      <td>Liked the first one I purchased so much, I bou...</td>\n",
              "      <td>5</td>\n",
              "      <td>Fast, reliable, compatible, buy it direct from...</td>\n",
              "      <td>1385164800</td>\n",
              "      <td>11/23/2013</td>\n",
              "      <td>380</td>\n",
              "      <td>0</td>\n",
              "      <td>0</td>\n",
              "    </tr>\n",
              "  </tbody>\n",
              "</table>\n",
              "</div>\n",
              "    <div class=\"colab-df-buttons\">\n",
              "\n",
              "  <div class=\"colab-df-container\">\n",
              "    <button class=\"colab-df-convert\" onclick=\"convertToInteractive('df-392fa2de-31be-4ad6-a547-9150055110ac')\"\n",
              "            title=\"Convert this dataframe to an interactive table.\"\n",
              "            style=\"display:none;\">\n",
              "\n",
              "  <svg xmlns=\"http://www.w3.org/2000/svg\" height=\"24px\" viewBox=\"0 -960 960 960\">\n",
              "    <path d=\"M120-120v-720h720v720H120Zm60-500h600v-160H180v160Zm220 220h160v-160H400v160Zm0 220h160v-160H400v160ZM180-400h160v-160H180v160Zm440 0h160v-160H620v160ZM180-180h160v-160H180v160Zm440 0h160v-160H620v160Z\"/>\n",
              "  </svg>\n",
              "    </button>\n",
              "\n",
              "  <style>\n",
              "    .colab-df-container {\n",
              "      display:flex;\n",
              "      gap: 12px;\n",
              "    }\n",
              "\n",
              "    .colab-df-convert {\n",
              "      background-color: #E8F0FE;\n",
              "      border: none;\n",
              "      border-radius: 50%;\n",
              "      cursor: pointer;\n",
              "      display: none;\n",
              "      fill: #1967D2;\n",
              "      height: 32px;\n",
              "      padding: 0 0 0 0;\n",
              "      width: 32px;\n",
              "    }\n",
              "\n",
              "    .colab-df-convert:hover {\n",
              "      background-color: #E2EBFA;\n",
              "      box-shadow: 0px 1px 2px rgba(60, 64, 67, 0.3), 0px 1px 3px 1px rgba(60, 64, 67, 0.15);\n",
              "      fill: #174EA6;\n",
              "    }\n",
              "\n",
              "    .colab-df-buttons div {\n",
              "      margin-bottom: 4px;\n",
              "    }\n",
              "\n",
              "    [theme=dark] .colab-df-convert {\n",
              "      background-color: #3B4455;\n",
              "      fill: #D2E3FC;\n",
              "    }\n",
              "\n",
              "    [theme=dark] .colab-df-convert:hover {\n",
              "      background-color: #434B5C;\n",
              "      box-shadow: 0px 1px 3px 1px rgba(0, 0, 0, 0.15);\n",
              "      filter: drop-shadow(0px 1px 2px rgba(0, 0, 0, 0.3));\n",
              "      fill: #FFFFFF;\n",
              "    }\n",
              "  </style>\n",
              "\n",
              "    <script>\n",
              "      const buttonEl =\n",
              "        document.querySelector('#df-392fa2de-31be-4ad6-a547-9150055110ac button.colab-df-convert');\n",
              "      buttonEl.style.display =\n",
              "        google.colab.kernel.accessAllowed ? 'block' : 'none';\n",
              "\n",
              "      async function convertToInteractive(key) {\n",
              "        const element = document.querySelector('#df-392fa2de-31be-4ad6-a547-9150055110ac');\n",
              "        const dataTable =\n",
              "          await google.colab.kernel.invokeFunction('convertToInteractive',\n",
              "                                                    [key], {});\n",
              "        if (!dataTable) return;\n",
              "\n",
              "        const docLinkHtml = 'Like what you see? Visit the ' +\n",
              "          '<a target=\"_blank\" href=https://colab.research.google.com/notebooks/data_table.ipynb>data table notebook</a>'\n",
              "          + ' to learn more about interactive tables.';\n",
              "        element.innerHTML = '';\n",
              "        dataTable['output_type'] = 'display_data';\n",
              "        await google.colab.output.renderOutput(dataTable, element);\n",
              "        const docLink = document.createElement('div');\n",
              "        docLink.innerHTML = docLinkHtml;\n",
              "        element.appendChild(docLink);\n",
              "      }\n",
              "    </script>\n",
              "  </div>\n",
              "\n",
              "\n",
              "    </div>\n",
              "  </div>\n"
            ],
            "application/vnd.google.colaboratory.intrinsic+json": {
              "type": "dataframe",
              "repr_error": "0"
            }
          },
          "metadata": {},
          "execution_count": 5
        }
      ],
      "source": [
        "df.sample()"
      ]
    },
    {
      "cell_type": "markdown",
      "metadata": {
        "id": "5YxZ4FZMAynr"
      },
      "source": [
        "Inspect Structure"
      ]
    },
    {
      "cell_type": "code",
      "execution_count": null,
      "metadata": {
        "id": "Xc_8QtAVA2aJ",
        "colab": {
          "base_uri": "https://localhost:8080/"
        },
        "outputId": "84abe896-095b-4bde-f13a-363bdfa0cf73"
      },
      "outputs": [
        {
          "output_type": "execute_result",
          "data": {
            "text/plain": [
              "(4915, 12)"
            ]
          },
          "metadata": {},
          "execution_count": 6
        }
      ],
      "source": [
        "df.shape"
      ]
    },
    {
      "cell_type": "code",
      "execution_count": null,
      "metadata": {
        "id": "J8Kk2-KpBJnT",
        "colab": {
          "base_uri": "https://localhost:8080/"
        },
        "outputId": "d608e301-f382-451a-8871-eaec43e249b5"
      },
      "outputs": [
        {
          "output_type": "execute_result",
          "data": {
            "text/plain": [
              "Index(['reviewerID', 'asin', 'reviewerName', 'helpful', 'reviewText',\n",
              "       'overall', 'summary', 'unixReviewTime', 'reviewTime', 'day_diff',\n",
              "       'helpful_yes', 'total_vote'],\n",
              "      dtype='object')"
            ]
          },
          "metadata": {},
          "execution_count": 7
        }
      ],
      "source": [
        "df.columns"
      ]
    },
    {
      "cell_type": "code",
      "execution_count": null,
      "metadata": {
        "id": "SG3M1n56BQ-L",
        "colab": {
          "base_uri": "https://localhost:8080/"
        },
        "outputId": "0c3f7563-bc18-459c-d5d8-6ab8be88b7e0"
      },
      "outputs": [
        {
          "output_type": "stream",
          "name": "stdout",
          "text": [
            "<class 'pandas.core.frame.DataFrame'>\n",
            "RangeIndex: 4915 entries, 0 to 4914\n",
            "Data columns (total 12 columns):\n",
            " #   Column          Non-Null Count  Dtype \n",
            "---  ------          --------------  ----- \n",
            " 0   reviewerID      4915 non-null   object\n",
            " 1   asin            4915 non-null   object\n",
            " 2   reviewerName    4914 non-null   object\n",
            " 3   helpful         4915 non-null   object\n",
            " 4   reviewText      4914 non-null   object\n",
            " 5   overall         4915 non-null   int64 \n",
            " 6   summary         4915 non-null   object\n",
            " 7   unixReviewTime  4915 non-null   int64 \n",
            " 8   reviewTime      4915 non-null   object\n",
            " 9   day_diff        4915 non-null   int64 \n",
            " 10  helpful_yes     4915 non-null   int64 \n",
            " 11  total_vote      4915 non-null   int64 \n",
            "dtypes: int64(5), object(7)\n",
            "memory usage: 460.9+ KB\n"
          ]
        }
      ],
      "source": [
        "df.info()"
      ]
    },
    {
      "cell_type": "code",
      "execution_count": null,
      "metadata": {
        "id": "225fwiUCBYNm",
        "colab": {
          "base_uri": "https://localhost:8080/",
          "height": 300
        },
        "outputId": "0a1e9ff0-1783-4ed9-baa4-0af2a6ab05f9"
      },
      "outputs": [
        {
          "output_type": "execute_result",
          "data": {
            "text/plain": [
              "           overall  unixReviewTime     day_diff  helpful_yes   total_vote\n",
              "count  4915.000000    4.915000e+03  4915.000000  4915.000000  4915.000000\n",
              "mean      4.587589    1.379465e+09   437.367040     1.311089     1.521465\n",
              "std       0.996845    1.581857e+07   209.439871    41.619161    44.123095\n",
              "min       1.000000    1.339200e+09     1.000000     0.000000     0.000000\n",
              "25%       5.000000    1.365898e+09   281.000000     0.000000     0.000000\n",
              "50%       5.000000    1.381277e+09   431.000000     0.000000     0.000000\n",
              "75%       5.000000    1.392163e+09   601.000000     0.000000     0.000000\n",
              "max       5.000000    1.406074e+09  1064.000000  1952.000000  2020.000000"
            ],
            "text/html": [
              "\n",
              "  <div id=\"df-df3d7cbd-83a6-41bf-ac7d-82f555e7982d\" class=\"colab-df-container\">\n",
              "    <div>\n",
              "<style scoped>\n",
              "    .dataframe tbody tr th:only-of-type {\n",
              "        vertical-align: middle;\n",
              "    }\n",
              "\n",
              "    .dataframe tbody tr th {\n",
              "        vertical-align: top;\n",
              "    }\n",
              "\n",
              "    .dataframe thead th {\n",
              "        text-align: right;\n",
              "    }\n",
              "</style>\n",
              "<table border=\"1\" class=\"dataframe\">\n",
              "  <thead>\n",
              "    <tr style=\"text-align: right;\">\n",
              "      <th></th>\n",
              "      <th>overall</th>\n",
              "      <th>unixReviewTime</th>\n",
              "      <th>day_diff</th>\n",
              "      <th>helpful_yes</th>\n",
              "      <th>total_vote</th>\n",
              "    </tr>\n",
              "  </thead>\n",
              "  <tbody>\n",
              "    <tr>\n",
              "      <th>count</th>\n",
              "      <td>4915.000000</td>\n",
              "      <td>4.915000e+03</td>\n",
              "      <td>4915.000000</td>\n",
              "      <td>4915.000000</td>\n",
              "      <td>4915.000000</td>\n",
              "    </tr>\n",
              "    <tr>\n",
              "      <th>mean</th>\n",
              "      <td>4.587589</td>\n",
              "      <td>1.379465e+09</td>\n",
              "      <td>437.367040</td>\n",
              "      <td>1.311089</td>\n",
              "      <td>1.521465</td>\n",
              "    </tr>\n",
              "    <tr>\n",
              "      <th>std</th>\n",
              "      <td>0.996845</td>\n",
              "      <td>1.581857e+07</td>\n",
              "      <td>209.439871</td>\n",
              "      <td>41.619161</td>\n",
              "      <td>44.123095</td>\n",
              "    </tr>\n",
              "    <tr>\n",
              "      <th>min</th>\n",
              "      <td>1.000000</td>\n",
              "      <td>1.339200e+09</td>\n",
              "      <td>1.000000</td>\n",
              "      <td>0.000000</td>\n",
              "      <td>0.000000</td>\n",
              "    </tr>\n",
              "    <tr>\n",
              "      <th>25%</th>\n",
              "      <td>5.000000</td>\n",
              "      <td>1.365898e+09</td>\n",
              "      <td>281.000000</td>\n",
              "      <td>0.000000</td>\n",
              "      <td>0.000000</td>\n",
              "    </tr>\n",
              "    <tr>\n",
              "      <th>50%</th>\n",
              "      <td>5.000000</td>\n",
              "      <td>1.381277e+09</td>\n",
              "      <td>431.000000</td>\n",
              "      <td>0.000000</td>\n",
              "      <td>0.000000</td>\n",
              "    </tr>\n",
              "    <tr>\n",
              "      <th>75%</th>\n",
              "      <td>5.000000</td>\n",
              "      <td>1.392163e+09</td>\n",
              "      <td>601.000000</td>\n",
              "      <td>0.000000</td>\n",
              "      <td>0.000000</td>\n",
              "    </tr>\n",
              "    <tr>\n",
              "      <th>max</th>\n",
              "      <td>5.000000</td>\n",
              "      <td>1.406074e+09</td>\n",
              "      <td>1064.000000</td>\n",
              "      <td>1952.000000</td>\n",
              "      <td>2020.000000</td>\n",
              "    </tr>\n",
              "  </tbody>\n",
              "</table>\n",
              "</div>\n",
              "    <div class=\"colab-df-buttons\">\n",
              "\n",
              "  <div class=\"colab-df-container\">\n",
              "    <button class=\"colab-df-convert\" onclick=\"convertToInteractive('df-df3d7cbd-83a6-41bf-ac7d-82f555e7982d')\"\n",
              "            title=\"Convert this dataframe to an interactive table.\"\n",
              "            style=\"display:none;\">\n",
              "\n",
              "  <svg xmlns=\"http://www.w3.org/2000/svg\" height=\"24px\" viewBox=\"0 -960 960 960\">\n",
              "    <path d=\"M120-120v-720h720v720H120Zm60-500h600v-160H180v160Zm220 220h160v-160H400v160Zm0 220h160v-160H400v160ZM180-400h160v-160H180v160Zm440 0h160v-160H620v160ZM180-180h160v-160H180v160Zm440 0h160v-160H620v160Z\"/>\n",
              "  </svg>\n",
              "    </button>\n",
              "\n",
              "  <style>\n",
              "    .colab-df-container {\n",
              "      display:flex;\n",
              "      gap: 12px;\n",
              "    }\n",
              "\n",
              "    .colab-df-convert {\n",
              "      background-color: #E8F0FE;\n",
              "      border: none;\n",
              "      border-radius: 50%;\n",
              "      cursor: pointer;\n",
              "      display: none;\n",
              "      fill: #1967D2;\n",
              "      height: 32px;\n",
              "      padding: 0 0 0 0;\n",
              "      width: 32px;\n",
              "    }\n",
              "\n",
              "    .colab-df-convert:hover {\n",
              "      background-color: #E2EBFA;\n",
              "      box-shadow: 0px 1px 2px rgba(60, 64, 67, 0.3), 0px 1px 3px 1px rgba(60, 64, 67, 0.15);\n",
              "      fill: #174EA6;\n",
              "    }\n",
              "\n",
              "    .colab-df-buttons div {\n",
              "      margin-bottom: 4px;\n",
              "    }\n",
              "\n",
              "    [theme=dark] .colab-df-convert {\n",
              "      background-color: #3B4455;\n",
              "      fill: #D2E3FC;\n",
              "    }\n",
              "\n",
              "    [theme=dark] .colab-df-convert:hover {\n",
              "      background-color: #434B5C;\n",
              "      box-shadow: 0px 1px 3px 1px rgba(0, 0, 0, 0.15);\n",
              "      filter: drop-shadow(0px 1px 2px rgba(0, 0, 0, 0.3));\n",
              "      fill: #FFFFFF;\n",
              "    }\n",
              "  </style>\n",
              "\n",
              "    <script>\n",
              "      const buttonEl =\n",
              "        document.querySelector('#df-df3d7cbd-83a6-41bf-ac7d-82f555e7982d button.colab-df-convert');\n",
              "      buttonEl.style.display =\n",
              "        google.colab.kernel.accessAllowed ? 'block' : 'none';\n",
              "\n",
              "      async function convertToInteractive(key) {\n",
              "        const element = document.querySelector('#df-df3d7cbd-83a6-41bf-ac7d-82f555e7982d');\n",
              "        const dataTable =\n",
              "          await google.colab.kernel.invokeFunction('convertToInteractive',\n",
              "                                                    [key], {});\n",
              "        if (!dataTable) return;\n",
              "\n",
              "        const docLinkHtml = 'Like what you see? Visit the ' +\n",
              "          '<a target=\"_blank\" href=https://colab.research.google.com/notebooks/data_table.ipynb>data table notebook</a>'\n",
              "          + ' to learn more about interactive tables.';\n",
              "        element.innerHTML = '';\n",
              "        dataTable['output_type'] = 'display_data';\n",
              "        await google.colab.output.renderOutput(dataTable, element);\n",
              "        const docLink = document.createElement('div');\n",
              "        docLink.innerHTML = docLinkHtml;\n",
              "        element.appendChild(docLink);\n",
              "      }\n",
              "    </script>\n",
              "  </div>\n",
              "\n",
              "\n",
              "    <div id=\"df-b2d69e90-45bb-49c0-97e4-ac46da858b40\">\n",
              "      <button class=\"colab-df-quickchart\" onclick=\"quickchart('df-b2d69e90-45bb-49c0-97e4-ac46da858b40')\"\n",
              "                title=\"Suggest charts\"\n",
              "                style=\"display:none;\">\n",
              "\n",
              "<svg xmlns=\"http://www.w3.org/2000/svg\" height=\"24px\"viewBox=\"0 0 24 24\"\n",
              "     width=\"24px\">\n",
              "    <g>\n",
              "        <path d=\"M19 3H5c-1.1 0-2 .9-2 2v14c0 1.1.9 2 2 2h14c1.1 0 2-.9 2-2V5c0-1.1-.9-2-2-2zM9 17H7v-7h2v7zm4 0h-2V7h2v10zm4 0h-2v-4h2v4z\"/>\n",
              "    </g>\n",
              "</svg>\n",
              "      </button>\n",
              "\n",
              "<style>\n",
              "  .colab-df-quickchart {\n",
              "      --bg-color: #E8F0FE;\n",
              "      --fill-color: #1967D2;\n",
              "      --hover-bg-color: #E2EBFA;\n",
              "      --hover-fill-color: #174EA6;\n",
              "      --disabled-fill-color: #AAA;\n",
              "      --disabled-bg-color: #DDD;\n",
              "  }\n",
              "\n",
              "  [theme=dark] .colab-df-quickchart {\n",
              "      --bg-color: #3B4455;\n",
              "      --fill-color: #D2E3FC;\n",
              "      --hover-bg-color: #434B5C;\n",
              "      --hover-fill-color: #FFFFFF;\n",
              "      --disabled-bg-color: #3B4455;\n",
              "      --disabled-fill-color: #666;\n",
              "  }\n",
              "\n",
              "  .colab-df-quickchart {\n",
              "    background-color: var(--bg-color);\n",
              "    border: none;\n",
              "    border-radius: 50%;\n",
              "    cursor: pointer;\n",
              "    display: none;\n",
              "    fill: var(--fill-color);\n",
              "    height: 32px;\n",
              "    padding: 0;\n",
              "    width: 32px;\n",
              "  }\n",
              "\n",
              "  .colab-df-quickchart:hover {\n",
              "    background-color: var(--hover-bg-color);\n",
              "    box-shadow: 0 1px 2px rgba(60, 64, 67, 0.3), 0 1px 3px 1px rgba(60, 64, 67, 0.15);\n",
              "    fill: var(--button-hover-fill-color);\n",
              "  }\n",
              "\n",
              "  .colab-df-quickchart-complete:disabled,\n",
              "  .colab-df-quickchart-complete:disabled:hover {\n",
              "    background-color: var(--disabled-bg-color);\n",
              "    fill: var(--disabled-fill-color);\n",
              "    box-shadow: none;\n",
              "  }\n",
              "\n",
              "  .colab-df-spinner {\n",
              "    border: 2px solid var(--fill-color);\n",
              "    border-color: transparent;\n",
              "    border-bottom-color: var(--fill-color);\n",
              "    animation:\n",
              "      spin 1s steps(1) infinite;\n",
              "  }\n",
              "\n",
              "  @keyframes spin {\n",
              "    0% {\n",
              "      border-color: transparent;\n",
              "      border-bottom-color: var(--fill-color);\n",
              "      border-left-color: var(--fill-color);\n",
              "    }\n",
              "    20% {\n",
              "      border-color: transparent;\n",
              "      border-left-color: var(--fill-color);\n",
              "      border-top-color: var(--fill-color);\n",
              "    }\n",
              "    30% {\n",
              "      border-color: transparent;\n",
              "      border-left-color: var(--fill-color);\n",
              "      border-top-color: var(--fill-color);\n",
              "      border-right-color: var(--fill-color);\n",
              "    }\n",
              "    40% {\n",
              "      border-color: transparent;\n",
              "      border-right-color: var(--fill-color);\n",
              "      border-top-color: var(--fill-color);\n",
              "    }\n",
              "    60% {\n",
              "      border-color: transparent;\n",
              "      border-right-color: var(--fill-color);\n",
              "    }\n",
              "    80% {\n",
              "      border-color: transparent;\n",
              "      border-right-color: var(--fill-color);\n",
              "      border-bottom-color: var(--fill-color);\n",
              "    }\n",
              "    90% {\n",
              "      border-color: transparent;\n",
              "      border-bottom-color: var(--fill-color);\n",
              "    }\n",
              "  }\n",
              "</style>\n",
              "\n",
              "      <script>\n",
              "        async function quickchart(key) {\n",
              "          const quickchartButtonEl =\n",
              "            document.querySelector('#' + key + ' button');\n",
              "          quickchartButtonEl.disabled = true;  // To prevent multiple clicks.\n",
              "          quickchartButtonEl.classList.add('colab-df-spinner');\n",
              "          try {\n",
              "            const charts = await google.colab.kernel.invokeFunction(\n",
              "                'suggestCharts', [key], {});\n",
              "          } catch (error) {\n",
              "            console.error('Error during call to suggestCharts:', error);\n",
              "          }\n",
              "          quickchartButtonEl.classList.remove('colab-df-spinner');\n",
              "          quickchartButtonEl.classList.add('colab-df-quickchart-complete');\n",
              "        }\n",
              "        (() => {\n",
              "          let quickchartButtonEl =\n",
              "            document.querySelector('#df-b2d69e90-45bb-49c0-97e4-ac46da858b40 button');\n",
              "          quickchartButtonEl.style.display =\n",
              "            google.colab.kernel.accessAllowed ? 'block' : 'none';\n",
              "        })();\n",
              "      </script>\n",
              "    </div>\n",
              "\n",
              "    </div>\n",
              "  </div>\n"
            ],
            "application/vnd.google.colaboratory.intrinsic+json": {
              "type": "dataframe",
              "summary": "{\n  \"name\": \"df\",\n  \"rows\": 8,\n  \"fields\": [\n    {\n      \"column\": \"overall\",\n      \"properties\": {\n        \"dtype\": \"number\",\n        \"std\": 1736.3731062884249,\n        \"min\": 0.9968451383820023,\n        \"max\": 4915.0,\n        \"num_unique_values\": 5,\n        \"samples\": [\n          4.587589013224822,\n          5.0,\n          0.9968451383820023\n        ],\n        \"semantic_type\": \"\",\n        \"description\": \"\"\n      }\n    },\n    {\n      \"column\": \"unixReviewTime\",\n      \"properties\": {\n        \"dtype\": \"number\",\n        \"std\": 634237606.7251937,\n        \"min\": 4915.0,\n        \"max\": 1406073600.0,\n        \"num_unique_values\": 8,\n        \"samples\": [\n          1379465001.6683621,\n          1381276800.0,\n          4915.0\n        ],\n        \"semantic_type\": \"\",\n        \"description\": \"\"\n      }\n    },\n    {\n      \"column\": \"day_diff\",\n      \"properties\": {\n        \"dtype\": \"number\",\n        \"std\": 1615.5641767881223,\n        \"min\": 1.0,\n        \"max\": 4915.0,\n        \"num_unique_values\": 8,\n        \"samples\": [\n          437.3670396744659,\n          431.0,\n          4915.0\n        ],\n        \"semantic_type\": \"\",\n        \"description\": \"\"\n      }\n    },\n    {\n      \"column\": \"helpful_yes\",\n      \"properties\": {\n        \"dtype\": \"number\",\n        \"std\": 1772.845608763585,\n        \"min\": 0.0,\n        \"max\": 4915.0,\n        \"num_unique_values\": 5,\n        \"samples\": [\n          1.3110885045778229,\n          1952.0,\n          41.61916057538585\n        ],\n        \"semantic_type\": \"\",\n        \"description\": \"\"\n      }\n    },\n    {\n      \"column\": \"total_vote\",\n      \"properties\": {\n        \"dtype\": \"number\",\n        \"std\": 1778.7796520621223,\n        \"min\": 0.0,\n        \"max\": 4915.0,\n        \"num_unique_values\": 5,\n        \"samples\": [\n          1.5214649033570702,\n          2020.0,\n          44.123094560977925\n        ],\n        \"semantic_type\": \"\",\n        \"description\": \"\"\n      }\n    }\n  ]\n}"
            }
          },
          "metadata": {},
          "execution_count": 9
        }
      ],
      "source": [
        "df.describe()"
      ]
    },
    {
      "cell_type": "markdown",
      "metadata": {
        "id": "4YBsqNi5BqsU"
      },
      "source": [
        "Handling Missing Data"
      ]
    },
    {
      "cell_type": "code",
      "execution_count": null,
      "metadata": {
        "id": "oP-bKdcnBs_y",
        "colab": {
          "base_uri": "https://localhost:8080/",
          "height": 460
        },
        "outputId": "c4c65b4e-685c-448e-b5ee-e13b267becfc"
      },
      "outputs": [
        {
          "output_type": "execute_result",
          "data": {
            "text/plain": [
              "reviewerID        0\n",
              "asin              0\n",
              "reviewerName      1\n",
              "helpful           0\n",
              "reviewText        1\n",
              "overall           0\n",
              "summary           0\n",
              "unixReviewTime    0\n",
              "reviewTime        0\n",
              "day_diff          0\n",
              "helpful_yes       0\n",
              "total_vote        0\n",
              "dtype: int64"
            ],
            "text/html": [
              "<div>\n",
              "<style scoped>\n",
              "    .dataframe tbody tr th:only-of-type {\n",
              "        vertical-align: middle;\n",
              "    }\n",
              "\n",
              "    .dataframe tbody tr th {\n",
              "        vertical-align: top;\n",
              "    }\n",
              "\n",
              "    .dataframe thead th {\n",
              "        text-align: right;\n",
              "    }\n",
              "</style>\n",
              "<table border=\"1\" class=\"dataframe\">\n",
              "  <thead>\n",
              "    <tr style=\"text-align: right;\">\n",
              "      <th></th>\n",
              "      <th>0</th>\n",
              "    </tr>\n",
              "  </thead>\n",
              "  <tbody>\n",
              "    <tr>\n",
              "      <th>reviewerID</th>\n",
              "      <td>0</td>\n",
              "    </tr>\n",
              "    <tr>\n",
              "      <th>asin</th>\n",
              "      <td>0</td>\n",
              "    </tr>\n",
              "    <tr>\n",
              "      <th>reviewerName</th>\n",
              "      <td>1</td>\n",
              "    </tr>\n",
              "    <tr>\n",
              "      <th>helpful</th>\n",
              "      <td>0</td>\n",
              "    </tr>\n",
              "    <tr>\n",
              "      <th>reviewText</th>\n",
              "      <td>1</td>\n",
              "    </tr>\n",
              "    <tr>\n",
              "      <th>overall</th>\n",
              "      <td>0</td>\n",
              "    </tr>\n",
              "    <tr>\n",
              "      <th>summary</th>\n",
              "      <td>0</td>\n",
              "    </tr>\n",
              "    <tr>\n",
              "      <th>unixReviewTime</th>\n",
              "      <td>0</td>\n",
              "    </tr>\n",
              "    <tr>\n",
              "      <th>reviewTime</th>\n",
              "      <td>0</td>\n",
              "    </tr>\n",
              "    <tr>\n",
              "      <th>day_diff</th>\n",
              "      <td>0</td>\n",
              "    </tr>\n",
              "    <tr>\n",
              "      <th>helpful_yes</th>\n",
              "      <td>0</td>\n",
              "    </tr>\n",
              "    <tr>\n",
              "      <th>total_vote</th>\n",
              "      <td>0</td>\n",
              "    </tr>\n",
              "  </tbody>\n",
              "</table>\n",
              "</div><br><label><b>dtype:</b> int64</label>"
            ]
          },
          "metadata": {},
          "execution_count": 10
        }
      ],
      "source": [
        "df.isnull().sum()"
      ]
    },
    {
      "cell_type": "code",
      "execution_count": null,
      "metadata": {
        "id": "moizmYwRB4-f"
      },
      "outputs": [],
      "source": [
        "df.dropna(inplace=True)"
      ]
    },
    {
      "cell_type": "markdown",
      "metadata": {
        "id": "MvuaOCkVE9M4"
      },
      "source": [
        "Removing duplicates"
      ]
    },
    {
      "cell_type": "code",
      "execution_count": null,
      "metadata": {
        "id": "EoYMGX8yFBzk",
        "colab": {
          "base_uri": "https://localhost:8080/"
        },
        "outputId": "3b917519-55c7-475c-9530-2ba330931572"
      },
      "outputs": [
        {
          "output_type": "execute_result",
          "data": {
            "text/plain": [
              "np.int64(0)"
            ]
          },
          "metadata": {},
          "execution_count": 12
        }
      ],
      "source": [
        "df.duplicated().sum()"
      ]
    },
    {
      "cell_type": "code",
      "execution_count": null,
      "metadata": {
        "id": "oG1ggiFtFNMQ"
      },
      "outputs": [],
      "source": [
        "df.drop_duplicates(inplace=True)"
      ]
    },
    {
      "cell_type": "markdown",
      "metadata": {
        "id": "W010Bf3vG4y-"
      },
      "source": [
        "Removing unnecessary columns and rows"
      ]
    },
    {
      "cell_type": "code",
      "execution_count": null,
      "metadata": {
        "id": "1XChYlKTE4p0"
      },
      "outputs": [],
      "source": [
        "df.drop(['reviewerID','asin','reviewerName','helpful','summary','unixReviewTime','reviewTime','day_diff','helpful_yes','total_vote'], axis=1, inplace=True)"
      ]
    },
    {
      "cell_type": "code",
      "execution_count": null,
      "metadata": {
        "id": "-t4q5DKQYApS",
        "colab": {
          "base_uri": "https://localhost:8080/",
          "height": 206
        },
        "outputId": "4c392eb8-8e61-4008-f53e-39ae3e3c5f85"
      },
      "outputs": [
        {
          "output_type": "execute_result",
          "data": {
            "text/plain": [
              "                                          reviewText  overall\n",
              "1  Purchased this for my device, it worked as adv...        5\n",
              "2  it works as expected. I should have sprung for...        4\n",
              "3  This think has worked out great.Had a diff. br...        5\n",
              "4  Bought it with Retail Packaging, arrived legit...        5\n",
              "5  It's mini storage.  It doesn't do anything els...        5"
            ],
            "text/html": [
              "\n",
              "  <div id=\"df-d2ebcbae-e1d9-4880-a891-448962f2a230\" class=\"colab-df-container\">\n",
              "    <div>\n",
              "<style scoped>\n",
              "    .dataframe tbody tr th:only-of-type {\n",
              "        vertical-align: middle;\n",
              "    }\n",
              "\n",
              "    .dataframe tbody tr th {\n",
              "        vertical-align: top;\n",
              "    }\n",
              "\n",
              "    .dataframe thead th {\n",
              "        text-align: right;\n",
              "    }\n",
              "</style>\n",
              "<table border=\"1\" class=\"dataframe\">\n",
              "  <thead>\n",
              "    <tr style=\"text-align: right;\">\n",
              "      <th></th>\n",
              "      <th>reviewText</th>\n",
              "      <th>overall</th>\n",
              "    </tr>\n",
              "  </thead>\n",
              "  <tbody>\n",
              "    <tr>\n",
              "      <th>1</th>\n",
              "      <td>Purchased this for my device, it worked as adv...</td>\n",
              "      <td>5</td>\n",
              "    </tr>\n",
              "    <tr>\n",
              "      <th>2</th>\n",
              "      <td>it works as expected. I should have sprung for...</td>\n",
              "      <td>4</td>\n",
              "    </tr>\n",
              "    <tr>\n",
              "      <th>3</th>\n",
              "      <td>This think has worked out great.Had a diff. br...</td>\n",
              "      <td>5</td>\n",
              "    </tr>\n",
              "    <tr>\n",
              "      <th>4</th>\n",
              "      <td>Bought it with Retail Packaging, arrived legit...</td>\n",
              "      <td>5</td>\n",
              "    </tr>\n",
              "    <tr>\n",
              "      <th>5</th>\n",
              "      <td>It's mini storage.  It doesn't do anything els...</td>\n",
              "      <td>5</td>\n",
              "    </tr>\n",
              "  </tbody>\n",
              "</table>\n",
              "</div>\n",
              "    <div class=\"colab-df-buttons\">\n",
              "\n",
              "  <div class=\"colab-df-container\">\n",
              "    <button class=\"colab-df-convert\" onclick=\"convertToInteractive('df-d2ebcbae-e1d9-4880-a891-448962f2a230')\"\n",
              "            title=\"Convert this dataframe to an interactive table.\"\n",
              "            style=\"display:none;\">\n",
              "\n",
              "  <svg xmlns=\"http://www.w3.org/2000/svg\" height=\"24px\" viewBox=\"0 -960 960 960\">\n",
              "    <path d=\"M120-120v-720h720v720H120Zm60-500h600v-160H180v160Zm220 220h160v-160H400v160Zm0 220h160v-160H400v160ZM180-400h160v-160H180v160Zm440 0h160v-160H620v160ZM180-180h160v-160H180v160Zm440 0h160v-160H620v160Z\"/>\n",
              "  </svg>\n",
              "    </button>\n",
              "\n",
              "  <style>\n",
              "    .colab-df-container {\n",
              "      display:flex;\n",
              "      gap: 12px;\n",
              "    }\n",
              "\n",
              "    .colab-df-convert {\n",
              "      background-color: #E8F0FE;\n",
              "      border: none;\n",
              "      border-radius: 50%;\n",
              "      cursor: pointer;\n",
              "      display: none;\n",
              "      fill: #1967D2;\n",
              "      height: 32px;\n",
              "      padding: 0 0 0 0;\n",
              "      width: 32px;\n",
              "    }\n",
              "\n",
              "    .colab-df-convert:hover {\n",
              "      background-color: #E2EBFA;\n",
              "      box-shadow: 0px 1px 2px rgba(60, 64, 67, 0.3), 0px 1px 3px 1px rgba(60, 64, 67, 0.15);\n",
              "      fill: #174EA6;\n",
              "    }\n",
              "\n",
              "    .colab-df-buttons div {\n",
              "      margin-bottom: 4px;\n",
              "    }\n",
              "\n",
              "    [theme=dark] .colab-df-convert {\n",
              "      background-color: #3B4455;\n",
              "      fill: #D2E3FC;\n",
              "    }\n",
              "\n",
              "    [theme=dark] .colab-df-convert:hover {\n",
              "      background-color: #434B5C;\n",
              "      box-shadow: 0px 1px 3px 1px rgba(0, 0, 0, 0.15);\n",
              "      filter: drop-shadow(0px 1px 2px rgba(0, 0, 0, 0.3));\n",
              "      fill: #FFFFFF;\n",
              "    }\n",
              "  </style>\n",
              "\n",
              "    <script>\n",
              "      const buttonEl =\n",
              "        document.querySelector('#df-d2ebcbae-e1d9-4880-a891-448962f2a230 button.colab-df-convert');\n",
              "      buttonEl.style.display =\n",
              "        google.colab.kernel.accessAllowed ? 'block' : 'none';\n",
              "\n",
              "      async function convertToInteractive(key) {\n",
              "        const element = document.querySelector('#df-d2ebcbae-e1d9-4880-a891-448962f2a230');\n",
              "        const dataTable =\n",
              "          await google.colab.kernel.invokeFunction('convertToInteractive',\n",
              "                                                    [key], {});\n",
              "        if (!dataTable) return;\n",
              "\n",
              "        const docLinkHtml = 'Like what you see? Visit the ' +\n",
              "          '<a target=\"_blank\" href=https://colab.research.google.com/notebooks/data_table.ipynb>data table notebook</a>'\n",
              "          + ' to learn more about interactive tables.';\n",
              "        element.innerHTML = '';\n",
              "        dataTable['output_type'] = 'display_data';\n",
              "        await google.colab.output.renderOutput(dataTable, element);\n",
              "        const docLink = document.createElement('div');\n",
              "        docLink.innerHTML = docLinkHtml;\n",
              "        element.appendChild(docLink);\n",
              "      }\n",
              "    </script>\n",
              "  </div>\n",
              "\n",
              "\n",
              "    <div id=\"df-0ae5edfa-4696-49df-9edd-9528cdb4f07a\">\n",
              "      <button class=\"colab-df-quickchart\" onclick=\"quickchart('df-0ae5edfa-4696-49df-9edd-9528cdb4f07a')\"\n",
              "                title=\"Suggest charts\"\n",
              "                style=\"display:none;\">\n",
              "\n",
              "<svg xmlns=\"http://www.w3.org/2000/svg\" height=\"24px\"viewBox=\"0 0 24 24\"\n",
              "     width=\"24px\">\n",
              "    <g>\n",
              "        <path d=\"M19 3H5c-1.1 0-2 .9-2 2v14c0 1.1.9 2 2 2h14c1.1 0 2-.9 2-2V5c0-1.1-.9-2-2-2zM9 17H7v-7h2v7zm4 0h-2V7h2v10zm4 0h-2v-4h2v4z\"/>\n",
              "    </g>\n",
              "</svg>\n",
              "      </button>\n",
              "\n",
              "<style>\n",
              "  .colab-df-quickchart {\n",
              "      --bg-color: #E8F0FE;\n",
              "      --fill-color: #1967D2;\n",
              "      --hover-bg-color: #E2EBFA;\n",
              "      --hover-fill-color: #174EA6;\n",
              "      --disabled-fill-color: #AAA;\n",
              "      --disabled-bg-color: #DDD;\n",
              "  }\n",
              "\n",
              "  [theme=dark] .colab-df-quickchart {\n",
              "      --bg-color: #3B4455;\n",
              "      --fill-color: #D2E3FC;\n",
              "      --hover-bg-color: #434B5C;\n",
              "      --hover-fill-color: #FFFFFF;\n",
              "      --disabled-bg-color: #3B4455;\n",
              "      --disabled-fill-color: #666;\n",
              "  }\n",
              "\n",
              "  .colab-df-quickchart {\n",
              "    background-color: var(--bg-color);\n",
              "    border: none;\n",
              "    border-radius: 50%;\n",
              "    cursor: pointer;\n",
              "    display: none;\n",
              "    fill: var(--fill-color);\n",
              "    height: 32px;\n",
              "    padding: 0;\n",
              "    width: 32px;\n",
              "  }\n",
              "\n",
              "  .colab-df-quickchart:hover {\n",
              "    background-color: var(--hover-bg-color);\n",
              "    box-shadow: 0 1px 2px rgba(60, 64, 67, 0.3), 0 1px 3px 1px rgba(60, 64, 67, 0.15);\n",
              "    fill: var(--button-hover-fill-color);\n",
              "  }\n",
              "\n",
              "  .colab-df-quickchart-complete:disabled,\n",
              "  .colab-df-quickchart-complete:disabled:hover {\n",
              "    background-color: var(--disabled-bg-color);\n",
              "    fill: var(--disabled-fill-color);\n",
              "    box-shadow: none;\n",
              "  }\n",
              "\n",
              "  .colab-df-spinner {\n",
              "    border: 2px solid var(--fill-color);\n",
              "    border-color: transparent;\n",
              "    border-bottom-color: var(--fill-color);\n",
              "    animation:\n",
              "      spin 1s steps(1) infinite;\n",
              "  }\n",
              "\n",
              "  @keyframes spin {\n",
              "    0% {\n",
              "      border-color: transparent;\n",
              "      border-bottom-color: var(--fill-color);\n",
              "      border-left-color: var(--fill-color);\n",
              "    }\n",
              "    20% {\n",
              "      border-color: transparent;\n",
              "      border-left-color: var(--fill-color);\n",
              "      border-top-color: var(--fill-color);\n",
              "    }\n",
              "    30% {\n",
              "      border-color: transparent;\n",
              "      border-left-color: var(--fill-color);\n",
              "      border-top-color: var(--fill-color);\n",
              "      border-right-color: var(--fill-color);\n",
              "    }\n",
              "    40% {\n",
              "      border-color: transparent;\n",
              "      border-right-color: var(--fill-color);\n",
              "      border-top-color: var(--fill-color);\n",
              "    }\n",
              "    60% {\n",
              "      border-color: transparent;\n",
              "      border-right-color: var(--fill-color);\n",
              "    }\n",
              "    80% {\n",
              "      border-color: transparent;\n",
              "      border-right-color: var(--fill-color);\n",
              "      border-bottom-color: var(--fill-color);\n",
              "    }\n",
              "    90% {\n",
              "      border-color: transparent;\n",
              "      border-bottom-color: var(--fill-color);\n",
              "    }\n",
              "  }\n",
              "</style>\n",
              "\n",
              "      <script>\n",
              "        async function quickchart(key) {\n",
              "          const quickchartButtonEl =\n",
              "            document.querySelector('#' + key + ' button');\n",
              "          quickchartButtonEl.disabled = true;  // To prevent multiple clicks.\n",
              "          quickchartButtonEl.classList.add('colab-df-spinner');\n",
              "          try {\n",
              "            const charts = await google.colab.kernel.invokeFunction(\n",
              "                'suggestCharts', [key], {});\n",
              "          } catch (error) {\n",
              "            console.error('Error during call to suggestCharts:', error);\n",
              "          }\n",
              "          quickchartButtonEl.classList.remove('colab-df-spinner');\n",
              "          quickchartButtonEl.classList.add('colab-df-quickchart-complete');\n",
              "        }\n",
              "        (() => {\n",
              "          let quickchartButtonEl =\n",
              "            document.querySelector('#df-0ae5edfa-4696-49df-9edd-9528cdb4f07a button');\n",
              "          quickchartButtonEl.style.display =\n",
              "            google.colab.kernel.accessAllowed ? 'block' : 'none';\n",
              "        })();\n",
              "      </script>\n",
              "    </div>\n",
              "\n",
              "    </div>\n",
              "  </div>\n"
            ],
            "application/vnd.google.colaboratory.intrinsic+json": {
              "type": "dataframe",
              "variable_name": "df",
              "summary": "{\n  \"name\": \"df\",\n  \"rows\": 4913,\n  \"fields\": [\n    {\n      \"column\": \"reviewText\",\n      \"properties\": {\n        \"dtype\": \"string\",\n        \"num_unique_values\": 4912,\n        \"samples\": [\n          \"for the price this memory card works well and i have not had any issues with it in the surface\",\n          \"I haven't had any problems with this card.  I use it with my Galaxy S3.  The transfer speeds have been quite fast and I didn't have to format the card.  Between this card and my Dropbox, I don't ever foresee me running out of space.\",\n          \"I use SanDisk SDHC cards in my Nikon cameras. I am using this one in a SANSA ZIP CLIP which is an MP3 player.  I am very happy.Cons:  none that I can think ofPros: Fast memory, small form factor, and excessively inexpensive ($18 for 32GB)\"\n        ],\n        \"semantic_type\": \"\",\n        \"description\": \"\"\n      }\n    },\n    {\n      \"column\": \"overall\",\n      \"properties\": {\n        \"dtype\": \"number\",\n        \"std\": 0,\n        \"min\": 1,\n        \"max\": 5,\n        \"num_unique_values\": 5,\n        \"samples\": [\n          4,\n          2,\n          3\n        ],\n        \"semantic_type\": \"\",\n        \"description\": \"\"\n      }\n    }\n  ]\n}"
            }
          },
          "metadata": {},
          "execution_count": 15
        }
      ],
      "source": [
        "df.head()"
      ]
    },
    {
      "cell_type": "markdown",
      "metadata": {
        "id": "NhvYZQsvIdsW"
      },
      "source": [
        "Checking duplicate reviews"
      ]
    },
    {
      "cell_type": "code",
      "execution_count": null,
      "metadata": {
        "id": "6sJOpRxAH3uq",
        "colab": {
          "base_uri": "https://localhost:8080/"
        },
        "outputId": "1c85ff67-a6f3-4b02-ded6-018e74a8d6a6"
      },
      "outputs": [
        {
          "output_type": "stream",
          "name": "stdout",
          "text": [
            "Number of duplicate reviews: 1\n"
          ]
        }
      ],
      "source": [
        "duplicate_count = df.duplicated(subset='reviewText').sum()\n",
        "print(f\"Number of duplicate reviews: {duplicate_count}\")"
      ]
    },
    {
      "cell_type": "markdown",
      "metadata": {
        "id": "HzIywkjDIvEl"
      },
      "source": [
        "Remove duplicate reviews"
      ]
    },
    {
      "cell_type": "code",
      "execution_count": null,
      "metadata": {
        "id": "HmM4GFkaIog0"
      },
      "outputs": [],
      "source": [
        "df= df.drop_duplicates(subset='reviewText', keep='first')"
      ]
    },
    {
      "cell_type": "markdown",
      "metadata": {
        "id": "rgtSs4UsZ2jq"
      },
      "source": [
        "Sorting"
      ]
    },
    {
      "cell_type": "code",
      "execution_count": null,
      "metadata": {
        "id": "_lKIqgkIzsT-",
        "colab": {
          "base_uri": "https://localhost:8080/",
          "height": 423
        },
        "outputId": "b4ca3cb7-38c7-4494-95f3-df3c9f68564e"
      },
      "outputs": [
        {
          "output_type": "execute_result",
          "data": {
            "text/plain": [
              "                                             reviewText  overall\n",
              "32    I bought 2 of those SanDisk 32 GB microSD , us...        1\n",
              "4910  I bought this Sandisk 16GB Class 10 to use wit...        1\n",
              "1176  i still own it but card went bad after 2 weeks...        1\n",
              "1139  With all the great reviews on this card, I pic...        1\n",
              "1131  Got this product and it was fine until it just...        1\n",
              "...                                                 ...      ...\n",
              "21    Works great in a Samsung Galaxy S3.  Formatted...        5\n",
              "20    Works as expected.  High transfer speed.  Nice...        5\n",
              "19    This works with the NL1520.  No video stutteri...        5\n",
              "18    The read and write speeds are better than the ...        5\n",
              "17    Class 10 Speed Rating for Seamless Full HD Vid...        5\n",
              "\n",
              "[4912 rows x 2 columns]"
            ],
            "text/html": [
              "\n",
              "  <div id=\"df-af6e6f4a-44e0-4451-8125-65f4c8852999\" class=\"colab-df-container\">\n",
              "    <div>\n",
              "<style scoped>\n",
              "    .dataframe tbody tr th:only-of-type {\n",
              "        vertical-align: middle;\n",
              "    }\n",
              "\n",
              "    .dataframe tbody tr th {\n",
              "        vertical-align: top;\n",
              "    }\n",
              "\n",
              "    .dataframe thead th {\n",
              "        text-align: right;\n",
              "    }\n",
              "</style>\n",
              "<table border=\"1\" class=\"dataframe\">\n",
              "  <thead>\n",
              "    <tr style=\"text-align: right;\">\n",
              "      <th></th>\n",
              "      <th>reviewText</th>\n",
              "      <th>overall</th>\n",
              "    </tr>\n",
              "  </thead>\n",
              "  <tbody>\n",
              "    <tr>\n",
              "      <th>32</th>\n",
              "      <td>I bought 2 of those SanDisk 32 GB microSD , us...</td>\n",
              "      <td>1</td>\n",
              "    </tr>\n",
              "    <tr>\n",
              "      <th>4910</th>\n",
              "      <td>I bought this Sandisk 16GB Class 10 to use wit...</td>\n",
              "      <td>1</td>\n",
              "    </tr>\n",
              "    <tr>\n",
              "      <th>1176</th>\n",
              "      <td>i still own it but card went bad after 2 weeks...</td>\n",
              "      <td>1</td>\n",
              "    </tr>\n",
              "    <tr>\n",
              "      <th>1139</th>\n",
              "      <td>With all the great reviews on this card, I pic...</td>\n",
              "      <td>1</td>\n",
              "    </tr>\n",
              "    <tr>\n",
              "      <th>1131</th>\n",
              "      <td>Got this product and it was fine until it just...</td>\n",
              "      <td>1</td>\n",
              "    </tr>\n",
              "    <tr>\n",
              "      <th>...</th>\n",
              "      <td>...</td>\n",
              "      <td>...</td>\n",
              "    </tr>\n",
              "    <tr>\n",
              "      <th>21</th>\n",
              "      <td>Works great in a Samsung Galaxy S3.  Formatted...</td>\n",
              "      <td>5</td>\n",
              "    </tr>\n",
              "    <tr>\n",
              "      <th>20</th>\n",
              "      <td>Works as expected.  High transfer speed.  Nice...</td>\n",
              "      <td>5</td>\n",
              "    </tr>\n",
              "    <tr>\n",
              "      <th>19</th>\n",
              "      <td>This works with the NL1520.  No video stutteri...</td>\n",
              "      <td>5</td>\n",
              "    </tr>\n",
              "    <tr>\n",
              "      <th>18</th>\n",
              "      <td>The read and write speeds are better than the ...</td>\n",
              "      <td>5</td>\n",
              "    </tr>\n",
              "    <tr>\n",
              "      <th>17</th>\n",
              "      <td>Class 10 Speed Rating for Seamless Full HD Vid...</td>\n",
              "      <td>5</td>\n",
              "    </tr>\n",
              "  </tbody>\n",
              "</table>\n",
              "<p>4912 rows × 2 columns</p>\n",
              "</div>\n",
              "    <div class=\"colab-df-buttons\">\n",
              "\n",
              "  <div class=\"colab-df-container\">\n",
              "    <button class=\"colab-df-convert\" onclick=\"convertToInteractive('df-af6e6f4a-44e0-4451-8125-65f4c8852999')\"\n",
              "            title=\"Convert this dataframe to an interactive table.\"\n",
              "            style=\"display:none;\">\n",
              "\n",
              "  <svg xmlns=\"http://www.w3.org/2000/svg\" height=\"24px\" viewBox=\"0 -960 960 960\">\n",
              "    <path d=\"M120-120v-720h720v720H120Zm60-500h600v-160H180v160Zm220 220h160v-160H400v160Zm0 220h160v-160H400v160ZM180-400h160v-160H180v160Zm440 0h160v-160H620v160ZM180-180h160v-160H180v160Zm440 0h160v-160H620v160Z\"/>\n",
              "  </svg>\n",
              "    </button>\n",
              "\n",
              "  <style>\n",
              "    .colab-df-container {\n",
              "      display:flex;\n",
              "      gap: 12px;\n",
              "    }\n",
              "\n",
              "    .colab-df-convert {\n",
              "      background-color: #E8F0FE;\n",
              "      border: none;\n",
              "      border-radius: 50%;\n",
              "      cursor: pointer;\n",
              "      display: none;\n",
              "      fill: #1967D2;\n",
              "      height: 32px;\n",
              "      padding: 0 0 0 0;\n",
              "      width: 32px;\n",
              "    }\n",
              "\n",
              "    .colab-df-convert:hover {\n",
              "      background-color: #E2EBFA;\n",
              "      box-shadow: 0px 1px 2px rgba(60, 64, 67, 0.3), 0px 1px 3px 1px rgba(60, 64, 67, 0.15);\n",
              "      fill: #174EA6;\n",
              "    }\n",
              "\n",
              "    .colab-df-buttons div {\n",
              "      margin-bottom: 4px;\n",
              "    }\n",
              "\n",
              "    [theme=dark] .colab-df-convert {\n",
              "      background-color: #3B4455;\n",
              "      fill: #D2E3FC;\n",
              "    }\n",
              "\n",
              "    [theme=dark] .colab-df-convert:hover {\n",
              "      background-color: #434B5C;\n",
              "      box-shadow: 0px 1px 3px 1px rgba(0, 0, 0, 0.15);\n",
              "      filter: drop-shadow(0px 1px 2px rgba(0, 0, 0, 0.3));\n",
              "      fill: #FFFFFF;\n",
              "    }\n",
              "  </style>\n",
              "\n",
              "    <script>\n",
              "      const buttonEl =\n",
              "        document.querySelector('#df-af6e6f4a-44e0-4451-8125-65f4c8852999 button.colab-df-convert');\n",
              "      buttonEl.style.display =\n",
              "        google.colab.kernel.accessAllowed ? 'block' : 'none';\n",
              "\n",
              "      async function convertToInteractive(key) {\n",
              "        const element = document.querySelector('#df-af6e6f4a-44e0-4451-8125-65f4c8852999');\n",
              "        const dataTable =\n",
              "          await google.colab.kernel.invokeFunction('convertToInteractive',\n",
              "                                                    [key], {});\n",
              "        if (!dataTable) return;\n",
              "\n",
              "        const docLinkHtml = 'Like what you see? Visit the ' +\n",
              "          '<a target=\"_blank\" href=https://colab.research.google.com/notebooks/data_table.ipynb>data table notebook</a>'\n",
              "          + ' to learn more about interactive tables.';\n",
              "        element.innerHTML = '';\n",
              "        dataTable['output_type'] = 'display_data';\n",
              "        await google.colab.output.renderOutput(dataTable, element);\n",
              "        const docLink = document.createElement('div');\n",
              "        docLink.innerHTML = docLinkHtml;\n",
              "        element.appendChild(docLink);\n",
              "      }\n",
              "    </script>\n",
              "  </div>\n",
              "\n",
              "\n",
              "    <div id=\"df-63cc6897-c28d-403f-bad0-657da77221d2\">\n",
              "      <button class=\"colab-df-quickchart\" onclick=\"quickchart('df-63cc6897-c28d-403f-bad0-657da77221d2')\"\n",
              "                title=\"Suggest charts\"\n",
              "                style=\"display:none;\">\n",
              "\n",
              "<svg xmlns=\"http://www.w3.org/2000/svg\" height=\"24px\"viewBox=\"0 0 24 24\"\n",
              "     width=\"24px\">\n",
              "    <g>\n",
              "        <path d=\"M19 3H5c-1.1 0-2 .9-2 2v14c0 1.1.9 2 2 2h14c1.1 0 2-.9 2-2V5c0-1.1-.9-2-2-2zM9 17H7v-7h2v7zm4 0h-2V7h2v10zm4 0h-2v-4h2v4z\"/>\n",
              "    </g>\n",
              "</svg>\n",
              "      </button>\n",
              "\n",
              "<style>\n",
              "  .colab-df-quickchart {\n",
              "      --bg-color: #E8F0FE;\n",
              "      --fill-color: #1967D2;\n",
              "      --hover-bg-color: #E2EBFA;\n",
              "      --hover-fill-color: #174EA6;\n",
              "      --disabled-fill-color: #AAA;\n",
              "      --disabled-bg-color: #DDD;\n",
              "  }\n",
              "\n",
              "  [theme=dark] .colab-df-quickchart {\n",
              "      --bg-color: #3B4455;\n",
              "      --fill-color: #D2E3FC;\n",
              "      --hover-bg-color: #434B5C;\n",
              "      --hover-fill-color: #FFFFFF;\n",
              "      --disabled-bg-color: #3B4455;\n",
              "      --disabled-fill-color: #666;\n",
              "  }\n",
              "\n",
              "  .colab-df-quickchart {\n",
              "    background-color: var(--bg-color);\n",
              "    border: none;\n",
              "    border-radius: 50%;\n",
              "    cursor: pointer;\n",
              "    display: none;\n",
              "    fill: var(--fill-color);\n",
              "    height: 32px;\n",
              "    padding: 0;\n",
              "    width: 32px;\n",
              "  }\n",
              "\n",
              "  .colab-df-quickchart:hover {\n",
              "    background-color: var(--hover-bg-color);\n",
              "    box-shadow: 0 1px 2px rgba(60, 64, 67, 0.3), 0 1px 3px 1px rgba(60, 64, 67, 0.15);\n",
              "    fill: var(--button-hover-fill-color);\n",
              "  }\n",
              "\n",
              "  .colab-df-quickchart-complete:disabled,\n",
              "  .colab-df-quickchart-complete:disabled:hover {\n",
              "    background-color: var(--disabled-bg-color);\n",
              "    fill: var(--disabled-fill-color);\n",
              "    box-shadow: none;\n",
              "  }\n",
              "\n",
              "  .colab-df-spinner {\n",
              "    border: 2px solid var(--fill-color);\n",
              "    border-color: transparent;\n",
              "    border-bottom-color: var(--fill-color);\n",
              "    animation:\n",
              "      spin 1s steps(1) infinite;\n",
              "  }\n",
              "\n",
              "  @keyframes spin {\n",
              "    0% {\n",
              "      border-color: transparent;\n",
              "      border-bottom-color: var(--fill-color);\n",
              "      border-left-color: var(--fill-color);\n",
              "    }\n",
              "    20% {\n",
              "      border-color: transparent;\n",
              "      border-left-color: var(--fill-color);\n",
              "      border-top-color: var(--fill-color);\n",
              "    }\n",
              "    30% {\n",
              "      border-color: transparent;\n",
              "      border-left-color: var(--fill-color);\n",
              "      border-top-color: var(--fill-color);\n",
              "      border-right-color: var(--fill-color);\n",
              "    }\n",
              "    40% {\n",
              "      border-color: transparent;\n",
              "      border-right-color: var(--fill-color);\n",
              "      border-top-color: var(--fill-color);\n",
              "    }\n",
              "    60% {\n",
              "      border-color: transparent;\n",
              "      border-right-color: var(--fill-color);\n",
              "    }\n",
              "    80% {\n",
              "      border-color: transparent;\n",
              "      border-right-color: var(--fill-color);\n",
              "      border-bottom-color: var(--fill-color);\n",
              "    }\n",
              "    90% {\n",
              "      border-color: transparent;\n",
              "      border-bottom-color: var(--fill-color);\n",
              "    }\n",
              "  }\n",
              "</style>\n",
              "\n",
              "      <script>\n",
              "        async function quickchart(key) {\n",
              "          const quickchartButtonEl =\n",
              "            document.querySelector('#' + key + ' button');\n",
              "          quickchartButtonEl.disabled = true;  // To prevent multiple clicks.\n",
              "          quickchartButtonEl.classList.add('colab-df-spinner');\n",
              "          try {\n",
              "            const charts = await google.colab.kernel.invokeFunction(\n",
              "                'suggestCharts', [key], {});\n",
              "          } catch (error) {\n",
              "            console.error('Error during call to suggestCharts:', error);\n",
              "          }\n",
              "          quickchartButtonEl.classList.remove('colab-df-spinner');\n",
              "          quickchartButtonEl.classList.add('colab-df-quickchart-complete');\n",
              "        }\n",
              "        (() => {\n",
              "          let quickchartButtonEl =\n",
              "            document.querySelector('#df-63cc6897-c28d-403f-bad0-657da77221d2 button');\n",
              "          quickchartButtonEl.style.display =\n",
              "            google.colab.kernel.accessAllowed ? 'block' : 'none';\n",
              "        })();\n",
              "      </script>\n",
              "    </div>\n",
              "\n",
              "    </div>\n",
              "  </div>\n"
            ],
            "application/vnd.google.colaboratory.intrinsic+json": {
              "type": "dataframe",
              "summary": "{\n  \"name\": \"df\",\n  \"rows\": 4912,\n  \"fields\": [\n    {\n      \"column\": \"reviewText\",\n      \"properties\": {\n        \"dtype\": \"string\",\n        \"num_unique_values\": 4912,\n        \"samples\": [\n          \"It works, got on Black Fri deal or would have been cheap and gotten a 16-32GB. Nice to have endless room....I already have watched a movie while surfing net on phone (with pop out player). I have such a awesome phone now. It comes with a Standard SD Card adapter!!!!Funny story:I plugged it in and went to format and my phone wanted a password to format card. Dude I could not find anything about this and online some people asked the same question. Well, I realized what it was. If you have a lock screen on your phone, then it also puts that lock on formatting your card. What a Great idea Samsung thank you! What a duh moment for me.\",\n          \"Fast shipping & delivered as described.Phone did not recognize the card right away. I had to format it as FAT32 on the computer but it showed capacity of 32GB. To get the full capacity I had to format it again on the phone (exFAT format) now shows 64GB.Excellent capacity for lots of media files & documents.\",\n          \"Price was right, shipping quick, Class 10 card for HD video in my GoPro.Hard to rate it since memory cards are pretty much memory cards. Nothing jumps out as excellent so that is why 4 of 5.\"\n        ],\n        \"semantic_type\": \"\",\n        \"description\": \"\"\n      }\n    },\n    {\n      \"column\": \"overall\",\n      \"properties\": {\n        \"dtype\": \"number\",\n        \"std\": 0,\n        \"min\": 1,\n        \"max\": 5,\n        \"num_unique_values\": 5,\n        \"samples\": [\n          2,\n          5,\n          3\n        ],\n        \"semantic_type\": \"\",\n        \"description\": \"\"\n      }\n    }\n  ]\n}"
            }
          },
          "metadata": {},
          "execution_count": 18
        }
      ],
      "source": [
        "df.sort_values(by='overall', ascending=True)"
      ]
    },
    {
      "cell_type": "markdown",
      "metadata": {
        "id": "o1H0PwicZxWe"
      },
      "source": [
        "Rename columns"
      ]
    },
    {
      "cell_type": "code",
      "execution_count": null,
      "metadata": {
        "id": "-02yTv0YYh7J"
      },
      "outputs": [],
      "source": [
        "df.rename(columns={'overall': 'Rating'}, inplace=True)\n",
        "df.rename(columns={'reviewText': 'Reviews'}, inplace=True)"
      ]
    },
    {
      "cell_type": "markdown",
      "metadata": {
        "id": "chL62wgSTG7l"
      },
      "source": [
        "Rating count"
      ]
    },
    {
      "cell_type": "code",
      "execution_count": null,
      "metadata": {
        "id": "C1hoRr99TE3u",
        "colab": {
          "base_uri": "https://localhost:8080/"
        },
        "outputId": "ccddec55-fd52-4b58-c8b6-de3cd28153cc"
      },
      "outputs": [
        {
          "output_type": "stream",
          "name": "stdout",
          "text": [
            "Rating\n",
            "1     244\n",
            "2      80\n",
            "3     142\n",
            "4     525\n",
            "5    3921\n",
            "Name: count, dtype: int64\n"
          ]
        }
      ],
      "source": [
        "rating_counts = df['Rating'].value_counts().sort_index()\n",
        "print(rating_counts)"
      ]
    },
    {
      "cell_type": "markdown",
      "metadata": {
        "id": "KEe4UcVKJBG5"
      },
      "source": [
        "Reset index for cleaner dataframes"
      ]
    },
    {
      "cell_type": "code",
      "execution_count": null,
      "metadata": {
        "id": "vgzNinSyI5zy"
      },
      "outputs": [],
      "source": [
        "df.reset_index(drop=True, inplace=True)"
      ]
    },
    {
      "cell_type": "markdown",
      "metadata": {
        "id": "xvUUOPgfCzlT"
      },
      "source": [
        "Save cleaned data"
      ]
    },
    {
      "cell_type": "code",
      "execution_count": null,
      "metadata": {
        "id": "IpN3dQeSRh9d"
      },
      "outputs": [],
      "source": [
        "df.to_csv('/content/cleaned_data.csv', index=False)"
      ]
    },
    {
      "cell_type": "markdown",
      "metadata": {
        "id": "qt-ff4RcUAKy"
      },
      "source": [
        "Load data"
      ]
    },
    {
      "cell_type": "code",
      "execution_count": null,
      "metadata": {
        "id": "_s7vw1a0SFCz"
      },
      "outputs": [],
      "source": [
        "df3 = pd.read_csv('/content/Food_reviews.csv', on_bad_lines='skip',engine='python')"
      ]
    },
    {
      "cell_type": "code",
      "execution_count": null,
      "metadata": {
        "colab": {
          "base_uri": "https://localhost:8080/",
          "height": 206
        },
        "id": "9Ba69pL5xlkQ",
        "outputId": "18dc62b7-f03b-4dcc-ae57-bbe91929fa40"
      },
      "outputs": [
        {
          "output_type": "execute_result",
          "data": {
            "text/plain": [
              "   Id   ProductId          UserId                      ProfileName  \\\n",
              "0   1  B001E4KFG0  A3SGXH7AUHU8GW                       delmartian   \n",
              "1   2  B00813GRG4  A1D87F6ZCVE5NK                           dll pa   \n",
              "2   3  B000LQOCH0   ABXLMWJIXXAIN  Natalia Corres \"Natalia Corres\"   \n",
              "3   4  B000UA0QIQ  A395BORC6FGVXV                             Karl   \n",
              "4   5  B006K2ZZ7K  A1UQRSCLF8GW1T    Michael D. Bigham \"M. Wassir\"   \n",
              "\n",
              "   HelpfulnessNumerator  HelpfulnessDenominator  Score        Time  \\\n",
              "0                     1                       1      5  1303862400   \n",
              "1                     0                       0      1  1346976000   \n",
              "2                     1                       1      4  1219017600   \n",
              "3                     3                       3      2  1307923200   \n",
              "4                     0                       0      5  1350777600   \n",
              "\n",
              "                 Summary                                               Text  \n",
              "0  Good Quality Dog Food  I have bought several of the Vitality canned d...  \n",
              "1      Not as Advertised  Product arrived labeled as Jumbo Salted Peanut...  \n",
              "2  \"Delight\" says it all  This is a confection that has been around a fe...  \n",
              "3         Cough Medicine  If you are looking for the secret ingredient i...  \n",
              "4            Great taffy  Great taffy at a great price.  There was a wid...  "
            ],
            "text/html": [
              "\n",
              "  <div id=\"df-adc4a26e-7092-4b63-ab3b-52e9c0e954cf\" class=\"colab-df-container\">\n",
              "    <div>\n",
              "<style scoped>\n",
              "    .dataframe tbody tr th:only-of-type {\n",
              "        vertical-align: middle;\n",
              "    }\n",
              "\n",
              "    .dataframe tbody tr th {\n",
              "        vertical-align: top;\n",
              "    }\n",
              "\n",
              "    .dataframe thead th {\n",
              "        text-align: right;\n",
              "    }\n",
              "</style>\n",
              "<table border=\"1\" class=\"dataframe\">\n",
              "  <thead>\n",
              "    <tr style=\"text-align: right;\">\n",
              "      <th></th>\n",
              "      <th>Id</th>\n",
              "      <th>ProductId</th>\n",
              "      <th>UserId</th>\n",
              "      <th>ProfileName</th>\n",
              "      <th>HelpfulnessNumerator</th>\n",
              "      <th>HelpfulnessDenominator</th>\n",
              "      <th>Score</th>\n",
              "      <th>Time</th>\n",
              "      <th>Summary</th>\n",
              "      <th>Text</th>\n",
              "    </tr>\n",
              "  </thead>\n",
              "  <tbody>\n",
              "    <tr>\n",
              "      <th>0</th>\n",
              "      <td>1</td>\n",
              "      <td>B001E4KFG0</td>\n",
              "      <td>A3SGXH7AUHU8GW</td>\n",
              "      <td>delmartian</td>\n",
              "      <td>1</td>\n",
              "      <td>1</td>\n",
              "      <td>5</td>\n",
              "      <td>1303862400</td>\n",
              "      <td>Good Quality Dog Food</td>\n",
              "      <td>I have bought several of the Vitality canned d...</td>\n",
              "    </tr>\n",
              "    <tr>\n",
              "      <th>1</th>\n",
              "      <td>2</td>\n",
              "      <td>B00813GRG4</td>\n",
              "      <td>A1D87F6ZCVE5NK</td>\n",
              "      <td>dll pa</td>\n",
              "      <td>0</td>\n",
              "      <td>0</td>\n",
              "      <td>1</td>\n",
              "      <td>1346976000</td>\n",
              "      <td>Not as Advertised</td>\n",
              "      <td>Product arrived labeled as Jumbo Salted Peanut...</td>\n",
              "    </tr>\n",
              "    <tr>\n",
              "      <th>2</th>\n",
              "      <td>3</td>\n",
              "      <td>B000LQOCH0</td>\n",
              "      <td>ABXLMWJIXXAIN</td>\n",
              "      <td>Natalia Corres \"Natalia Corres\"</td>\n",
              "      <td>1</td>\n",
              "      <td>1</td>\n",
              "      <td>4</td>\n",
              "      <td>1219017600</td>\n",
              "      <td>\"Delight\" says it all</td>\n",
              "      <td>This is a confection that has been around a fe...</td>\n",
              "    </tr>\n",
              "    <tr>\n",
              "      <th>3</th>\n",
              "      <td>4</td>\n",
              "      <td>B000UA0QIQ</td>\n",
              "      <td>A395BORC6FGVXV</td>\n",
              "      <td>Karl</td>\n",
              "      <td>3</td>\n",
              "      <td>3</td>\n",
              "      <td>2</td>\n",
              "      <td>1307923200</td>\n",
              "      <td>Cough Medicine</td>\n",
              "      <td>If you are looking for the secret ingredient i...</td>\n",
              "    </tr>\n",
              "    <tr>\n",
              "      <th>4</th>\n",
              "      <td>5</td>\n",
              "      <td>B006K2ZZ7K</td>\n",
              "      <td>A1UQRSCLF8GW1T</td>\n",
              "      <td>Michael D. Bigham \"M. Wassir\"</td>\n",
              "      <td>0</td>\n",
              "      <td>0</td>\n",
              "      <td>5</td>\n",
              "      <td>1350777600</td>\n",
              "      <td>Great taffy</td>\n",
              "      <td>Great taffy at a great price.  There was a wid...</td>\n",
              "    </tr>\n",
              "  </tbody>\n",
              "</table>\n",
              "</div>\n",
              "    <div class=\"colab-df-buttons\">\n",
              "\n",
              "  <div class=\"colab-df-container\">\n",
              "    <button class=\"colab-df-convert\" onclick=\"convertToInteractive('df-adc4a26e-7092-4b63-ab3b-52e9c0e954cf')\"\n",
              "            title=\"Convert this dataframe to an interactive table.\"\n",
              "            style=\"display:none;\">\n",
              "\n",
              "  <svg xmlns=\"http://www.w3.org/2000/svg\" height=\"24px\" viewBox=\"0 -960 960 960\">\n",
              "    <path d=\"M120-120v-720h720v720H120Zm60-500h600v-160H180v160Zm220 220h160v-160H400v160Zm0 220h160v-160H400v160ZM180-400h160v-160H180v160Zm440 0h160v-160H620v160ZM180-180h160v-160H180v160Zm440 0h160v-160H620v160Z\"/>\n",
              "  </svg>\n",
              "    </button>\n",
              "\n",
              "  <style>\n",
              "    .colab-df-container {\n",
              "      display:flex;\n",
              "      gap: 12px;\n",
              "    }\n",
              "\n",
              "    .colab-df-convert {\n",
              "      background-color: #E8F0FE;\n",
              "      border: none;\n",
              "      border-radius: 50%;\n",
              "      cursor: pointer;\n",
              "      display: none;\n",
              "      fill: #1967D2;\n",
              "      height: 32px;\n",
              "      padding: 0 0 0 0;\n",
              "      width: 32px;\n",
              "    }\n",
              "\n",
              "    .colab-df-convert:hover {\n",
              "      background-color: #E2EBFA;\n",
              "      box-shadow: 0px 1px 2px rgba(60, 64, 67, 0.3), 0px 1px 3px 1px rgba(60, 64, 67, 0.15);\n",
              "      fill: #174EA6;\n",
              "    }\n",
              "\n",
              "    .colab-df-buttons div {\n",
              "      margin-bottom: 4px;\n",
              "    }\n",
              "\n",
              "    [theme=dark] .colab-df-convert {\n",
              "      background-color: #3B4455;\n",
              "      fill: #D2E3FC;\n",
              "    }\n",
              "\n",
              "    [theme=dark] .colab-df-convert:hover {\n",
              "      background-color: #434B5C;\n",
              "      box-shadow: 0px 1px 3px 1px rgba(0, 0, 0, 0.15);\n",
              "      filter: drop-shadow(0px 1px 2px rgba(0, 0, 0, 0.3));\n",
              "      fill: #FFFFFF;\n",
              "    }\n",
              "  </style>\n",
              "\n",
              "    <script>\n",
              "      const buttonEl =\n",
              "        document.querySelector('#df-adc4a26e-7092-4b63-ab3b-52e9c0e954cf button.colab-df-convert');\n",
              "      buttonEl.style.display =\n",
              "        google.colab.kernel.accessAllowed ? 'block' : 'none';\n",
              "\n",
              "      async function convertToInteractive(key) {\n",
              "        const element = document.querySelector('#df-adc4a26e-7092-4b63-ab3b-52e9c0e954cf');\n",
              "        const dataTable =\n",
              "          await google.colab.kernel.invokeFunction('convertToInteractive',\n",
              "                                                    [key], {});\n",
              "        if (!dataTable) return;\n",
              "\n",
              "        const docLinkHtml = 'Like what you see? Visit the ' +\n",
              "          '<a target=\"_blank\" href=https://colab.research.google.com/notebooks/data_table.ipynb>data table notebook</a>'\n",
              "          + ' to learn more about interactive tables.';\n",
              "        element.innerHTML = '';\n",
              "        dataTable['output_type'] = 'display_data';\n",
              "        await google.colab.output.renderOutput(dataTable, element);\n",
              "        const docLink = document.createElement('div');\n",
              "        docLink.innerHTML = docLinkHtml;\n",
              "        element.appendChild(docLink);\n",
              "      }\n",
              "    </script>\n",
              "  </div>\n",
              "\n",
              "\n",
              "    <div id=\"df-112dd941-aaf4-4ee2-895b-2241dad3d329\">\n",
              "      <button class=\"colab-df-quickchart\" onclick=\"quickchart('df-112dd941-aaf4-4ee2-895b-2241dad3d329')\"\n",
              "                title=\"Suggest charts\"\n",
              "                style=\"display:none;\">\n",
              "\n",
              "<svg xmlns=\"http://www.w3.org/2000/svg\" height=\"24px\"viewBox=\"0 0 24 24\"\n",
              "     width=\"24px\">\n",
              "    <g>\n",
              "        <path d=\"M19 3H5c-1.1 0-2 .9-2 2v14c0 1.1.9 2 2 2h14c1.1 0 2-.9 2-2V5c0-1.1-.9-2-2-2zM9 17H7v-7h2v7zm4 0h-2V7h2v10zm4 0h-2v-4h2v4z\"/>\n",
              "    </g>\n",
              "</svg>\n",
              "      </button>\n",
              "\n",
              "<style>\n",
              "  .colab-df-quickchart {\n",
              "      --bg-color: #E8F0FE;\n",
              "      --fill-color: #1967D2;\n",
              "      --hover-bg-color: #E2EBFA;\n",
              "      --hover-fill-color: #174EA6;\n",
              "      --disabled-fill-color: #AAA;\n",
              "      --disabled-bg-color: #DDD;\n",
              "  }\n",
              "\n",
              "  [theme=dark] .colab-df-quickchart {\n",
              "      --bg-color: #3B4455;\n",
              "      --fill-color: #D2E3FC;\n",
              "      --hover-bg-color: #434B5C;\n",
              "      --hover-fill-color: #FFFFFF;\n",
              "      --disabled-bg-color: #3B4455;\n",
              "      --disabled-fill-color: #666;\n",
              "  }\n",
              "\n",
              "  .colab-df-quickchart {\n",
              "    background-color: var(--bg-color);\n",
              "    border: none;\n",
              "    border-radius: 50%;\n",
              "    cursor: pointer;\n",
              "    display: none;\n",
              "    fill: var(--fill-color);\n",
              "    height: 32px;\n",
              "    padding: 0;\n",
              "    width: 32px;\n",
              "  }\n",
              "\n",
              "  .colab-df-quickchart:hover {\n",
              "    background-color: var(--hover-bg-color);\n",
              "    box-shadow: 0 1px 2px rgba(60, 64, 67, 0.3), 0 1px 3px 1px rgba(60, 64, 67, 0.15);\n",
              "    fill: var(--button-hover-fill-color);\n",
              "  }\n",
              "\n",
              "  .colab-df-quickchart-complete:disabled,\n",
              "  .colab-df-quickchart-complete:disabled:hover {\n",
              "    background-color: var(--disabled-bg-color);\n",
              "    fill: var(--disabled-fill-color);\n",
              "    box-shadow: none;\n",
              "  }\n",
              "\n",
              "  .colab-df-spinner {\n",
              "    border: 2px solid var(--fill-color);\n",
              "    border-color: transparent;\n",
              "    border-bottom-color: var(--fill-color);\n",
              "    animation:\n",
              "      spin 1s steps(1) infinite;\n",
              "  }\n",
              "\n",
              "  @keyframes spin {\n",
              "    0% {\n",
              "      border-color: transparent;\n",
              "      border-bottom-color: var(--fill-color);\n",
              "      border-left-color: var(--fill-color);\n",
              "    }\n",
              "    20% {\n",
              "      border-color: transparent;\n",
              "      border-left-color: var(--fill-color);\n",
              "      border-top-color: var(--fill-color);\n",
              "    }\n",
              "    30% {\n",
              "      border-color: transparent;\n",
              "      border-left-color: var(--fill-color);\n",
              "      border-top-color: var(--fill-color);\n",
              "      border-right-color: var(--fill-color);\n",
              "    }\n",
              "    40% {\n",
              "      border-color: transparent;\n",
              "      border-right-color: var(--fill-color);\n",
              "      border-top-color: var(--fill-color);\n",
              "    }\n",
              "    60% {\n",
              "      border-color: transparent;\n",
              "      border-right-color: var(--fill-color);\n",
              "    }\n",
              "    80% {\n",
              "      border-color: transparent;\n",
              "      border-right-color: var(--fill-color);\n",
              "      border-bottom-color: var(--fill-color);\n",
              "    }\n",
              "    90% {\n",
              "      border-color: transparent;\n",
              "      border-bottom-color: var(--fill-color);\n",
              "    }\n",
              "  }\n",
              "</style>\n",
              "\n",
              "      <script>\n",
              "        async function quickchart(key) {\n",
              "          const quickchartButtonEl =\n",
              "            document.querySelector('#' + key + ' button');\n",
              "          quickchartButtonEl.disabled = true;  // To prevent multiple clicks.\n",
              "          quickchartButtonEl.classList.add('colab-df-spinner');\n",
              "          try {\n",
              "            const charts = await google.colab.kernel.invokeFunction(\n",
              "                'suggestCharts', [key], {});\n",
              "          } catch (error) {\n",
              "            console.error('Error during call to suggestCharts:', error);\n",
              "          }\n",
              "          quickchartButtonEl.classList.remove('colab-df-spinner');\n",
              "          quickchartButtonEl.classList.add('colab-df-quickchart-complete');\n",
              "        }\n",
              "        (() => {\n",
              "          let quickchartButtonEl =\n",
              "            document.querySelector('#df-112dd941-aaf4-4ee2-895b-2241dad3d329 button');\n",
              "          quickchartButtonEl.style.display =\n",
              "            google.colab.kernel.accessAllowed ? 'block' : 'none';\n",
              "        })();\n",
              "      </script>\n",
              "    </div>\n",
              "\n",
              "    </div>\n",
              "  </div>\n"
            ],
            "application/vnd.google.colaboratory.intrinsic+json": {
              "type": "dataframe",
              "variable_name": "df3"
            }
          },
          "metadata": {},
          "execution_count": 24
        }
      ],
      "source": [
        "df3.head()"
      ]
    },
    {
      "cell_type": "markdown",
      "metadata": {
        "id": "bvH7qH4RUDFO"
      },
      "source": [
        "Dropping columns"
      ]
    },
    {
      "cell_type": "code",
      "execution_count": null,
      "metadata": {
        "id": "o1hhqTGaSj09"
      },
      "outputs": [],
      "source": [
        "df3 = df3.drop([\"Id\", \"ProductId\", \"UserId\",\"ProfileName\",\"HelpfulnessDenominator\",\"HelpfulnessNumerator\",\"Time\",\"Summary\"], axis=1)"
      ]
    },
    {
      "cell_type": "code",
      "execution_count": null,
      "metadata": {
        "colab": {
          "base_uri": "https://localhost:8080/",
          "height": 206
        },
        "id": "QO0Bkyio2FYZ",
        "outputId": "c7bd7e28-6ff6-4b80-ef1b-bfc9831f1775"
      },
      "outputs": [
        {
          "output_type": "execute_result",
          "data": {
            "text/plain": [
              "   Score                                               Text\n",
              "0      5  I have bought several of the Vitality canned d...\n",
              "1      1  Product arrived labeled as Jumbo Salted Peanut...\n",
              "2      4  This is a confection that has been around a fe...\n",
              "3      2  If you are looking for the secret ingredient i...\n",
              "4      5  Great taffy at a great price.  There was a wid..."
            ],
            "text/html": [
              "\n",
              "  <div id=\"df-cd5852a1-24a4-4c86-bc9e-d53e555ce110\" class=\"colab-df-container\">\n",
              "    <div>\n",
              "<style scoped>\n",
              "    .dataframe tbody tr th:only-of-type {\n",
              "        vertical-align: middle;\n",
              "    }\n",
              "\n",
              "    .dataframe tbody tr th {\n",
              "        vertical-align: top;\n",
              "    }\n",
              "\n",
              "    .dataframe thead th {\n",
              "        text-align: right;\n",
              "    }\n",
              "</style>\n",
              "<table border=\"1\" class=\"dataframe\">\n",
              "  <thead>\n",
              "    <tr style=\"text-align: right;\">\n",
              "      <th></th>\n",
              "      <th>Score</th>\n",
              "      <th>Text</th>\n",
              "    </tr>\n",
              "  </thead>\n",
              "  <tbody>\n",
              "    <tr>\n",
              "      <th>0</th>\n",
              "      <td>5</td>\n",
              "      <td>I have bought several of the Vitality canned d...</td>\n",
              "    </tr>\n",
              "    <tr>\n",
              "      <th>1</th>\n",
              "      <td>1</td>\n",
              "      <td>Product arrived labeled as Jumbo Salted Peanut...</td>\n",
              "    </tr>\n",
              "    <tr>\n",
              "      <th>2</th>\n",
              "      <td>4</td>\n",
              "      <td>This is a confection that has been around a fe...</td>\n",
              "    </tr>\n",
              "    <tr>\n",
              "      <th>3</th>\n",
              "      <td>2</td>\n",
              "      <td>If you are looking for the secret ingredient i...</td>\n",
              "    </tr>\n",
              "    <tr>\n",
              "      <th>4</th>\n",
              "      <td>5</td>\n",
              "      <td>Great taffy at a great price.  There was a wid...</td>\n",
              "    </tr>\n",
              "  </tbody>\n",
              "</table>\n",
              "</div>\n",
              "    <div class=\"colab-df-buttons\">\n",
              "\n",
              "  <div class=\"colab-df-container\">\n",
              "    <button class=\"colab-df-convert\" onclick=\"convertToInteractive('df-cd5852a1-24a4-4c86-bc9e-d53e555ce110')\"\n",
              "            title=\"Convert this dataframe to an interactive table.\"\n",
              "            style=\"display:none;\">\n",
              "\n",
              "  <svg xmlns=\"http://www.w3.org/2000/svg\" height=\"24px\" viewBox=\"0 -960 960 960\">\n",
              "    <path d=\"M120-120v-720h720v720H120Zm60-500h600v-160H180v160Zm220 220h160v-160H400v160Zm0 220h160v-160H400v160ZM180-400h160v-160H180v160Zm440 0h160v-160H620v160ZM180-180h160v-160H180v160Zm440 0h160v-160H620v160Z\"/>\n",
              "  </svg>\n",
              "    </button>\n",
              "\n",
              "  <style>\n",
              "    .colab-df-container {\n",
              "      display:flex;\n",
              "      gap: 12px;\n",
              "    }\n",
              "\n",
              "    .colab-df-convert {\n",
              "      background-color: #E8F0FE;\n",
              "      border: none;\n",
              "      border-radius: 50%;\n",
              "      cursor: pointer;\n",
              "      display: none;\n",
              "      fill: #1967D2;\n",
              "      height: 32px;\n",
              "      padding: 0 0 0 0;\n",
              "      width: 32px;\n",
              "    }\n",
              "\n",
              "    .colab-df-convert:hover {\n",
              "      background-color: #E2EBFA;\n",
              "      box-shadow: 0px 1px 2px rgba(60, 64, 67, 0.3), 0px 1px 3px 1px rgba(60, 64, 67, 0.15);\n",
              "      fill: #174EA6;\n",
              "    }\n",
              "\n",
              "    .colab-df-buttons div {\n",
              "      margin-bottom: 4px;\n",
              "    }\n",
              "\n",
              "    [theme=dark] .colab-df-convert {\n",
              "      background-color: #3B4455;\n",
              "      fill: #D2E3FC;\n",
              "    }\n",
              "\n",
              "    [theme=dark] .colab-df-convert:hover {\n",
              "      background-color: #434B5C;\n",
              "      box-shadow: 0px 1px 3px 1px rgba(0, 0, 0, 0.15);\n",
              "      filter: drop-shadow(0px 1px 2px rgba(0, 0, 0, 0.3));\n",
              "      fill: #FFFFFF;\n",
              "    }\n",
              "  </style>\n",
              "\n",
              "    <script>\n",
              "      const buttonEl =\n",
              "        document.querySelector('#df-cd5852a1-24a4-4c86-bc9e-d53e555ce110 button.colab-df-convert');\n",
              "      buttonEl.style.display =\n",
              "        google.colab.kernel.accessAllowed ? 'block' : 'none';\n",
              "\n",
              "      async function convertToInteractive(key) {\n",
              "        const element = document.querySelector('#df-cd5852a1-24a4-4c86-bc9e-d53e555ce110');\n",
              "        const dataTable =\n",
              "          await google.colab.kernel.invokeFunction('convertToInteractive',\n",
              "                                                    [key], {});\n",
              "        if (!dataTable) return;\n",
              "\n",
              "        const docLinkHtml = 'Like what you see? Visit the ' +\n",
              "          '<a target=\"_blank\" href=https://colab.research.google.com/notebooks/data_table.ipynb>data table notebook</a>'\n",
              "          + ' to learn more about interactive tables.';\n",
              "        element.innerHTML = '';\n",
              "        dataTable['output_type'] = 'display_data';\n",
              "        await google.colab.output.renderOutput(dataTable, element);\n",
              "        const docLink = document.createElement('div');\n",
              "        docLink.innerHTML = docLinkHtml;\n",
              "        element.appendChild(docLink);\n",
              "      }\n",
              "    </script>\n",
              "  </div>\n",
              "\n",
              "\n",
              "    <div id=\"df-23022daf-5324-41ef-97dc-c3a03db3e69b\">\n",
              "      <button class=\"colab-df-quickchart\" onclick=\"quickchart('df-23022daf-5324-41ef-97dc-c3a03db3e69b')\"\n",
              "                title=\"Suggest charts\"\n",
              "                style=\"display:none;\">\n",
              "\n",
              "<svg xmlns=\"http://www.w3.org/2000/svg\" height=\"24px\"viewBox=\"0 0 24 24\"\n",
              "     width=\"24px\">\n",
              "    <g>\n",
              "        <path d=\"M19 3H5c-1.1 0-2 .9-2 2v14c0 1.1.9 2 2 2h14c1.1 0 2-.9 2-2V5c0-1.1-.9-2-2-2zM9 17H7v-7h2v7zm4 0h-2V7h2v10zm4 0h-2v-4h2v4z\"/>\n",
              "    </g>\n",
              "</svg>\n",
              "      </button>\n",
              "\n",
              "<style>\n",
              "  .colab-df-quickchart {\n",
              "      --bg-color: #E8F0FE;\n",
              "      --fill-color: #1967D2;\n",
              "      --hover-bg-color: #E2EBFA;\n",
              "      --hover-fill-color: #174EA6;\n",
              "      --disabled-fill-color: #AAA;\n",
              "      --disabled-bg-color: #DDD;\n",
              "  }\n",
              "\n",
              "  [theme=dark] .colab-df-quickchart {\n",
              "      --bg-color: #3B4455;\n",
              "      --fill-color: #D2E3FC;\n",
              "      --hover-bg-color: #434B5C;\n",
              "      --hover-fill-color: #FFFFFF;\n",
              "      --disabled-bg-color: #3B4455;\n",
              "      --disabled-fill-color: #666;\n",
              "  }\n",
              "\n",
              "  .colab-df-quickchart {\n",
              "    background-color: var(--bg-color);\n",
              "    border: none;\n",
              "    border-radius: 50%;\n",
              "    cursor: pointer;\n",
              "    display: none;\n",
              "    fill: var(--fill-color);\n",
              "    height: 32px;\n",
              "    padding: 0;\n",
              "    width: 32px;\n",
              "  }\n",
              "\n",
              "  .colab-df-quickchart:hover {\n",
              "    background-color: var(--hover-bg-color);\n",
              "    box-shadow: 0 1px 2px rgba(60, 64, 67, 0.3), 0 1px 3px 1px rgba(60, 64, 67, 0.15);\n",
              "    fill: var(--button-hover-fill-color);\n",
              "  }\n",
              "\n",
              "  .colab-df-quickchart-complete:disabled,\n",
              "  .colab-df-quickchart-complete:disabled:hover {\n",
              "    background-color: var(--disabled-bg-color);\n",
              "    fill: var(--disabled-fill-color);\n",
              "    box-shadow: none;\n",
              "  }\n",
              "\n",
              "  .colab-df-spinner {\n",
              "    border: 2px solid var(--fill-color);\n",
              "    border-color: transparent;\n",
              "    border-bottom-color: var(--fill-color);\n",
              "    animation:\n",
              "      spin 1s steps(1) infinite;\n",
              "  }\n",
              "\n",
              "  @keyframes spin {\n",
              "    0% {\n",
              "      border-color: transparent;\n",
              "      border-bottom-color: var(--fill-color);\n",
              "      border-left-color: var(--fill-color);\n",
              "    }\n",
              "    20% {\n",
              "      border-color: transparent;\n",
              "      border-left-color: var(--fill-color);\n",
              "      border-top-color: var(--fill-color);\n",
              "    }\n",
              "    30% {\n",
              "      border-color: transparent;\n",
              "      border-left-color: var(--fill-color);\n",
              "      border-top-color: var(--fill-color);\n",
              "      border-right-color: var(--fill-color);\n",
              "    }\n",
              "    40% {\n",
              "      border-color: transparent;\n",
              "      border-right-color: var(--fill-color);\n",
              "      border-top-color: var(--fill-color);\n",
              "    }\n",
              "    60% {\n",
              "      border-color: transparent;\n",
              "      border-right-color: var(--fill-color);\n",
              "    }\n",
              "    80% {\n",
              "      border-color: transparent;\n",
              "      border-right-color: var(--fill-color);\n",
              "      border-bottom-color: var(--fill-color);\n",
              "    }\n",
              "    90% {\n",
              "      border-color: transparent;\n",
              "      border-bottom-color: var(--fill-color);\n",
              "    }\n",
              "  }\n",
              "</style>\n",
              "\n",
              "      <script>\n",
              "        async function quickchart(key) {\n",
              "          const quickchartButtonEl =\n",
              "            document.querySelector('#' + key + ' button');\n",
              "          quickchartButtonEl.disabled = true;  // To prevent multiple clicks.\n",
              "          quickchartButtonEl.classList.add('colab-df-spinner');\n",
              "          try {\n",
              "            const charts = await google.colab.kernel.invokeFunction(\n",
              "                'suggestCharts', [key], {});\n",
              "          } catch (error) {\n",
              "            console.error('Error during call to suggestCharts:', error);\n",
              "          }\n",
              "          quickchartButtonEl.classList.remove('colab-df-spinner');\n",
              "          quickchartButtonEl.classList.add('colab-df-quickchart-complete');\n",
              "        }\n",
              "        (() => {\n",
              "          let quickchartButtonEl =\n",
              "            document.querySelector('#df-23022daf-5324-41ef-97dc-c3a03db3e69b button');\n",
              "          quickchartButtonEl.style.display =\n",
              "            google.colab.kernel.accessAllowed ? 'block' : 'none';\n",
              "        })();\n",
              "      </script>\n",
              "    </div>\n",
              "\n",
              "    </div>\n",
              "  </div>\n"
            ],
            "application/vnd.google.colaboratory.intrinsic+json": {
              "type": "dataframe",
              "variable_name": "df3"
            }
          },
          "metadata": {},
          "execution_count": 26
        }
      ],
      "source": [
        "df3.head()"
      ]
    },
    {
      "cell_type": "markdown",
      "metadata": {
        "id": "10SZ9VJnM4yL"
      },
      "source": [
        "Renaming columns"
      ]
    },
    {
      "cell_type": "code",
      "execution_count": null,
      "metadata": {
        "id": "aZxZJ9C20I5r"
      },
      "outputs": [],
      "source": [
        "df3 = df3[[\"Score\", \"Text\"]]\n",
        "df3 = df3.rename(columns={\"Text\": \"Reviews\", \"Score\": \"Rating\"})"
      ]
    },
    {
      "cell_type": "markdown",
      "metadata": {
        "id": "92XS_SAAM_Zv"
      },
      "source": [
        "Merged dataset"
      ]
    },
    {
      "cell_type": "code",
      "execution_count": null,
      "metadata": {
        "colab": {
          "base_uri": "https://localhost:8080/",
          "height": 310
        },
        "id": "obPK0m--y_v_",
        "outputId": "1659b5d5-f6b9-46be-c2e4-c29f52709edf"
      },
      "outputs": [
        {
          "output_type": "execute_result",
          "data": {
            "text/plain": [
              "      Reviewer Name                     Profile Link Country Review Count  \\\n",
              "0        Eugene ath  /users/66e8185ff1598352d6b3701a      US     1 review   \n",
              "1  Daniel ohalloran  /users/5d75e460200c1f6a6373648c      GB    9 reviews   \n",
              "2          p fisher  /users/546cfcf1000064000197b88f      GB   90 reviews   \n",
              "3         Greg Dunn  /users/62c35cdbacc0ea0012ccaffa      AU    5 reviews   \n",
              "4     Sheila Hannah  /users/5ddbe429478d88251550610e      GB    8 reviews   \n",
              "\n",
              "                Review Date                  Rating  \\\n",
              "0  2024-09-16T13:44:26.000Z  Rated 1 out of 5 stars   \n",
              "1  2024-09-16T18:26:46.000Z  Rated 1 out of 5 stars   \n",
              "2  2024-09-16T21:47:39.000Z  Rated 1 out of 5 stars   \n",
              "3  2024-09-17T07:15:49.000Z  Rated 1 out of 5 stars   \n",
              "4  2024-09-16T18:37:17.000Z  Rated 1 out of 5 stars   \n",
              "\n",
              "                                      Review Title  \\\n",
              "0       A Store That Doesn't Want to Sell Anything   \n",
              "1           Had multiple orders one turned up and…   \n",
              "2                      I informed these reprobates   \n",
              "3  Advertise one price then increase it on website   \n",
              "4             If I could give a lower rate I would   \n",
              "\n",
              "                                         Review Text Date of Experience  \n",
              "0  I registered on the website, tried to order a ...          16-Sep-24  \n",
              "1  Had multiple orders one turned up and driver h...          16-Sep-24  \n",
              "2  I informed these reprobates that I WOULD NOT B...          16-Sep-24  \n",
              "3  I have bought from Amazon before and no proble...          17-Sep-24  \n",
              "4  If I could give a lower rate I would! I cancel...          16-Sep-24  "
            ],
            "text/html": [
              "\n",
              "  <div id=\"df-aac94156-f32d-4c83-ac51-0c1a2c5ace88\" class=\"colab-df-container\">\n",
              "    <div>\n",
              "<style scoped>\n",
              "    .dataframe tbody tr th:only-of-type {\n",
              "        vertical-align: middle;\n",
              "    }\n",
              "\n",
              "    .dataframe tbody tr th {\n",
              "        vertical-align: top;\n",
              "    }\n",
              "\n",
              "    .dataframe thead th {\n",
              "        text-align: right;\n",
              "    }\n",
              "</style>\n",
              "<table border=\"1\" class=\"dataframe\">\n",
              "  <thead>\n",
              "    <tr style=\"text-align: right;\">\n",
              "      <th></th>\n",
              "      <th>Reviewer Name</th>\n",
              "      <th>Profile Link</th>\n",
              "      <th>Country</th>\n",
              "      <th>Review Count</th>\n",
              "      <th>Review Date</th>\n",
              "      <th>Rating</th>\n",
              "      <th>Review Title</th>\n",
              "      <th>Review Text</th>\n",
              "      <th>Date of Experience</th>\n",
              "    </tr>\n",
              "  </thead>\n",
              "  <tbody>\n",
              "    <tr>\n",
              "      <th>0</th>\n",
              "      <td>Eugene ath</td>\n",
              "      <td>/users/66e8185ff1598352d6b3701a</td>\n",
              "      <td>US</td>\n",
              "      <td>1 review</td>\n",
              "      <td>2024-09-16T13:44:26.000Z</td>\n",
              "      <td>Rated 1 out of 5 stars</td>\n",
              "      <td>A Store That Doesn't Want to Sell Anything</td>\n",
              "      <td>I registered on the website, tried to order a ...</td>\n",
              "      <td>16-Sep-24</td>\n",
              "    </tr>\n",
              "    <tr>\n",
              "      <th>1</th>\n",
              "      <td>Daniel ohalloran</td>\n",
              "      <td>/users/5d75e460200c1f6a6373648c</td>\n",
              "      <td>GB</td>\n",
              "      <td>9 reviews</td>\n",
              "      <td>2024-09-16T18:26:46.000Z</td>\n",
              "      <td>Rated 1 out of 5 stars</td>\n",
              "      <td>Had multiple orders one turned up and…</td>\n",
              "      <td>Had multiple orders one turned up and driver h...</td>\n",
              "      <td>16-Sep-24</td>\n",
              "    </tr>\n",
              "    <tr>\n",
              "      <th>2</th>\n",
              "      <td>p fisher</td>\n",
              "      <td>/users/546cfcf1000064000197b88f</td>\n",
              "      <td>GB</td>\n",
              "      <td>90 reviews</td>\n",
              "      <td>2024-09-16T21:47:39.000Z</td>\n",
              "      <td>Rated 1 out of 5 stars</td>\n",
              "      <td>I informed these reprobates</td>\n",
              "      <td>I informed these reprobates that I WOULD NOT B...</td>\n",
              "      <td>16-Sep-24</td>\n",
              "    </tr>\n",
              "    <tr>\n",
              "      <th>3</th>\n",
              "      <td>Greg Dunn</td>\n",
              "      <td>/users/62c35cdbacc0ea0012ccaffa</td>\n",
              "      <td>AU</td>\n",
              "      <td>5 reviews</td>\n",
              "      <td>2024-09-17T07:15:49.000Z</td>\n",
              "      <td>Rated 1 out of 5 stars</td>\n",
              "      <td>Advertise one price then increase it on website</td>\n",
              "      <td>I have bought from Amazon before and no proble...</td>\n",
              "      <td>17-Sep-24</td>\n",
              "    </tr>\n",
              "    <tr>\n",
              "      <th>4</th>\n",
              "      <td>Sheila Hannah</td>\n",
              "      <td>/users/5ddbe429478d88251550610e</td>\n",
              "      <td>GB</td>\n",
              "      <td>8 reviews</td>\n",
              "      <td>2024-09-16T18:37:17.000Z</td>\n",
              "      <td>Rated 1 out of 5 stars</td>\n",
              "      <td>If I could give a lower rate I would</td>\n",
              "      <td>If I could give a lower rate I would! I cancel...</td>\n",
              "      <td>16-Sep-24</td>\n",
              "    </tr>\n",
              "  </tbody>\n",
              "</table>\n",
              "</div>\n",
              "    <div class=\"colab-df-buttons\">\n",
              "\n",
              "  <div class=\"colab-df-container\">\n",
              "    <button class=\"colab-df-convert\" onclick=\"convertToInteractive('df-aac94156-f32d-4c83-ac51-0c1a2c5ace88')\"\n",
              "            title=\"Convert this dataframe to an interactive table.\"\n",
              "            style=\"display:none;\">\n",
              "\n",
              "  <svg xmlns=\"http://www.w3.org/2000/svg\" height=\"24px\" viewBox=\"0 -960 960 960\">\n",
              "    <path d=\"M120-120v-720h720v720H120Zm60-500h600v-160H180v160Zm220 220h160v-160H400v160Zm0 220h160v-160H400v160ZM180-400h160v-160H180v160Zm440 0h160v-160H620v160ZM180-180h160v-160H180v160Zm440 0h160v-160H620v160Z\"/>\n",
              "  </svg>\n",
              "    </button>\n",
              "\n",
              "  <style>\n",
              "    .colab-df-container {\n",
              "      display:flex;\n",
              "      gap: 12px;\n",
              "    }\n",
              "\n",
              "    .colab-df-convert {\n",
              "      background-color: #E8F0FE;\n",
              "      border: none;\n",
              "      border-radius: 50%;\n",
              "      cursor: pointer;\n",
              "      display: none;\n",
              "      fill: #1967D2;\n",
              "      height: 32px;\n",
              "      padding: 0 0 0 0;\n",
              "      width: 32px;\n",
              "    }\n",
              "\n",
              "    .colab-df-convert:hover {\n",
              "      background-color: #E2EBFA;\n",
              "      box-shadow: 0px 1px 2px rgba(60, 64, 67, 0.3), 0px 1px 3px 1px rgba(60, 64, 67, 0.15);\n",
              "      fill: #174EA6;\n",
              "    }\n",
              "\n",
              "    .colab-df-buttons div {\n",
              "      margin-bottom: 4px;\n",
              "    }\n",
              "\n",
              "    [theme=dark] .colab-df-convert {\n",
              "      background-color: #3B4455;\n",
              "      fill: #D2E3FC;\n",
              "    }\n",
              "\n",
              "    [theme=dark] .colab-df-convert:hover {\n",
              "      background-color: #434B5C;\n",
              "      box-shadow: 0px 1px 3px 1px rgba(0, 0, 0, 0.15);\n",
              "      filter: drop-shadow(0px 1px 2px rgba(0, 0, 0, 0.3));\n",
              "      fill: #FFFFFF;\n",
              "    }\n",
              "  </style>\n",
              "\n",
              "    <script>\n",
              "      const buttonEl =\n",
              "        document.querySelector('#df-aac94156-f32d-4c83-ac51-0c1a2c5ace88 button.colab-df-convert');\n",
              "      buttonEl.style.display =\n",
              "        google.colab.kernel.accessAllowed ? 'block' : 'none';\n",
              "\n",
              "      async function convertToInteractive(key) {\n",
              "        const element = document.querySelector('#df-aac94156-f32d-4c83-ac51-0c1a2c5ace88');\n",
              "        const dataTable =\n",
              "          await google.colab.kernel.invokeFunction('convertToInteractive',\n",
              "                                                    [key], {});\n",
              "        if (!dataTable) return;\n",
              "\n",
              "        const docLinkHtml = 'Like what you see? Visit the ' +\n",
              "          '<a target=\"_blank\" href=https://colab.research.google.com/notebooks/data_table.ipynb>data table notebook</a>'\n",
              "          + ' to learn more about interactive tables.';\n",
              "        element.innerHTML = '';\n",
              "        dataTable['output_type'] = 'display_data';\n",
              "        await google.colab.output.renderOutput(dataTable, element);\n",
              "        const docLink = document.createElement('div');\n",
              "        docLink.innerHTML = docLinkHtml;\n",
              "        element.appendChild(docLink);\n",
              "      }\n",
              "    </script>\n",
              "  </div>\n",
              "\n",
              "\n",
              "    <div id=\"df-ad6688ae-a97a-423a-b6b8-04f901f13ce2\">\n",
              "      <button class=\"colab-df-quickchart\" onclick=\"quickchart('df-ad6688ae-a97a-423a-b6b8-04f901f13ce2')\"\n",
              "                title=\"Suggest charts\"\n",
              "                style=\"display:none;\">\n",
              "\n",
              "<svg xmlns=\"http://www.w3.org/2000/svg\" height=\"24px\"viewBox=\"0 0 24 24\"\n",
              "     width=\"24px\">\n",
              "    <g>\n",
              "        <path d=\"M19 3H5c-1.1 0-2 .9-2 2v14c0 1.1.9 2 2 2h14c1.1 0 2-.9 2-2V5c0-1.1-.9-2-2-2zM9 17H7v-7h2v7zm4 0h-2V7h2v10zm4 0h-2v-4h2v4z\"/>\n",
              "    </g>\n",
              "</svg>\n",
              "      </button>\n",
              "\n",
              "<style>\n",
              "  .colab-df-quickchart {\n",
              "      --bg-color: #E8F0FE;\n",
              "      --fill-color: #1967D2;\n",
              "      --hover-bg-color: #E2EBFA;\n",
              "      --hover-fill-color: #174EA6;\n",
              "      --disabled-fill-color: #AAA;\n",
              "      --disabled-bg-color: #DDD;\n",
              "  }\n",
              "\n",
              "  [theme=dark] .colab-df-quickchart {\n",
              "      --bg-color: #3B4455;\n",
              "      --fill-color: #D2E3FC;\n",
              "      --hover-bg-color: #434B5C;\n",
              "      --hover-fill-color: #FFFFFF;\n",
              "      --disabled-bg-color: #3B4455;\n",
              "      --disabled-fill-color: #666;\n",
              "  }\n",
              "\n",
              "  .colab-df-quickchart {\n",
              "    background-color: var(--bg-color);\n",
              "    border: none;\n",
              "    border-radius: 50%;\n",
              "    cursor: pointer;\n",
              "    display: none;\n",
              "    fill: var(--fill-color);\n",
              "    height: 32px;\n",
              "    padding: 0;\n",
              "    width: 32px;\n",
              "  }\n",
              "\n",
              "  .colab-df-quickchart:hover {\n",
              "    background-color: var(--hover-bg-color);\n",
              "    box-shadow: 0 1px 2px rgba(60, 64, 67, 0.3), 0 1px 3px 1px rgba(60, 64, 67, 0.15);\n",
              "    fill: var(--button-hover-fill-color);\n",
              "  }\n",
              "\n",
              "  .colab-df-quickchart-complete:disabled,\n",
              "  .colab-df-quickchart-complete:disabled:hover {\n",
              "    background-color: var(--disabled-bg-color);\n",
              "    fill: var(--disabled-fill-color);\n",
              "    box-shadow: none;\n",
              "  }\n",
              "\n",
              "  .colab-df-spinner {\n",
              "    border: 2px solid var(--fill-color);\n",
              "    border-color: transparent;\n",
              "    border-bottom-color: var(--fill-color);\n",
              "    animation:\n",
              "      spin 1s steps(1) infinite;\n",
              "  }\n",
              "\n",
              "  @keyframes spin {\n",
              "    0% {\n",
              "      border-color: transparent;\n",
              "      border-bottom-color: var(--fill-color);\n",
              "      border-left-color: var(--fill-color);\n",
              "    }\n",
              "    20% {\n",
              "      border-color: transparent;\n",
              "      border-left-color: var(--fill-color);\n",
              "      border-top-color: var(--fill-color);\n",
              "    }\n",
              "    30% {\n",
              "      border-color: transparent;\n",
              "      border-left-color: var(--fill-color);\n",
              "      border-top-color: var(--fill-color);\n",
              "      border-right-color: var(--fill-color);\n",
              "    }\n",
              "    40% {\n",
              "      border-color: transparent;\n",
              "      border-right-color: var(--fill-color);\n",
              "      border-top-color: var(--fill-color);\n",
              "    }\n",
              "    60% {\n",
              "      border-color: transparent;\n",
              "      border-right-color: var(--fill-color);\n",
              "    }\n",
              "    80% {\n",
              "      border-color: transparent;\n",
              "      border-right-color: var(--fill-color);\n",
              "      border-bottom-color: var(--fill-color);\n",
              "    }\n",
              "    90% {\n",
              "      border-color: transparent;\n",
              "      border-bottom-color: var(--fill-color);\n",
              "    }\n",
              "  }\n",
              "</style>\n",
              "\n",
              "      <script>\n",
              "        async function quickchart(key) {\n",
              "          const quickchartButtonEl =\n",
              "            document.querySelector('#' + key + ' button');\n",
              "          quickchartButtonEl.disabled = true;  // To prevent multiple clicks.\n",
              "          quickchartButtonEl.classList.add('colab-df-spinner');\n",
              "          try {\n",
              "            const charts = await google.colab.kernel.invokeFunction(\n",
              "                'suggestCharts', [key], {});\n",
              "          } catch (error) {\n",
              "            console.error('Error during call to suggestCharts:', error);\n",
              "          }\n",
              "          quickchartButtonEl.classList.remove('colab-df-spinner');\n",
              "          quickchartButtonEl.classList.add('colab-df-quickchart-complete');\n",
              "        }\n",
              "        (() => {\n",
              "          let quickchartButtonEl =\n",
              "            document.querySelector('#df-ad6688ae-a97a-423a-b6b8-04f901f13ce2 button');\n",
              "          quickchartButtonEl.style.display =\n",
              "            google.colab.kernel.accessAllowed ? 'block' : 'none';\n",
              "        })();\n",
              "      </script>\n",
              "    </div>\n",
              "\n",
              "    </div>\n",
              "  </div>\n"
            ],
            "application/vnd.google.colaboratory.intrinsic+json": {
              "type": "dataframe",
              "variable_name": "df2",
              "summary": "{\n  \"name\": \"df2\",\n  \"rows\": 21214,\n  \"fields\": [\n    {\n      \"column\": \"Reviewer Name\",\n      \"properties\": {\n        \"dtype\": \"string\",\n        \"num_unique_values\": 18531,\n        \"samples\": [\n          \"N Niertit\",\n          \"UDAYA YARI\",\n          \"Lisa Waterfield\"\n        ],\n        \"semantic_type\": \"\",\n        \"description\": \"\"\n      }\n    },\n    {\n      \"column\": \"Profile Link\",\n      \"properties\": {\n        \"dtype\": \"string\",\n        \"num_unique_values\": 21156,\n        \"samples\": [\n          \"/users/585458ba0000ff000a6294a5\",\n          \"/users/572fbe970000ff000a1e4748\",\n          \"/users/5bdf760b4de5666d3447e326\"\n        ],\n        \"semantic_type\": \"\",\n        \"description\": \"\"\n      }\n    },\n    {\n      \"column\": \"Country\",\n      \"properties\": {\n        \"dtype\": \"category\",\n        \"num_unique_values\": 148,\n        \"samples\": [\n          \"LA\",\n          \"CV\",\n          \"IR\"\n        ],\n        \"semantic_type\": \"\",\n        \"description\": \"\"\n      }\n    },\n    {\n      \"column\": \"Review Count\",\n      \"properties\": {\n        \"dtype\": \"category\",\n        \"num_unique_values\": 177,\n        \"samples\": [\n          \"76 reviews\",\n          \"41 reviews\",\n          \"99 reviews\"\n        ],\n        \"semantic_type\": \"\",\n        \"description\": \"\"\n      }\n    },\n    {\n      \"column\": \"Review Date\",\n      \"properties\": {\n        \"dtype\": \"object\",\n        \"num_unique_values\": 21054,\n        \"samples\": [\n          \"2019-11-20T14:27:48.000Z\",\n          \"2011-12-28T09:32:18.000Z\",\n          \"2021-06-04T01:47:25.000Z\"\n        ],\n        \"semantic_type\": \"\",\n        \"description\": \"\"\n      }\n    },\n    {\n      \"column\": \"Rating\",\n      \"properties\": {\n        \"dtype\": \"category\",\n        \"num_unique_values\": 5,\n        \"samples\": [\n          \"Rated 5 out of 5 stars\",\n          \"Rated 3 out of 5 stars\",\n          \"Rated 2 out of 5 stars\"\n        ],\n        \"semantic_type\": \"\",\n        \"description\": \"\"\n      }\n    },\n    {\n      \"column\": \"Review Title\",\n      \"properties\": {\n        \"dtype\": \"string\",\n        \"num_unique_values\": 19277,\n        \"samples\": [\n          \"This company is nothing but trash\",\n          \"Don't give a damm about refunding their\\u2026\",\n          \"Amazon gets worse everyday\"\n        ],\n        \"semantic_type\": \"\",\n        \"description\": \"\"\n      }\n    },\n    {\n      \"column\": \"Review Text\",\n      \"properties\": {\n        \"dtype\": \"string\",\n        \"num_unique_values\": 20407,\n        \"samples\": [\n          \"I am a consistent Amazon shopper, it has so many things i want or need and for the most part receive it in less than 7 days. I've purchased large items such as furniture to small things like vitamins and i've never gotten ripped off\",\n          \"Great website full of variety, choice and deals. Really simple checkout process.\",\n          \"I cannot thank Amazon enough for providing a consistent high quality of deliveries. My estate has been having road works etc and road closures yet the Amazon driver delivered both packages on time and so good. My mum will be very pleased with her new bag.Date of experience: July 07, 2023\"\n        ],\n        \"semantic_type\": \"\",\n        \"description\": \"\"\n      }\n    },\n    {\n      \"column\": \"Date of Experience\",\n      \"properties\": {\n        \"dtype\": \"object\",\n        \"num_unique_values\": 3640,\n        \"samples\": [\n          \"22-Oct-23\",\n          \"3-Oct-15\",\n          \"29-Aug-19\"\n        ],\n        \"semantic_type\": \"\",\n        \"description\": \"\"\n      }\n    }\n  ]\n}"
            }
          },
          "metadata": {},
          "execution_count": 28
        }
      ],
      "source": [
        "df2 = pd.read_csv(\n",
        "    \"/content/am_reviews.csv\",\n",
        "    sep=\",\",\n",
        "    quotechar='\"',\n",
        "    encoding=\"utf-8\",\n",
        "    engine=\"python\",\n",
        "    on_bad_lines=\"skip\"\n",
        ")\n",
        "df2.head()"
      ]
    },
    {
      "cell_type": "markdown",
      "source": [
        "Load dataset"
      ],
      "metadata": {
        "id": "o3sU0dLvlPFD"
      }
    },
    {
      "cell_type": "code",
      "execution_count": null,
      "metadata": {
        "colab": {
          "base_uri": "https://localhost:8080/"
        },
        "id": "JNScl9W8Z_5I",
        "outputId": "e872f944-fef8-4d82-893c-76992616bdf8"
      },
      "outputs": [
        {
          "output_type": "stream",
          "name": "stdout",
          "text": [
            "Final merged dataset shape: (166787, 2)\n",
            "                                             Reviews Rating\n",
            "0  Purchased this for my device, it worked as adv...      5\n",
            "1  it works as expected. I should have sprung for...      4\n",
            "2  This think has worked out great.Had a diff. br...      5\n",
            "3  Bought it with Retail Packaging, arrived legit...      5\n",
            "4  It's mini storage.  It doesn't do anything els...      5\n"
          ]
        }
      ],
      "source": [
        "import pandas as pd\n",
        "\n",
        "# Load dataset 1\n",
        "df1 = pd.read_csv(\"/content/cleaned_data.csv\")\n",
        "\n",
        "# Load dataset 2\n",
        "df2 = pd.read_csv(\n",
        "    \"/content/am_reviews.csv\",\n",
        "    sep=\",\",\n",
        "    quotechar='\"',\n",
        "    encoding=\"utf-8\",\n",
        "    engine=\"python\",\n",
        "    on_bad_lines=\"skip\"\n",
        ")\n",
        "df2 = df2[[\"Review Text\", \"Rating\"]]  # Keep only relevant columns\n",
        "df2 = df2.rename(columns={\"Review Text\": \"Reviews\", \"Rating\": \"Rating\"})\n",
        "\n",
        "# Merge all three\n",
        "merged_df = pd.concat([df1, df2, df3], ignore_index=True)\n",
        "\n",
        "print(\"Final merged dataset shape:\", merged_df.shape)\n",
        "print(merged_df.head())"
      ]
    },
    {
      "cell_type": "markdown",
      "metadata": {
        "id": "Ae9o1-pGjsYK"
      },
      "source": [
        "View data"
      ]
    },
    {
      "cell_type": "code",
      "execution_count": null,
      "metadata": {
        "colab": {
          "base_uri": "https://localhost:8080/",
          "height": 206
        },
        "id": "m5CNp-pifetS",
        "outputId": "8a425346-d979-4702-ee26-7f7677167956"
      },
      "outputs": [
        {
          "output_type": "execute_result",
          "data": {
            "text/plain": [
              "                                             Reviews Rating\n",
              "0  Purchased this for my device, it worked as adv...      5\n",
              "1  it works as expected. I should have sprung for...      4\n",
              "2  This think has worked out great.Had a diff. br...      5\n",
              "3  Bought it with Retail Packaging, arrived legit...      5\n",
              "4  It's mini storage.  It doesn't do anything els...      5"
            ],
            "text/html": [
              "\n",
              "  <div id=\"df-cee880f9-7b50-4417-aff8-37a75f2c5765\" class=\"colab-df-container\">\n",
              "    <div>\n",
              "<style scoped>\n",
              "    .dataframe tbody tr th:only-of-type {\n",
              "        vertical-align: middle;\n",
              "    }\n",
              "\n",
              "    .dataframe tbody tr th {\n",
              "        vertical-align: top;\n",
              "    }\n",
              "\n",
              "    .dataframe thead th {\n",
              "        text-align: right;\n",
              "    }\n",
              "</style>\n",
              "<table border=\"1\" class=\"dataframe\">\n",
              "  <thead>\n",
              "    <tr style=\"text-align: right;\">\n",
              "      <th></th>\n",
              "      <th>Reviews</th>\n",
              "      <th>Rating</th>\n",
              "    </tr>\n",
              "  </thead>\n",
              "  <tbody>\n",
              "    <tr>\n",
              "      <th>0</th>\n",
              "      <td>Purchased this for my device, it worked as adv...</td>\n",
              "      <td>5</td>\n",
              "    </tr>\n",
              "    <tr>\n",
              "      <th>1</th>\n",
              "      <td>it works as expected. I should have sprung for...</td>\n",
              "      <td>4</td>\n",
              "    </tr>\n",
              "    <tr>\n",
              "      <th>2</th>\n",
              "      <td>This think has worked out great.Had a diff. br...</td>\n",
              "      <td>5</td>\n",
              "    </tr>\n",
              "    <tr>\n",
              "      <th>3</th>\n",
              "      <td>Bought it with Retail Packaging, arrived legit...</td>\n",
              "      <td>5</td>\n",
              "    </tr>\n",
              "    <tr>\n",
              "      <th>4</th>\n",
              "      <td>It's mini storage.  It doesn't do anything els...</td>\n",
              "      <td>5</td>\n",
              "    </tr>\n",
              "  </tbody>\n",
              "</table>\n",
              "</div>\n",
              "    <div class=\"colab-df-buttons\">\n",
              "\n",
              "  <div class=\"colab-df-container\">\n",
              "    <button class=\"colab-df-convert\" onclick=\"convertToInteractive('df-cee880f9-7b50-4417-aff8-37a75f2c5765')\"\n",
              "            title=\"Convert this dataframe to an interactive table.\"\n",
              "            style=\"display:none;\">\n",
              "\n",
              "  <svg xmlns=\"http://www.w3.org/2000/svg\" height=\"24px\" viewBox=\"0 -960 960 960\">\n",
              "    <path d=\"M120-120v-720h720v720H120Zm60-500h600v-160H180v160Zm220 220h160v-160H400v160Zm0 220h160v-160H400v160ZM180-400h160v-160H180v160Zm440 0h160v-160H620v160ZM180-180h160v-160H180v160Zm440 0h160v-160H620v160Z\"/>\n",
              "  </svg>\n",
              "    </button>\n",
              "\n",
              "  <style>\n",
              "    .colab-df-container {\n",
              "      display:flex;\n",
              "      gap: 12px;\n",
              "    }\n",
              "\n",
              "    .colab-df-convert {\n",
              "      background-color: #E8F0FE;\n",
              "      border: none;\n",
              "      border-radius: 50%;\n",
              "      cursor: pointer;\n",
              "      display: none;\n",
              "      fill: #1967D2;\n",
              "      height: 32px;\n",
              "      padding: 0 0 0 0;\n",
              "      width: 32px;\n",
              "    }\n",
              "\n",
              "    .colab-df-convert:hover {\n",
              "      background-color: #E2EBFA;\n",
              "      box-shadow: 0px 1px 2px rgba(60, 64, 67, 0.3), 0px 1px 3px 1px rgba(60, 64, 67, 0.15);\n",
              "      fill: #174EA6;\n",
              "    }\n",
              "\n",
              "    .colab-df-buttons div {\n",
              "      margin-bottom: 4px;\n",
              "    }\n",
              "\n",
              "    [theme=dark] .colab-df-convert {\n",
              "      background-color: #3B4455;\n",
              "      fill: #D2E3FC;\n",
              "    }\n",
              "\n",
              "    [theme=dark] .colab-df-convert:hover {\n",
              "      background-color: #434B5C;\n",
              "      box-shadow: 0px 1px 3px 1px rgba(0, 0, 0, 0.15);\n",
              "      filter: drop-shadow(0px 1px 2px rgba(0, 0, 0, 0.3));\n",
              "      fill: #FFFFFF;\n",
              "    }\n",
              "  </style>\n",
              "\n",
              "    <script>\n",
              "      const buttonEl =\n",
              "        document.querySelector('#df-cee880f9-7b50-4417-aff8-37a75f2c5765 button.colab-df-convert');\n",
              "      buttonEl.style.display =\n",
              "        google.colab.kernel.accessAllowed ? 'block' : 'none';\n",
              "\n",
              "      async function convertToInteractive(key) {\n",
              "        const element = document.querySelector('#df-cee880f9-7b50-4417-aff8-37a75f2c5765');\n",
              "        const dataTable =\n",
              "          await google.colab.kernel.invokeFunction('convertToInteractive',\n",
              "                                                    [key], {});\n",
              "        if (!dataTable) return;\n",
              "\n",
              "        const docLinkHtml = 'Like what you see? Visit the ' +\n",
              "          '<a target=\"_blank\" href=https://colab.research.google.com/notebooks/data_table.ipynb>data table notebook</a>'\n",
              "          + ' to learn more about interactive tables.';\n",
              "        element.innerHTML = '';\n",
              "        dataTable['output_type'] = 'display_data';\n",
              "        await google.colab.output.renderOutput(dataTable, element);\n",
              "        const docLink = document.createElement('div');\n",
              "        docLink.innerHTML = docLinkHtml;\n",
              "        element.appendChild(docLink);\n",
              "      }\n",
              "    </script>\n",
              "  </div>\n",
              "\n",
              "\n",
              "    <div id=\"df-f2575bea-0739-4f92-9d00-f7715cfa39aa\">\n",
              "      <button class=\"colab-df-quickchart\" onclick=\"quickchart('df-f2575bea-0739-4f92-9d00-f7715cfa39aa')\"\n",
              "                title=\"Suggest charts\"\n",
              "                style=\"display:none;\">\n",
              "\n",
              "<svg xmlns=\"http://www.w3.org/2000/svg\" height=\"24px\"viewBox=\"0 0 24 24\"\n",
              "     width=\"24px\">\n",
              "    <g>\n",
              "        <path d=\"M19 3H5c-1.1 0-2 .9-2 2v14c0 1.1.9 2 2 2h14c1.1 0 2-.9 2-2V5c0-1.1-.9-2-2-2zM9 17H7v-7h2v7zm4 0h-2V7h2v10zm4 0h-2v-4h2v4z\"/>\n",
              "    </g>\n",
              "</svg>\n",
              "      </button>\n",
              "\n",
              "<style>\n",
              "  .colab-df-quickchart {\n",
              "      --bg-color: #E8F0FE;\n",
              "      --fill-color: #1967D2;\n",
              "      --hover-bg-color: #E2EBFA;\n",
              "      --hover-fill-color: #174EA6;\n",
              "      --disabled-fill-color: #AAA;\n",
              "      --disabled-bg-color: #DDD;\n",
              "  }\n",
              "\n",
              "  [theme=dark] .colab-df-quickchart {\n",
              "      --bg-color: #3B4455;\n",
              "      --fill-color: #D2E3FC;\n",
              "      --hover-bg-color: #434B5C;\n",
              "      --hover-fill-color: #FFFFFF;\n",
              "      --disabled-bg-color: #3B4455;\n",
              "      --disabled-fill-color: #666;\n",
              "  }\n",
              "\n",
              "  .colab-df-quickchart {\n",
              "    background-color: var(--bg-color);\n",
              "    border: none;\n",
              "    border-radius: 50%;\n",
              "    cursor: pointer;\n",
              "    display: none;\n",
              "    fill: var(--fill-color);\n",
              "    height: 32px;\n",
              "    padding: 0;\n",
              "    width: 32px;\n",
              "  }\n",
              "\n",
              "  .colab-df-quickchart:hover {\n",
              "    background-color: var(--hover-bg-color);\n",
              "    box-shadow: 0 1px 2px rgba(60, 64, 67, 0.3), 0 1px 3px 1px rgba(60, 64, 67, 0.15);\n",
              "    fill: var(--button-hover-fill-color);\n",
              "  }\n",
              "\n",
              "  .colab-df-quickchart-complete:disabled,\n",
              "  .colab-df-quickchart-complete:disabled:hover {\n",
              "    background-color: var(--disabled-bg-color);\n",
              "    fill: var(--disabled-fill-color);\n",
              "    box-shadow: none;\n",
              "  }\n",
              "\n",
              "  .colab-df-spinner {\n",
              "    border: 2px solid var(--fill-color);\n",
              "    border-color: transparent;\n",
              "    border-bottom-color: var(--fill-color);\n",
              "    animation:\n",
              "      spin 1s steps(1) infinite;\n",
              "  }\n",
              "\n",
              "  @keyframes spin {\n",
              "    0% {\n",
              "      border-color: transparent;\n",
              "      border-bottom-color: var(--fill-color);\n",
              "      border-left-color: var(--fill-color);\n",
              "    }\n",
              "    20% {\n",
              "      border-color: transparent;\n",
              "      border-left-color: var(--fill-color);\n",
              "      border-top-color: var(--fill-color);\n",
              "    }\n",
              "    30% {\n",
              "      border-color: transparent;\n",
              "      border-left-color: var(--fill-color);\n",
              "      border-top-color: var(--fill-color);\n",
              "      border-right-color: var(--fill-color);\n",
              "    }\n",
              "    40% {\n",
              "      border-color: transparent;\n",
              "      border-right-color: var(--fill-color);\n",
              "      border-top-color: var(--fill-color);\n",
              "    }\n",
              "    60% {\n",
              "      border-color: transparent;\n",
              "      border-right-color: var(--fill-color);\n",
              "    }\n",
              "    80% {\n",
              "      border-color: transparent;\n",
              "      border-right-color: var(--fill-color);\n",
              "      border-bottom-color: var(--fill-color);\n",
              "    }\n",
              "    90% {\n",
              "      border-color: transparent;\n",
              "      border-bottom-color: var(--fill-color);\n",
              "    }\n",
              "  }\n",
              "</style>\n",
              "\n",
              "      <script>\n",
              "        async function quickchart(key) {\n",
              "          const quickchartButtonEl =\n",
              "            document.querySelector('#' + key + ' button');\n",
              "          quickchartButtonEl.disabled = true;  // To prevent multiple clicks.\n",
              "          quickchartButtonEl.classList.add('colab-df-spinner');\n",
              "          try {\n",
              "            const charts = await google.colab.kernel.invokeFunction(\n",
              "                'suggestCharts', [key], {});\n",
              "          } catch (error) {\n",
              "            console.error('Error during call to suggestCharts:', error);\n",
              "          }\n",
              "          quickchartButtonEl.classList.remove('colab-df-spinner');\n",
              "          quickchartButtonEl.classList.add('colab-df-quickchart-complete');\n",
              "        }\n",
              "        (() => {\n",
              "          let quickchartButtonEl =\n",
              "            document.querySelector('#df-f2575bea-0739-4f92-9d00-f7715cfa39aa button');\n",
              "          quickchartButtonEl.style.display =\n",
              "            google.colab.kernel.accessAllowed ? 'block' : 'none';\n",
              "        })();\n",
              "      </script>\n",
              "    </div>\n",
              "\n",
              "    </div>\n",
              "  </div>\n"
            ],
            "application/vnd.google.colaboratory.intrinsic+json": {
              "type": "dataframe",
              "variable_name": "merged_df"
            }
          },
          "metadata": {},
          "execution_count": 30
        }
      ],
      "source": [
        "merged_df.head()"
      ]
    },
    {
      "cell_type": "code",
      "execution_count": null,
      "metadata": {
        "colab": {
          "base_uri": "https://localhost:8080/",
          "height": 206
        },
        "id": "5DSAkq7fgVXC",
        "outputId": "824ef57b-8036-4ab6-dfc7-2dbaaec6add8"
      },
      "outputs": [
        {
          "output_type": "execute_result",
          "data": {
            "text/plain": [
              "                                                  Reviews Rating\n",
              "166782  I had been looking for popcorn salt for awhile...      5\n",
              "166783  My husband still makes popcorn the old fashion...      5\n",
              "166784  And I'm a huge fan of Diamond Crystal products...      5\n",
              "166785  The fine grind of the salt is perfect for popc...      5\n",
              "166786  I admit to being a saltaholic and this is my f...      4"
            ],
            "text/html": [
              "\n",
              "  <div id=\"df-e358c961-5209-4852-ab85-7e6f815d56ed\" class=\"colab-df-container\">\n",
              "    <div>\n",
              "<style scoped>\n",
              "    .dataframe tbody tr th:only-of-type {\n",
              "        vertical-align: middle;\n",
              "    }\n",
              "\n",
              "    .dataframe tbody tr th {\n",
              "        vertical-align: top;\n",
              "    }\n",
              "\n",
              "    .dataframe thead th {\n",
              "        text-align: right;\n",
              "    }\n",
              "</style>\n",
              "<table border=\"1\" class=\"dataframe\">\n",
              "  <thead>\n",
              "    <tr style=\"text-align: right;\">\n",
              "      <th></th>\n",
              "      <th>Reviews</th>\n",
              "      <th>Rating</th>\n",
              "    </tr>\n",
              "  </thead>\n",
              "  <tbody>\n",
              "    <tr>\n",
              "      <th>166782</th>\n",
              "      <td>I had been looking for popcorn salt for awhile...</td>\n",
              "      <td>5</td>\n",
              "    </tr>\n",
              "    <tr>\n",
              "      <th>166783</th>\n",
              "      <td>My husband still makes popcorn the old fashion...</td>\n",
              "      <td>5</td>\n",
              "    </tr>\n",
              "    <tr>\n",
              "      <th>166784</th>\n",
              "      <td>And I'm a huge fan of Diamond Crystal products...</td>\n",
              "      <td>5</td>\n",
              "    </tr>\n",
              "    <tr>\n",
              "      <th>166785</th>\n",
              "      <td>The fine grind of the salt is perfect for popc...</td>\n",
              "      <td>5</td>\n",
              "    </tr>\n",
              "    <tr>\n",
              "      <th>166786</th>\n",
              "      <td>I admit to being a saltaholic and this is my f...</td>\n",
              "      <td>4</td>\n",
              "    </tr>\n",
              "  </tbody>\n",
              "</table>\n",
              "</div>\n",
              "    <div class=\"colab-df-buttons\">\n",
              "\n",
              "  <div class=\"colab-df-container\">\n",
              "    <button class=\"colab-df-convert\" onclick=\"convertToInteractive('df-e358c961-5209-4852-ab85-7e6f815d56ed')\"\n",
              "            title=\"Convert this dataframe to an interactive table.\"\n",
              "            style=\"display:none;\">\n",
              "\n",
              "  <svg xmlns=\"http://www.w3.org/2000/svg\" height=\"24px\" viewBox=\"0 -960 960 960\">\n",
              "    <path d=\"M120-120v-720h720v720H120Zm60-500h600v-160H180v160Zm220 220h160v-160H400v160Zm0 220h160v-160H400v160ZM180-400h160v-160H180v160Zm440 0h160v-160H620v160ZM180-180h160v-160H180v160Zm440 0h160v-160H620v160Z\"/>\n",
              "  </svg>\n",
              "    </button>\n",
              "\n",
              "  <style>\n",
              "    .colab-df-container {\n",
              "      display:flex;\n",
              "      gap: 12px;\n",
              "    }\n",
              "\n",
              "    .colab-df-convert {\n",
              "      background-color: #E8F0FE;\n",
              "      border: none;\n",
              "      border-radius: 50%;\n",
              "      cursor: pointer;\n",
              "      display: none;\n",
              "      fill: #1967D2;\n",
              "      height: 32px;\n",
              "      padding: 0 0 0 0;\n",
              "      width: 32px;\n",
              "    }\n",
              "\n",
              "    .colab-df-convert:hover {\n",
              "      background-color: #E2EBFA;\n",
              "      box-shadow: 0px 1px 2px rgba(60, 64, 67, 0.3), 0px 1px 3px 1px rgba(60, 64, 67, 0.15);\n",
              "      fill: #174EA6;\n",
              "    }\n",
              "\n",
              "    .colab-df-buttons div {\n",
              "      margin-bottom: 4px;\n",
              "    }\n",
              "\n",
              "    [theme=dark] .colab-df-convert {\n",
              "      background-color: #3B4455;\n",
              "      fill: #D2E3FC;\n",
              "    }\n",
              "\n",
              "    [theme=dark] .colab-df-convert:hover {\n",
              "      background-color: #434B5C;\n",
              "      box-shadow: 0px 1px 3px 1px rgba(0, 0, 0, 0.15);\n",
              "      filter: drop-shadow(0px 1px 2px rgba(0, 0, 0, 0.3));\n",
              "      fill: #FFFFFF;\n",
              "    }\n",
              "  </style>\n",
              "\n",
              "    <script>\n",
              "      const buttonEl =\n",
              "        document.querySelector('#df-e358c961-5209-4852-ab85-7e6f815d56ed button.colab-df-convert');\n",
              "      buttonEl.style.display =\n",
              "        google.colab.kernel.accessAllowed ? 'block' : 'none';\n",
              "\n",
              "      async function convertToInteractive(key) {\n",
              "        const element = document.querySelector('#df-e358c961-5209-4852-ab85-7e6f815d56ed');\n",
              "        const dataTable =\n",
              "          await google.colab.kernel.invokeFunction('convertToInteractive',\n",
              "                                                    [key], {});\n",
              "        if (!dataTable) return;\n",
              "\n",
              "        const docLinkHtml = 'Like what you see? Visit the ' +\n",
              "          '<a target=\"_blank\" href=https://colab.research.google.com/notebooks/data_table.ipynb>data table notebook</a>'\n",
              "          + ' to learn more about interactive tables.';\n",
              "        element.innerHTML = '';\n",
              "        dataTable['output_type'] = 'display_data';\n",
              "        await google.colab.output.renderOutput(dataTable, element);\n",
              "        const docLink = document.createElement('div');\n",
              "        docLink.innerHTML = docLinkHtml;\n",
              "        element.appendChild(docLink);\n",
              "      }\n",
              "    </script>\n",
              "  </div>\n",
              "\n",
              "\n",
              "    <div id=\"df-71e47aa4-c2e7-4f77-9d95-b758951ddea4\">\n",
              "      <button class=\"colab-df-quickchart\" onclick=\"quickchart('df-71e47aa4-c2e7-4f77-9d95-b758951ddea4')\"\n",
              "                title=\"Suggest charts\"\n",
              "                style=\"display:none;\">\n",
              "\n",
              "<svg xmlns=\"http://www.w3.org/2000/svg\" height=\"24px\"viewBox=\"0 0 24 24\"\n",
              "     width=\"24px\">\n",
              "    <g>\n",
              "        <path d=\"M19 3H5c-1.1 0-2 .9-2 2v14c0 1.1.9 2 2 2h14c1.1 0 2-.9 2-2V5c0-1.1-.9-2-2-2zM9 17H7v-7h2v7zm4 0h-2V7h2v10zm4 0h-2v-4h2v4z\"/>\n",
              "    </g>\n",
              "</svg>\n",
              "      </button>\n",
              "\n",
              "<style>\n",
              "  .colab-df-quickchart {\n",
              "      --bg-color: #E8F0FE;\n",
              "      --fill-color: #1967D2;\n",
              "      --hover-bg-color: #E2EBFA;\n",
              "      --hover-fill-color: #174EA6;\n",
              "      --disabled-fill-color: #AAA;\n",
              "      --disabled-bg-color: #DDD;\n",
              "  }\n",
              "\n",
              "  [theme=dark] .colab-df-quickchart {\n",
              "      --bg-color: #3B4455;\n",
              "      --fill-color: #D2E3FC;\n",
              "      --hover-bg-color: #434B5C;\n",
              "      --hover-fill-color: #FFFFFF;\n",
              "      --disabled-bg-color: #3B4455;\n",
              "      --disabled-fill-color: #666;\n",
              "  }\n",
              "\n",
              "  .colab-df-quickchart {\n",
              "    background-color: var(--bg-color);\n",
              "    border: none;\n",
              "    border-radius: 50%;\n",
              "    cursor: pointer;\n",
              "    display: none;\n",
              "    fill: var(--fill-color);\n",
              "    height: 32px;\n",
              "    padding: 0;\n",
              "    width: 32px;\n",
              "  }\n",
              "\n",
              "  .colab-df-quickchart:hover {\n",
              "    background-color: var(--hover-bg-color);\n",
              "    box-shadow: 0 1px 2px rgba(60, 64, 67, 0.3), 0 1px 3px 1px rgba(60, 64, 67, 0.15);\n",
              "    fill: var(--button-hover-fill-color);\n",
              "  }\n",
              "\n",
              "  .colab-df-quickchart-complete:disabled,\n",
              "  .colab-df-quickchart-complete:disabled:hover {\n",
              "    background-color: var(--disabled-bg-color);\n",
              "    fill: var(--disabled-fill-color);\n",
              "    box-shadow: none;\n",
              "  }\n",
              "\n",
              "  .colab-df-spinner {\n",
              "    border: 2px solid var(--fill-color);\n",
              "    border-color: transparent;\n",
              "    border-bottom-color: var(--fill-color);\n",
              "    animation:\n",
              "      spin 1s steps(1) infinite;\n",
              "  }\n",
              "\n",
              "  @keyframes spin {\n",
              "    0% {\n",
              "      border-color: transparent;\n",
              "      border-bottom-color: var(--fill-color);\n",
              "      border-left-color: var(--fill-color);\n",
              "    }\n",
              "    20% {\n",
              "      border-color: transparent;\n",
              "      border-left-color: var(--fill-color);\n",
              "      border-top-color: var(--fill-color);\n",
              "    }\n",
              "    30% {\n",
              "      border-color: transparent;\n",
              "      border-left-color: var(--fill-color);\n",
              "      border-top-color: var(--fill-color);\n",
              "      border-right-color: var(--fill-color);\n",
              "    }\n",
              "    40% {\n",
              "      border-color: transparent;\n",
              "      border-right-color: var(--fill-color);\n",
              "      border-top-color: var(--fill-color);\n",
              "    }\n",
              "    60% {\n",
              "      border-color: transparent;\n",
              "      border-right-color: var(--fill-color);\n",
              "    }\n",
              "    80% {\n",
              "      border-color: transparent;\n",
              "      border-right-color: var(--fill-color);\n",
              "      border-bottom-color: var(--fill-color);\n",
              "    }\n",
              "    90% {\n",
              "      border-color: transparent;\n",
              "      border-bottom-color: var(--fill-color);\n",
              "    }\n",
              "  }\n",
              "</style>\n",
              "\n",
              "      <script>\n",
              "        async function quickchart(key) {\n",
              "          const quickchartButtonEl =\n",
              "            document.querySelector('#' + key + ' button');\n",
              "          quickchartButtonEl.disabled = true;  // To prevent multiple clicks.\n",
              "          quickchartButtonEl.classList.add('colab-df-spinner');\n",
              "          try {\n",
              "            const charts = await google.colab.kernel.invokeFunction(\n",
              "                'suggestCharts', [key], {});\n",
              "          } catch (error) {\n",
              "            console.error('Error during call to suggestCharts:', error);\n",
              "          }\n",
              "          quickchartButtonEl.classList.remove('colab-df-spinner');\n",
              "          quickchartButtonEl.classList.add('colab-df-quickchart-complete');\n",
              "        }\n",
              "        (() => {\n",
              "          let quickchartButtonEl =\n",
              "            document.querySelector('#df-71e47aa4-c2e7-4f77-9d95-b758951ddea4 button');\n",
              "          quickchartButtonEl.style.display =\n",
              "            google.colab.kernel.accessAllowed ? 'block' : 'none';\n",
              "        })();\n",
              "      </script>\n",
              "    </div>\n",
              "\n",
              "    </div>\n",
              "  </div>\n"
            ],
            "application/vnd.google.colaboratory.intrinsic+json": {
              "type": "dataframe",
              "repr_error": "0"
            }
          },
          "metadata": {},
          "execution_count": 31
        }
      ],
      "source": [
        "merged_df.tail()"
      ]
    },
    {
      "cell_type": "markdown",
      "metadata": {
        "id": "njL-I0Mmj6gP"
      },
      "source": [
        "Inspect structure"
      ]
    },
    {
      "cell_type": "code",
      "execution_count": null,
      "metadata": {
        "colab": {
          "base_uri": "https://localhost:8080/"
        },
        "id": "W-QbaVtQj4vF",
        "outputId": "b840d959-f1a0-40ec-f158-028ddce51a53"
      },
      "outputs": [
        {
          "output_type": "execute_result",
          "data": {
            "text/plain": [
              "(166787, 2)"
            ]
          },
          "metadata": {},
          "execution_count": 32
        }
      ],
      "source": [
        "merged_df.shape"
      ]
    },
    {
      "cell_type": "code",
      "execution_count": null,
      "metadata": {
        "colab": {
          "base_uri": "https://localhost:8080/"
        },
        "id": "r6cogEyWkMSo",
        "outputId": "fb99de6b-6100-4f78-b5df-e3bf15639fa2"
      },
      "outputs": [
        {
          "output_type": "stream",
          "name": "stdout",
          "text": [
            "<class 'pandas.core.frame.DataFrame'>\n",
            "RangeIndex: 166787 entries, 0 to 166786\n",
            "Data columns (total 2 columns):\n",
            " #   Column   Non-Null Count   Dtype \n",
            "---  ------   --------------   ----- \n",
            " 0   Reviews  166628 non-null  object\n",
            " 1   Rating   166628 non-null  object\n",
            "dtypes: object(2)\n",
            "memory usage: 2.5+ MB\n"
          ]
        }
      ],
      "source": [
        "merged_df.info()"
      ]
    },
    {
      "cell_type": "code",
      "execution_count": null,
      "metadata": {
        "colab": {
          "base_uri": "https://localhost:8080/",
          "height": 175
        },
        "id": "FnmMUlJC470K",
        "outputId": "8784a005-93a1-4a59-ad61-621acaf15c96"
      },
      "outputs": [
        {
          "output_type": "execute_result",
          "data": {
            "text/plain": [
              "                      Reviews  Rating\n",
              "count                  166628  166628\n",
              "unique                 145998      10\n",
              "top     Review text not found       5\n",
              "freq                      630   92402"
            ],
            "text/html": [
              "\n",
              "  <div id=\"df-376da82a-c544-4781-8381-fc0db7b42712\" class=\"colab-df-container\">\n",
              "    <div>\n",
              "<style scoped>\n",
              "    .dataframe tbody tr th:only-of-type {\n",
              "        vertical-align: middle;\n",
              "    }\n",
              "\n",
              "    .dataframe tbody tr th {\n",
              "        vertical-align: top;\n",
              "    }\n",
              "\n",
              "    .dataframe thead th {\n",
              "        text-align: right;\n",
              "    }\n",
              "</style>\n",
              "<table border=\"1\" class=\"dataframe\">\n",
              "  <thead>\n",
              "    <tr style=\"text-align: right;\">\n",
              "      <th></th>\n",
              "      <th>Reviews</th>\n",
              "      <th>Rating</th>\n",
              "    </tr>\n",
              "  </thead>\n",
              "  <tbody>\n",
              "    <tr>\n",
              "      <th>count</th>\n",
              "      <td>166628</td>\n",
              "      <td>166628</td>\n",
              "    </tr>\n",
              "    <tr>\n",
              "      <th>unique</th>\n",
              "      <td>145998</td>\n",
              "      <td>10</td>\n",
              "    </tr>\n",
              "    <tr>\n",
              "      <th>top</th>\n",
              "      <td>Review text not found</td>\n",
              "      <td>5</td>\n",
              "    </tr>\n",
              "    <tr>\n",
              "      <th>freq</th>\n",
              "      <td>630</td>\n",
              "      <td>92402</td>\n",
              "    </tr>\n",
              "  </tbody>\n",
              "</table>\n",
              "</div>\n",
              "    <div class=\"colab-df-buttons\">\n",
              "\n",
              "  <div class=\"colab-df-container\">\n",
              "    <button class=\"colab-df-convert\" onclick=\"convertToInteractive('df-376da82a-c544-4781-8381-fc0db7b42712')\"\n",
              "            title=\"Convert this dataframe to an interactive table.\"\n",
              "            style=\"display:none;\">\n",
              "\n",
              "  <svg xmlns=\"http://www.w3.org/2000/svg\" height=\"24px\" viewBox=\"0 -960 960 960\">\n",
              "    <path d=\"M120-120v-720h720v720H120Zm60-500h600v-160H180v160Zm220 220h160v-160H400v160Zm0 220h160v-160H400v160ZM180-400h160v-160H180v160Zm440 0h160v-160H620v160ZM180-180h160v-160H180v160Zm440 0h160v-160H620v160Z\"/>\n",
              "  </svg>\n",
              "    </button>\n",
              "\n",
              "  <style>\n",
              "    .colab-df-container {\n",
              "      display:flex;\n",
              "      gap: 12px;\n",
              "    }\n",
              "\n",
              "    .colab-df-convert {\n",
              "      background-color: #E8F0FE;\n",
              "      border: none;\n",
              "      border-radius: 50%;\n",
              "      cursor: pointer;\n",
              "      display: none;\n",
              "      fill: #1967D2;\n",
              "      height: 32px;\n",
              "      padding: 0 0 0 0;\n",
              "      width: 32px;\n",
              "    }\n",
              "\n",
              "    .colab-df-convert:hover {\n",
              "      background-color: #E2EBFA;\n",
              "      box-shadow: 0px 1px 2px rgba(60, 64, 67, 0.3), 0px 1px 3px 1px rgba(60, 64, 67, 0.15);\n",
              "      fill: #174EA6;\n",
              "    }\n",
              "\n",
              "    .colab-df-buttons div {\n",
              "      margin-bottom: 4px;\n",
              "    }\n",
              "\n",
              "    [theme=dark] .colab-df-convert {\n",
              "      background-color: #3B4455;\n",
              "      fill: #D2E3FC;\n",
              "    }\n",
              "\n",
              "    [theme=dark] .colab-df-convert:hover {\n",
              "      background-color: #434B5C;\n",
              "      box-shadow: 0px 1px 3px 1px rgba(0, 0, 0, 0.15);\n",
              "      filter: drop-shadow(0px 1px 2px rgba(0, 0, 0, 0.3));\n",
              "      fill: #FFFFFF;\n",
              "    }\n",
              "  </style>\n",
              "\n",
              "    <script>\n",
              "      const buttonEl =\n",
              "        document.querySelector('#df-376da82a-c544-4781-8381-fc0db7b42712 button.colab-df-convert');\n",
              "      buttonEl.style.display =\n",
              "        google.colab.kernel.accessAllowed ? 'block' : 'none';\n",
              "\n",
              "      async function convertToInteractive(key) {\n",
              "        const element = document.querySelector('#df-376da82a-c544-4781-8381-fc0db7b42712');\n",
              "        const dataTable =\n",
              "          await google.colab.kernel.invokeFunction('convertToInteractive',\n",
              "                                                    [key], {});\n",
              "        if (!dataTable) return;\n",
              "\n",
              "        const docLinkHtml = 'Like what you see? Visit the ' +\n",
              "          '<a target=\"_blank\" href=https://colab.research.google.com/notebooks/data_table.ipynb>data table notebook</a>'\n",
              "          + ' to learn more about interactive tables.';\n",
              "        element.innerHTML = '';\n",
              "        dataTable['output_type'] = 'display_data';\n",
              "        await google.colab.output.renderOutput(dataTable, element);\n",
              "        const docLink = document.createElement('div');\n",
              "        docLink.innerHTML = docLinkHtml;\n",
              "        element.appendChild(docLink);\n",
              "      }\n",
              "    </script>\n",
              "  </div>\n",
              "\n",
              "\n",
              "    <div id=\"df-2a193b0b-04cf-4bfc-971e-24654f67f9a2\">\n",
              "      <button class=\"colab-df-quickchart\" onclick=\"quickchart('df-2a193b0b-04cf-4bfc-971e-24654f67f9a2')\"\n",
              "                title=\"Suggest charts\"\n",
              "                style=\"display:none;\">\n",
              "\n",
              "<svg xmlns=\"http://www.w3.org/2000/svg\" height=\"24px\"viewBox=\"0 0 24 24\"\n",
              "     width=\"24px\">\n",
              "    <g>\n",
              "        <path d=\"M19 3H5c-1.1 0-2 .9-2 2v14c0 1.1.9 2 2 2h14c1.1 0 2-.9 2-2V5c0-1.1-.9-2-2-2zM9 17H7v-7h2v7zm4 0h-2V7h2v10zm4 0h-2v-4h2v4z\"/>\n",
              "    </g>\n",
              "</svg>\n",
              "      </button>\n",
              "\n",
              "<style>\n",
              "  .colab-df-quickchart {\n",
              "      --bg-color: #E8F0FE;\n",
              "      --fill-color: #1967D2;\n",
              "      --hover-bg-color: #E2EBFA;\n",
              "      --hover-fill-color: #174EA6;\n",
              "      --disabled-fill-color: #AAA;\n",
              "      --disabled-bg-color: #DDD;\n",
              "  }\n",
              "\n",
              "  [theme=dark] .colab-df-quickchart {\n",
              "      --bg-color: #3B4455;\n",
              "      --fill-color: #D2E3FC;\n",
              "      --hover-bg-color: #434B5C;\n",
              "      --hover-fill-color: #FFFFFF;\n",
              "      --disabled-bg-color: #3B4455;\n",
              "      --disabled-fill-color: #666;\n",
              "  }\n",
              "\n",
              "  .colab-df-quickchart {\n",
              "    background-color: var(--bg-color);\n",
              "    border: none;\n",
              "    border-radius: 50%;\n",
              "    cursor: pointer;\n",
              "    display: none;\n",
              "    fill: var(--fill-color);\n",
              "    height: 32px;\n",
              "    padding: 0;\n",
              "    width: 32px;\n",
              "  }\n",
              "\n",
              "  .colab-df-quickchart:hover {\n",
              "    background-color: var(--hover-bg-color);\n",
              "    box-shadow: 0 1px 2px rgba(60, 64, 67, 0.3), 0 1px 3px 1px rgba(60, 64, 67, 0.15);\n",
              "    fill: var(--button-hover-fill-color);\n",
              "  }\n",
              "\n",
              "  .colab-df-quickchart-complete:disabled,\n",
              "  .colab-df-quickchart-complete:disabled:hover {\n",
              "    background-color: var(--disabled-bg-color);\n",
              "    fill: var(--disabled-fill-color);\n",
              "    box-shadow: none;\n",
              "  }\n",
              "\n",
              "  .colab-df-spinner {\n",
              "    border: 2px solid var(--fill-color);\n",
              "    border-color: transparent;\n",
              "    border-bottom-color: var(--fill-color);\n",
              "    animation:\n",
              "      spin 1s steps(1) infinite;\n",
              "  }\n",
              "\n",
              "  @keyframes spin {\n",
              "    0% {\n",
              "      border-color: transparent;\n",
              "      border-bottom-color: var(--fill-color);\n",
              "      border-left-color: var(--fill-color);\n",
              "    }\n",
              "    20% {\n",
              "      border-color: transparent;\n",
              "      border-left-color: var(--fill-color);\n",
              "      border-top-color: var(--fill-color);\n",
              "    }\n",
              "    30% {\n",
              "      border-color: transparent;\n",
              "      border-left-color: var(--fill-color);\n",
              "      border-top-color: var(--fill-color);\n",
              "      border-right-color: var(--fill-color);\n",
              "    }\n",
              "    40% {\n",
              "      border-color: transparent;\n",
              "      border-right-color: var(--fill-color);\n",
              "      border-top-color: var(--fill-color);\n",
              "    }\n",
              "    60% {\n",
              "      border-color: transparent;\n",
              "      border-right-color: var(--fill-color);\n",
              "    }\n",
              "    80% {\n",
              "      border-color: transparent;\n",
              "      border-right-color: var(--fill-color);\n",
              "      border-bottom-color: var(--fill-color);\n",
              "    }\n",
              "    90% {\n",
              "      border-color: transparent;\n",
              "      border-bottom-color: var(--fill-color);\n",
              "    }\n",
              "  }\n",
              "</style>\n",
              "\n",
              "      <script>\n",
              "        async function quickchart(key) {\n",
              "          const quickchartButtonEl =\n",
              "            document.querySelector('#' + key + ' button');\n",
              "          quickchartButtonEl.disabled = true;  // To prevent multiple clicks.\n",
              "          quickchartButtonEl.classList.add('colab-df-spinner');\n",
              "          try {\n",
              "            const charts = await google.colab.kernel.invokeFunction(\n",
              "                'suggestCharts', [key], {});\n",
              "          } catch (error) {\n",
              "            console.error('Error during call to suggestCharts:', error);\n",
              "          }\n",
              "          quickchartButtonEl.classList.remove('colab-df-spinner');\n",
              "          quickchartButtonEl.classList.add('colab-df-quickchart-complete');\n",
              "        }\n",
              "        (() => {\n",
              "          let quickchartButtonEl =\n",
              "            document.querySelector('#df-2a193b0b-04cf-4bfc-971e-24654f67f9a2 button');\n",
              "          quickchartButtonEl.style.display =\n",
              "            google.colab.kernel.accessAllowed ? 'block' : 'none';\n",
              "        })();\n",
              "      </script>\n",
              "    </div>\n",
              "\n",
              "    </div>\n",
              "  </div>\n"
            ],
            "application/vnd.google.colaboratory.intrinsic+json": {
              "type": "dataframe",
              "summary": "{\n  \"name\": \"merged_df\",\n  \"rows\": 4,\n  \"fields\": [\n    {\n      \"column\": \"Reviews\",\n      \"properties\": {\n        \"dtype\": \"string\",\n        \"num_unique_values\": 4,\n        \"samples\": [\n          145998,\n          \"630\",\n          \"166628\"\n        ],\n        \"semantic_type\": \"\",\n        \"description\": \"\"\n      }\n    },\n    {\n      \"column\": \"Rating\",\n      \"properties\": {\n        \"dtype\": \"number\",\n        \"std\": 80678,\n        \"min\": 5,\n        \"max\": 166628,\n        \"num_unique_values\": 4,\n        \"samples\": [\n          10,\n          92402,\n          166628\n        ],\n        \"semantic_type\": \"\",\n        \"description\": \"\"\n      }\n    }\n  ]\n}"
            }
          },
          "metadata": {},
          "execution_count": 34
        }
      ],
      "source": [
        "merged_df.describe()"
      ]
    },
    {
      "cell_type": "markdown",
      "metadata": {
        "id": "ICwvZjia5nKA"
      },
      "source": [
        "Handling missing data"
      ]
    },
    {
      "cell_type": "code",
      "execution_count": null,
      "metadata": {
        "colab": {
          "base_uri": "https://localhost:8080/",
          "height": 147
        },
        "id": "43-kpkWy5lk1",
        "outputId": "f71d4df9-ba5c-4f28-9ab7-f198a0781d64"
      },
      "outputs": [
        {
          "output_type": "execute_result",
          "data": {
            "text/plain": [
              "Reviews    159\n",
              "Rating     159\n",
              "dtype: int64"
            ],
            "text/html": [
              "<div>\n",
              "<style scoped>\n",
              "    .dataframe tbody tr th:only-of-type {\n",
              "        vertical-align: middle;\n",
              "    }\n",
              "\n",
              "    .dataframe tbody tr th {\n",
              "        vertical-align: top;\n",
              "    }\n",
              "\n",
              "    .dataframe thead th {\n",
              "        text-align: right;\n",
              "    }\n",
              "</style>\n",
              "<table border=\"1\" class=\"dataframe\">\n",
              "  <thead>\n",
              "    <tr style=\"text-align: right;\">\n",
              "      <th></th>\n",
              "      <th>0</th>\n",
              "    </tr>\n",
              "  </thead>\n",
              "  <tbody>\n",
              "    <tr>\n",
              "      <th>Reviews</th>\n",
              "      <td>159</td>\n",
              "    </tr>\n",
              "    <tr>\n",
              "      <th>Rating</th>\n",
              "      <td>159</td>\n",
              "    </tr>\n",
              "  </tbody>\n",
              "</table>\n",
              "</div><br><label><b>dtype:</b> int64</label>"
            ]
          },
          "metadata": {},
          "execution_count": 35
        }
      ],
      "source": [
        "merged_df.isnull().sum()"
      ]
    },
    {
      "cell_type": "code",
      "execution_count": null,
      "metadata": {
        "id": "xsF2lZgZk4sP"
      },
      "outputs": [],
      "source": [
        "merged_df.dropna(inplace=True)"
      ]
    },
    {
      "cell_type": "markdown",
      "metadata": {
        "id": "BLHCm_G-52bx"
      },
      "source": [
        "Removing duplicates"
      ]
    },
    {
      "cell_type": "code",
      "execution_count": null,
      "metadata": {
        "colab": {
          "base_uri": "https://localhost:8080/"
        },
        "id": "_1d-9Z2r54sk",
        "outputId": "33907823-9aa7-4bd1-c639-578729341fe5"
      },
      "outputs": [
        {
          "output_type": "execute_result",
          "data": {
            "text/plain": [
              "np.int64(20603)"
            ]
          },
          "metadata": {},
          "execution_count": 37
        }
      ],
      "source": [
        "merged_df.duplicated().sum()"
      ]
    },
    {
      "cell_type": "code",
      "execution_count": null,
      "metadata": {
        "id": "ipuPmdxU5_8n"
      },
      "outputs": [],
      "source": [
        "merged_df.drop_duplicates(inplace=True)"
      ]
    },
    {
      "cell_type": "markdown",
      "metadata": {
        "id": "h0AdA7WytFAH"
      },
      "source": [
        "Nan values removal"
      ]
    },
    {
      "cell_type": "code",
      "execution_count": null,
      "metadata": {
        "colab": {
          "base_uri": "https://localhost:8080/"
        },
        "id": "a2rm92rvsLuU",
        "outputId": "98c0fea1-e873-4329-ee4a-f115bbd6d98b"
      },
      "outputs": [
        {
          "output_type": "stream",
          "name": "stdout",
          "text": [
            "Dataset after dropping NaN ratings: (146025, 2)\n"
          ]
        }
      ],
      "source": [
        "# Drop rows where Rating is NaN\n",
        "merged_df = merged_df.dropna(subset=['Rating'])\n",
        "\n",
        "# Reset index after dropping\n",
        "merged_df = merged_df.reset_index(drop=True)\n",
        "\n",
        "# Check new shape\n",
        "print(f\"Dataset after dropping NaN ratings: {merged_df.shape}\")"
      ]
    },
    {
      "cell_type": "markdown",
      "metadata": {
        "id": "fGzFyTvV_aZT"
      },
      "source": [
        "converting string to numeric"
      ]
    },
    {
      "cell_type": "code",
      "execution_count": null,
      "metadata": {
        "colab": {
          "base_uri": "https://localhost:8080/"
        },
        "id": "0JF9CfN1-i5O",
        "outputId": "8c03565a-88da-49d2-f041-53928af0b4c3"
      },
      "outputs": [
        {
          "output_type": "stream",
          "name": "stdout",
          "text": [
            "                                             Reviews  Rating\n",
            "0  Purchased this for my device, it worked as adv...     5.0\n",
            "1  it works as expected. I should have sprung for...     4.0\n",
            "2  This think has worked out great.Had a diff. br...     5.0\n",
            "3  Bought it with Retail Packaging, arrived legit...     5.0\n",
            "4  It's mini storage.  It doesn't do anything els...     5.0\n",
            "                                                  Reviews  Rating\n",
            "146020  I had been looking for popcorn salt for awhile...     5.0\n",
            "146021  My husband still makes popcorn the old fashion...     5.0\n",
            "146022  And I'm a huge fan of Diamond Crystal products...     5.0\n",
            "146023  The fine grind of the salt is perfect for popc...     5.0\n",
            "146024  I admit to being a saltaholic and this is my f...     4.0\n"
          ]
        }
      ],
      "source": [
        "# Convert Rating column\n",
        "merged_df['Rating'] = merged_df['Rating'].astype(str).str.extract(r'(\\d+)').astype(float)\n",
        "\n",
        "print(merged_df.head())\n",
        "print(merged_df.tail())"
      ]
    },
    {
      "cell_type": "code",
      "source": [
        "merged_df['Rating'] = merged_df['Rating'].astype(int)"
      ],
      "metadata": {
        "id": "D07IpUyrBu5W"
      },
      "execution_count": null,
      "outputs": []
    },
    {
      "cell_type": "code",
      "source": [
        "rating_counts = merged_df['Rating'].value_counts().sort_index()\n",
        "print(rating_counts)"
      ],
      "metadata": {
        "colab": {
          "base_uri": "https://localhost:8080/"
        },
        "id": "s0z2hqUzBUa4",
        "outputId": "81fbc684-11d0-4577-d852-5936977ea392"
      },
      "execution_count": null,
      "outputs": [
        {
          "output_type": "stream",
          "name": "stdout",
          "text": [
            "Rating\n",
            "1    24384\n",
            "2     7900\n",
            "3    10580\n",
            "4    19448\n",
            "5    83713\n",
            "Name: count, dtype: int64\n"
          ]
        }
      ]
    },
    {
      "cell_type": "markdown",
      "metadata": {
        "id": "s60tCF_E30xX"
      },
      "source": [
        "Removal of exact duplicates (same rate and review)\n"
      ]
    },
    {
      "cell_type": "code",
      "execution_count": null,
      "metadata": {
        "colab": {
          "base_uri": "https://localhost:8080/"
        },
        "id": "vckF90Z9z14r",
        "outputId": "fc8cec3f-6bcf-4591-c54a-dfb6233bc05c"
      },
      "outputs": [
        {
          "output_type": "stream",
          "name": "stdout",
          "text": [
            "Empty DataFrame\n",
            "Columns: [Reviews, Rating]\n",
            "Index: []\n"
          ]
        }
      ],
      "source": [
        "exact_duplicates = merged_df[merged_df.duplicated(subset=['Reviews','Rating'], keep=False)]\n",
        "print(exact_duplicates)"
      ]
    },
    {
      "cell_type": "markdown",
      "metadata": {
        "id": "PKcgzx7n35r6"
      },
      "source": [
        "Removal of conflicting ratings (same text different ratings)"
      ]
    },
    {
      "cell_type": "code",
      "execution_count": null,
      "metadata": {
        "colab": {
          "base_uri": "https://localhost:8080/"
        },
        "id": "k8JgceRj1cIR",
        "outputId": "ab492790-22cc-4051-f15a-d34dd942545d"
      },
      "outputs": [
        {
          "output_type": "stream",
          "name": "stdout",
          "text": [
            "                                                  Reviews  Rating\n",
            "5088                                Review text not found       1\n",
            "5099                                Review text not found       2\n",
            "5108                                Review text not found       4\n",
            "5340                                Review text not found       5\n",
            "5494                                Review text not found       3\n",
            "8905    Lowest price on-line. Free shipping. Delivery ...       4\n",
            "21159                           Very good online shopping       2\n",
            "21160                           Very good online shopping       4\n",
            "21557   Worst experience on online shopping ever!! Ama...       3\n",
            "21559   Worst experience on online shopping ever!! Ama...       1\n",
            "21741                                        good company       5\n",
            "25115                                        good company       4\n",
            "25319   Lowest price on-line. Free shipping. Delivery ...       5\n",
            "30239   Buffalo Bills Premium Snacks<br /><br />I real...       3\n",
            "30334   Good product! good price  fast shipping . need...       4\n",
            "31304   A few years ago, my cat was diagnosed with foo...       5\n",
            "32098   I have long been a fan of mixing juice, such a...       5\n",
            "40484   Delicious cup of coffee. This is not the best ...       4\n",
            "40797   Nong Shim's noodle that you need to boil to ea...       1\n",
            "41027   Delicious cup of coffee. This is not the best ...       5\n",
            "44898   This is an edit so I was unable to change my s...       4\n",
            "45076   This is an edit so I was unable to change my s...       5\n",
            "45536   I found these snacks on a jetblue flight and s...       5\n",
            "49895   this item was ok just as I expected I wish you...       3\n",
            "67546   My children (almost 3 & 1-1/2) love squeezable...       3\n",
            "76462   Very tasty. I like Honey-Nut Cheerios, and the...       4\n",
            "76492   Very tasty. I like Honey-Nut Cheerios, and the...       5\n",
            "90542   This is a great substitute if you're vegetaria...       4\n",
            "90543   This is a great substitute if you're vegetaria...       5\n",
            "91576   I ordered the complete set of Totonac sugar fr...       4\n",
            "92890   I ordered the complete set of Totonac sugar fr...       2\n",
            "94962   I have long been a fan of mixing juice, such a...       4\n",
            "99775   I bought these \"kcups\" to save money as the co...       4\n",
            "100676  Buffalo Bills Premium Snacks<br /><br />I real...       5\n",
            "101652  I compared 4 different brands of matcha green ...       5\n",
            "103721  Our westies love the Caesar Canine Cuisine foo...       5\n",
            "107407  My husband loves velveeta shells and cheese so...       5\n",
            "107702  I bought these \"kcups\" to save money as the co...       3\n",
            "108432  My husband loves velveeta shells and cheese so...       4\n",
            "109054  Nong Shim's noodle that you need to boil to ea...       2\n",
            "109748  Our westies love the Caesar Canine Cuisine foo...       4\n",
            "110535  I am a huge fan of ginger snaps. When recently...       5\n",
            "112238  I try to keep treats for the great grandbabies...       4\n",
            "112514  My children (almost 3 & 1-1/2) love squeezable...       4\n",
            "114248  this item was ok just as I expected I wish you...       5\n",
            "121277  A few years ago, my cat was diagnosed with foo...       4\n",
            "124141  I am a huge fan of ginger snaps. When recently...       4\n",
            "128697  I compared 4 different brands of matcha green ...       3\n",
            "130592  I found these snacks on a jetblue flight and s...       4\n",
            "135545  I try to keep treats for the great grandbabies...       5\n",
            "138330  Good product! good price  fast shipping . need...       5\n"
          ]
        }
      ],
      "source": [
        "# Find reviews that have conflicting ratings\n",
        "conflicting_reviews = merged_df[merged_df.duplicated(subset=['Reviews'], keep=False)]\n",
        "conflicting_reviews = conflicting_reviews.groupby('Reviews').filter(lambda x: len(x['Rating'].unique()) > 1)\n",
        "print(conflicting_reviews)"
      ]
    },
    {
      "cell_type": "code",
      "execution_count": null,
      "metadata": {
        "colab": {
          "base_uri": "https://localhost:8080/"
        },
        "id": "PRienUunl_XM",
        "outputId": "d5a72e8b-e949-4c99-dc00-368a57fc04dc"
      },
      "outputs": [
        {
          "output_type": "stream",
          "name": "stdout",
          "text": [
            "                                             Reviews  review_length\n",
            "0  Purchased this for my device, it worked as adv...            158\n",
            "1  it works as expected. I should have sprung for...            166\n",
            "2  This think has worked out great.Had a diff. br...            340\n",
            "3  Bought it with Retail Packaging, arrived legit...            290\n",
            "4  It's mini storage.  It doesn't do anything els...            282\n"
          ]
        }
      ],
      "source": [
        "merged_df['review_length'] = merged_df['Reviews'].str.len()\n",
        "\n",
        "# View the first few rows\n",
        "print(merged_df[['Reviews', 'review_length']].head())"
      ]
    },
    {
      "cell_type": "markdown",
      "metadata": {
        "id": "pqxom8-Bweft"
      },
      "source": [
        "Ratings count"
      ]
    },
    {
      "cell_type": "code",
      "execution_count": null,
      "metadata": {
        "colab": {
          "base_uri": "https://localhost:8080/"
        },
        "id": "rX1BGVj4uFwq",
        "outputId": "2294d298-c761-469d-9400-4a9fe7d3a9b1"
      },
      "outputs": [
        {
          "output_type": "stream",
          "name": "stdout",
          "text": [
            "Rating\n",
            "1    24384\n",
            "2     7900\n",
            "3    10580\n",
            "4    19448\n",
            "5    83713\n",
            "Name: count, dtype: int64\n"
          ]
        }
      ],
      "source": [
        "# Count each rating\n",
        "rating_counts = merged_df['Rating'].value_counts().sort_index()\n",
        "\n",
        "print(rating_counts)"
      ]
    },
    {
      "cell_type": "markdown",
      "source": [
        "Data Preprocessing"
      ],
      "metadata": {
        "id": "_Fx4rU1qKlaY"
      }
    },
    {
      "cell_type": "code",
      "source": [
        "import re\n",
        "import nltk\n",
        "from nltk.corpus import stopwords\n",
        "from nltk.stem import WordNetLemmatizer\n",
        "nltk.download('stopwords')\n",
        "nltk.download('wordnet')\n",
        "nltk.download('omw-1.4')"
      ],
      "metadata": {
        "id": "BbVYp5bVN_VW",
        "colab": {
          "base_uri": "https://localhost:8080/"
        },
        "outputId": "2c1867a3-f04d-4b7d-9d03-eae5b1e0b8e0"
      },
      "execution_count": null,
      "outputs": [
        {
          "output_type": "stream",
          "name": "stderr",
          "text": [
            "[nltk_data] Downloading package stopwords to /root/nltk_data...\n",
            "[nltk_data]   Unzipping corpora/stopwords.zip.\n",
            "[nltk_data] Downloading package wordnet to /root/nltk_data...\n",
            "[nltk_data] Downloading package omw-1.4 to /root/nltk_data...\n"
          ]
        },
        {
          "output_type": "execute_result",
          "data": {
            "text/plain": [
              "True"
            ]
          },
          "metadata": {},
          "execution_count": 47
        }
      ]
    },
    {
      "cell_type": "code",
      "execution_count": null,
      "metadata": {
        "id": "9LN3G84Icurj",
        "colab": {
          "base_uri": "https://localhost:8080/"
        },
        "outputId": "1690ce2e-a8c6-418b-b9e7-27783d6451fc"
      },
      "outputs": [
        {
          "output_type": "stream",
          "name": "stdout",
          "text": [
            "Remaining reviews after cleaning and filtering: 144471\n"
          ]
        }
      ],
      "source": [
        "from nltk.corpus import stopwords, wordnet as wn\n",
        "from nltk import pos_tag\n",
        "\n",
        "# Tagger name changed in newer NLTK; try both\n",
        "try:\n",
        "    nltk.download('averaged_perceptron_tagger', quiet=True)\n",
        "except:\n",
        "    pass\n",
        "try:\n",
        "    nltk.download('averaged_perceptron_tagger_eng', quiet=True)\n",
        "except:\n",
        "    pass\n",
        "\n",
        "# Lemmatization\n",
        "lemmatizer = WordNetLemmatizer()\n",
        "stop_words = set(stopwords.words('english'))\n",
        "\n",
        "def _to_wn_pos(tag: str):\n",
        "    \"\"\"Map NLTK POS tags to WordNet POS tags.\"\"\"\n",
        "    if tag.startswith('J'):\n",
        "        return wn.ADJ\n",
        "    if tag.startswith('V'):\n",
        "        return wn.VERB\n",
        "    if tag.startswith('N'):\n",
        "        return wn.NOUN\n",
        "    if tag.startswith('R'):\n",
        "        return wn.ADV\n",
        "    return wn.NOUN  # fallback\n",
        "\n",
        "# Text cleaning and normalization\n",
        "def clean_review(text):\n",
        "    if not isinstance(text, str):\n",
        "        return \"\"\n",
        "\n",
        "import re\n",
        "\n",
        "def clean_text(text):\n",
        "    text = text.strip()\n",
        "    if len(text) < 6 or not re.search(r\"[a-zA-Z]\", text):\n",
        "        return None  # mark as invalid\n",
        "    return text\n",
        "\n",
        "    # Lowercase\n",
        "    text = text.lower()\n",
        "\n",
        "    # Remove URLs, HTML, punctuation, numbers, extra spaces\n",
        "    text = re.sub(r\"http\\S+|www\\S+|https\\S+\", \" \", text)\n",
        "    text = re.sub(r\"<.*?>\", \" \", text)\n",
        "    text = re.sub(r\"[^\\w\\s]\", \" \", text)  # punctuation\n",
        "    text = re.sub(r\"\\d+\", \" \", text)\n",
        "    text = re.sub(r\"\\s+\", \" \", text).strip()\n",
        "\n",
        "    # Remove emojis (common ranges)\n",
        "    emoji_pattern = re.compile(\n",
        "        \"[\" +\n",
        "        \"\\U0001F600-\\U0001F64F\" +  # emoticons\n",
        "        \"\\U0001F300-\\U0001F5FF\" +  # symbols & pictographs\n",
        "        \"\\U0001F680-\\U0001F6FF\" +  # transport & map symbols\n",
        "        \"\\U0001F1E0-\\U0001F1FF\" +  # flags\n",
        "        \"]+\", flags=re.UNICODE\n",
        "    )\n",
        "    text = emoji_pattern.sub(\"\", text)\n",
        "\n",
        "    # Tokenize (simple split is fine after cleanup)\n",
        "    tokens = [w for w in text.split() if w not in stop_words]\n",
        "    if not tokens:\n",
        "        return \"\"\n",
        "\n",
        "    # POS-tag and lemmatize with correct POS\n",
        "    tagged = pos_tag(tokens)\n",
        "    lemmas = [lemmatizer.lemmatize(w, _to_wn_pos(t)) for w, t in tagged]\n",
        "\n",
        "    # Optional: filter out very short/very long reviews\n",
        "    if len(lemmas) < 3 or len(lemmas) > 200:\n",
        "        return \"\"\n",
        "\n",
        "    return \" \".join(lemmas)\n",
        "\n",
        "# ✅ Clean the existing 'Reviews' column directly\n",
        "merged_df['Reviews'] = merged_df['Reviews'].astype(str).apply(clean_review)\n",
        "\n",
        "# ✅ Remove empty reviews (those filtered out)\n",
        "merged_df = merged_df[merged_df['Reviews'].str.strip() != \"\"]\n",
        "\n",
        "print(\"Remaining reviews after cleaning and filtering:\", len(merged_df))"
      ]
    },
    {
      "cell_type": "code",
      "source": [
        "from nltk.corpus import stopwords\n",
        "\n",
        "# Load English stopwords\n",
        "stop_words = set(stopwords.words('english'))\n",
        "\n",
        "# Print total number and the stopwords themselves\n",
        "print(f\"Total stopwords: {len(stop_words)}\\n\")\n",
        "print(\"Stopwords list:\\n\")\n",
        "print(sorted(stop_words))"
      ],
      "metadata": {
        "colab": {
          "base_uri": "https://localhost:8080/"
        },
        "id": "D9AsYAykr3yI",
        "outputId": "833df8a6-4be6-40b4-da42-3d9aba1502c1"
      },
      "execution_count": null,
      "outputs": [
        {
          "output_type": "stream",
          "name": "stdout",
          "text": [
            "Total stopwords: 198\n",
            "\n",
            "Stopwords list:\n",
            "\n",
            "['a', 'about', 'above', 'after', 'again', 'against', 'ain', 'all', 'am', 'an', 'and', 'any', 'are', 'aren', \"aren't\", 'as', 'at', 'be', 'because', 'been', 'before', 'being', 'below', 'between', 'both', 'but', 'by', 'can', 'couldn', \"couldn't\", 'd', 'did', 'didn', \"didn't\", 'do', 'does', 'doesn', \"doesn't\", 'doing', 'don', \"don't\", 'down', 'during', 'each', 'few', 'for', 'from', 'further', 'had', 'hadn', \"hadn't\", 'has', 'hasn', \"hasn't\", 'have', 'haven', \"haven't\", 'having', 'he', \"he'd\", \"he'll\", \"he's\", 'her', 'here', 'hers', 'herself', 'him', 'himself', 'his', 'how', 'i', \"i'd\", \"i'll\", \"i'm\", \"i've\", 'if', 'in', 'into', 'is', 'isn', \"isn't\", 'it', \"it'd\", \"it'll\", \"it's\", 'its', 'itself', 'just', 'll', 'm', 'ma', 'me', 'mightn', \"mightn't\", 'more', 'most', 'mustn', \"mustn't\", 'my', 'myself', 'needn', \"needn't\", 'no', 'nor', 'not', 'now', 'o', 'of', 'off', 'on', 'once', 'only', 'or', 'other', 'our', 'ours', 'ourselves', 'out', 'over', 'own', 're', 's', 'same', 'shan', \"shan't\", 'she', \"she'd\", \"she'll\", \"she's\", 'should', \"should've\", 'shouldn', \"shouldn't\", 'so', 'some', 'such', 't', 'than', 'that', \"that'll\", 'the', 'their', 'theirs', 'them', 'themselves', 'then', 'there', 'these', 'they', \"they'd\", \"they'll\", \"they're\", \"they've\", 'this', 'those', 'through', 'to', 'too', 'under', 'until', 'up', 've', 'very', 'was', 'wasn', \"wasn't\", 'we', \"we'd\", \"we'll\", \"we're\", \"we've\", 'were', 'weren', \"weren't\", 'what', 'when', 'where', 'which', 'while', 'who', 'whom', 'why', 'will', 'with', 'won', \"won't\", 'wouldn', \"wouldn't\", 'y', 'you', \"you'd\", \"you'll\", \"you're\", \"you've\", 'your', 'yours', 'yourself', 'yourselves']\n"
          ]
        }
      ]
    },
    {
      "cell_type": "code",
      "source": [
        "merged_df.to_csv('/content/Completecleaned_data.csv', index=False)"
      ],
      "metadata": {
        "id": "KhU8Ehck7A6X"
      },
      "execution_count": null,
      "outputs": []
    },
    {
      "cell_type": "code",
      "source": [
        "merged_df.shape"
      ],
      "metadata": {
        "colab": {
          "base_uri": "https://localhost:8080/"
        },
        "id": "rs2tVWCEfOG4",
        "outputId": "65a3d749-8a35-4974-bce7-c6a4f544a3fa"
      },
      "execution_count": null,
      "outputs": [
        {
          "output_type": "execute_result",
          "data": {
            "text/plain": [
              "(144471, 3)"
            ]
          },
          "metadata": {},
          "execution_count": 51
        }
      ]
    },
    {
      "cell_type": "code",
      "source": [
        "merged_df.head()"
      ],
      "metadata": {
        "colab": {
          "base_uri": "https://localhost:8080/",
          "height": 206
        },
        "id": "a_pXcfaj59pK",
        "outputId": "4855ba31-1e71-4c88-d65f-789060137c42"
      },
      "execution_count": null,
      "outputs": [
        {
          "output_type": "execute_result",
          "data": {
            "text/plain": [
              "                                             Reviews  Rating  review_length\n",
              "0  purchase device work advertised never much pho...       5            158\n",
              "1  work expect sprung high capacity think make bi...       4            166\n",
              "2  think work great diff bran gb card go south mo...       5            340\n",
              "3  buy retail packaging arrive legit orange envel...       5            290\n",
              "4  mini storage anything else suppose purchase ad...       5            282"
            ],
            "text/html": [
              "\n",
              "  <div id=\"df-92f670bd-58c2-4d25-b661-1f41d84999b1\" class=\"colab-df-container\">\n",
              "    <div>\n",
              "<style scoped>\n",
              "    .dataframe tbody tr th:only-of-type {\n",
              "        vertical-align: middle;\n",
              "    }\n",
              "\n",
              "    .dataframe tbody tr th {\n",
              "        vertical-align: top;\n",
              "    }\n",
              "\n",
              "    .dataframe thead th {\n",
              "        text-align: right;\n",
              "    }\n",
              "</style>\n",
              "<table border=\"1\" class=\"dataframe\">\n",
              "  <thead>\n",
              "    <tr style=\"text-align: right;\">\n",
              "      <th></th>\n",
              "      <th>Reviews</th>\n",
              "      <th>Rating</th>\n",
              "      <th>review_length</th>\n",
              "    </tr>\n",
              "  </thead>\n",
              "  <tbody>\n",
              "    <tr>\n",
              "      <th>0</th>\n",
              "      <td>purchase device work advertised never much pho...</td>\n",
              "      <td>5</td>\n",
              "      <td>158</td>\n",
              "    </tr>\n",
              "    <tr>\n",
              "      <th>1</th>\n",
              "      <td>work expect sprung high capacity think make bi...</td>\n",
              "      <td>4</td>\n",
              "      <td>166</td>\n",
              "    </tr>\n",
              "    <tr>\n",
              "      <th>2</th>\n",
              "      <td>think work great diff bran gb card go south mo...</td>\n",
              "      <td>5</td>\n",
              "      <td>340</td>\n",
              "    </tr>\n",
              "    <tr>\n",
              "      <th>3</th>\n",
              "      <td>buy retail packaging arrive legit orange envel...</td>\n",
              "      <td>5</td>\n",
              "      <td>290</td>\n",
              "    </tr>\n",
              "    <tr>\n",
              "      <th>4</th>\n",
              "      <td>mini storage anything else suppose purchase ad...</td>\n",
              "      <td>5</td>\n",
              "      <td>282</td>\n",
              "    </tr>\n",
              "  </tbody>\n",
              "</table>\n",
              "</div>\n",
              "    <div class=\"colab-df-buttons\">\n",
              "\n",
              "  <div class=\"colab-df-container\">\n",
              "    <button class=\"colab-df-convert\" onclick=\"convertToInteractive('df-92f670bd-58c2-4d25-b661-1f41d84999b1')\"\n",
              "            title=\"Convert this dataframe to an interactive table.\"\n",
              "            style=\"display:none;\">\n",
              "\n",
              "  <svg xmlns=\"http://www.w3.org/2000/svg\" height=\"24px\" viewBox=\"0 -960 960 960\">\n",
              "    <path d=\"M120-120v-720h720v720H120Zm60-500h600v-160H180v160Zm220 220h160v-160H400v160Zm0 220h160v-160H400v160ZM180-400h160v-160H180v160Zm440 0h160v-160H620v160ZM180-180h160v-160H180v160Zm440 0h160v-160H620v160Z\"/>\n",
              "  </svg>\n",
              "    </button>\n",
              "\n",
              "  <style>\n",
              "    .colab-df-container {\n",
              "      display:flex;\n",
              "      gap: 12px;\n",
              "    }\n",
              "\n",
              "    .colab-df-convert {\n",
              "      background-color: #E8F0FE;\n",
              "      border: none;\n",
              "      border-radius: 50%;\n",
              "      cursor: pointer;\n",
              "      display: none;\n",
              "      fill: #1967D2;\n",
              "      height: 32px;\n",
              "      padding: 0 0 0 0;\n",
              "      width: 32px;\n",
              "    }\n",
              "\n",
              "    .colab-df-convert:hover {\n",
              "      background-color: #E2EBFA;\n",
              "      box-shadow: 0px 1px 2px rgba(60, 64, 67, 0.3), 0px 1px 3px 1px rgba(60, 64, 67, 0.15);\n",
              "      fill: #174EA6;\n",
              "    }\n",
              "\n",
              "    .colab-df-buttons div {\n",
              "      margin-bottom: 4px;\n",
              "    }\n",
              "\n",
              "    [theme=dark] .colab-df-convert {\n",
              "      background-color: #3B4455;\n",
              "      fill: #D2E3FC;\n",
              "    }\n",
              "\n",
              "    [theme=dark] .colab-df-convert:hover {\n",
              "      background-color: #434B5C;\n",
              "      box-shadow: 0px 1px 3px 1px rgba(0, 0, 0, 0.15);\n",
              "      filter: drop-shadow(0px 1px 2px rgba(0, 0, 0, 0.3));\n",
              "      fill: #FFFFFF;\n",
              "    }\n",
              "  </style>\n",
              "\n",
              "    <script>\n",
              "      const buttonEl =\n",
              "        document.querySelector('#df-92f670bd-58c2-4d25-b661-1f41d84999b1 button.colab-df-convert');\n",
              "      buttonEl.style.display =\n",
              "        google.colab.kernel.accessAllowed ? 'block' : 'none';\n",
              "\n",
              "      async function convertToInteractive(key) {\n",
              "        const element = document.querySelector('#df-92f670bd-58c2-4d25-b661-1f41d84999b1');\n",
              "        const dataTable =\n",
              "          await google.colab.kernel.invokeFunction('convertToInteractive',\n",
              "                                                    [key], {});\n",
              "        if (!dataTable) return;\n",
              "\n",
              "        const docLinkHtml = 'Like what you see? Visit the ' +\n",
              "          '<a target=\"_blank\" href=https://colab.research.google.com/notebooks/data_table.ipynb>data table notebook</a>'\n",
              "          + ' to learn more about interactive tables.';\n",
              "        element.innerHTML = '';\n",
              "        dataTable['output_type'] = 'display_data';\n",
              "        await google.colab.output.renderOutput(dataTable, element);\n",
              "        const docLink = document.createElement('div');\n",
              "        docLink.innerHTML = docLinkHtml;\n",
              "        element.appendChild(docLink);\n",
              "      }\n",
              "    </script>\n",
              "  </div>\n",
              "\n",
              "\n",
              "    <div id=\"df-5c30fe02-7bbe-444a-a789-50a153a09ec2\">\n",
              "      <button class=\"colab-df-quickchart\" onclick=\"quickchart('df-5c30fe02-7bbe-444a-a789-50a153a09ec2')\"\n",
              "                title=\"Suggest charts\"\n",
              "                style=\"display:none;\">\n",
              "\n",
              "<svg xmlns=\"http://www.w3.org/2000/svg\" height=\"24px\"viewBox=\"0 0 24 24\"\n",
              "     width=\"24px\">\n",
              "    <g>\n",
              "        <path d=\"M19 3H5c-1.1 0-2 .9-2 2v14c0 1.1.9 2 2 2h14c1.1 0 2-.9 2-2V5c0-1.1-.9-2-2-2zM9 17H7v-7h2v7zm4 0h-2V7h2v10zm4 0h-2v-4h2v4z\"/>\n",
              "    </g>\n",
              "</svg>\n",
              "      </button>\n",
              "\n",
              "<style>\n",
              "  .colab-df-quickchart {\n",
              "      --bg-color: #E8F0FE;\n",
              "      --fill-color: #1967D2;\n",
              "      --hover-bg-color: #E2EBFA;\n",
              "      --hover-fill-color: #174EA6;\n",
              "      --disabled-fill-color: #AAA;\n",
              "      --disabled-bg-color: #DDD;\n",
              "  }\n",
              "\n",
              "  [theme=dark] .colab-df-quickchart {\n",
              "      --bg-color: #3B4455;\n",
              "      --fill-color: #D2E3FC;\n",
              "      --hover-bg-color: #434B5C;\n",
              "      --hover-fill-color: #FFFFFF;\n",
              "      --disabled-bg-color: #3B4455;\n",
              "      --disabled-fill-color: #666;\n",
              "  }\n",
              "\n",
              "  .colab-df-quickchart {\n",
              "    background-color: var(--bg-color);\n",
              "    border: none;\n",
              "    border-radius: 50%;\n",
              "    cursor: pointer;\n",
              "    display: none;\n",
              "    fill: var(--fill-color);\n",
              "    height: 32px;\n",
              "    padding: 0;\n",
              "    width: 32px;\n",
              "  }\n",
              "\n",
              "  .colab-df-quickchart:hover {\n",
              "    background-color: var(--hover-bg-color);\n",
              "    box-shadow: 0 1px 2px rgba(60, 64, 67, 0.3), 0 1px 3px 1px rgba(60, 64, 67, 0.15);\n",
              "    fill: var(--button-hover-fill-color);\n",
              "  }\n",
              "\n",
              "  .colab-df-quickchart-complete:disabled,\n",
              "  .colab-df-quickchart-complete:disabled:hover {\n",
              "    background-color: var(--disabled-bg-color);\n",
              "    fill: var(--disabled-fill-color);\n",
              "    box-shadow: none;\n",
              "  }\n",
              "\n",
              "  .colab-df-spinner {\n",
              "    border: 2px solid var(--fill-color);\n",
              "    border-color: transparent;\n",
              "    border-bottom-color: var(--fill-color);\n",
              "    animation:\n",
              "      spin 1s steps(1) infinite;\n",
              "  }\n",
              "\n",
              "  @keyframes spin {\n",
              "    0% {\n",
              "      border-color: transparent;\n",
              "      border-bottom-color: var(--fill-color);\n",
              "      border-left-color: var(--fill-color);\n",
              "    }\n",
              "    20% {\n",
              "      border-color: transparent;\n",
              "      border-left-color: var(--fill-color);\n",
              "      border-top-color: var(--fill-color);\n",
              "    }\n",
              "    30% {\n",
              "      border-color: transparent;\n",
              "      border-left-color: var(--fill-color);\n",
              "      border-top-color: var(--fill-color);\n",
              "      border-right-color: var(--fill-color);\n",
              "    }\n",
              "    40% {\n",
              "      border-color: transparent;\n",
              "      border-right-color: var(--fill-color);\n",
              "      border-top-color: var(--fill-color);\n",
              "    }\n",
              "    60% {\n",
              "      border-color: transparent;\n",
              "      border-right-color: var(--fill-color);\n",
              "    }\n",
              "    80% {\n",
              "      border-color: transparent;\n",
              "      border-right-color: var(--fill-color);\n",
              "      border-bottom-color: var(--fill-color);\n",
              "    }\n",
              "    90% {\n",
              "      border-color: transparent;\n",
              "      border-bottom-color: var(--fill-color);\n",
              "    }\n",
              "  }\n",
              "</style>\n",
              "\n",
              "      <script>\n",
              "        async function quickchart(key) {\n",
              "          const quickchartButtonEl =\n",
              "            document.querySelector('#' + key + ' button');\n",
              "          quickchartButtonEl.disabled = true;  // To prevent multiple clicks.\n",
              "          quickchartButtonEl.classList.add('colab-df-spinner');\n",
              "          try {\n",
              "            const charts = await google.colab.kernel.invokeFunction(\n",
              "                'suggestCharts', [key], {});\n",
              "          } catch (error) {\n",
              "            console.error('Error during call to suggestCharts:', error);\n",
              "          }\n",
              "          quickchartButtonEl.classList.remove('colab-df-spinner');\n",
              "          quickchartButtonEl.classList.add('colab-df-quickchart-complete');\n",
              "        }\n",
              "        (() => {\n",
              "          let quickchartButtonEl =\n",
              "            document.querySelector('#df-5c30fe02-7bbe-444a-a789-50a153a09ec2 button');\n",
              "          quickchartButtonEl.style.display =\n",
              "            google.colab.kernel.accessAllowed ? 'block' : 'none';\n",
              "        })();\n",
              "      </script>\n",
              "    </div>\n",
              "\n",
              "    </div>\n",
              "  </div>\n"
            ],
            "application/vnd.google.colaboratory.intrinsic+json": {
              "type": "dataframe",
              "variable_name": "merged_df"
            }
          },
          "metadata": {},
          "execution_count": 52
        }
      ]
    },
    {
      "cell_type": "code",
      "source": [
        "merged_df.head()"
      ],
      "metadata": {
        "colab": {
          "base_uri": "https://localhost:8080/",
          "height": 206
        },
        "id": "xP-eTPv8xIRS",
        "outputId": "548f5cb0-831d-4013-de4b-489e76bc5808"
      },
      "execution_count": null,
      "outputs": [
        {
          "output_type": "execute_result",
          "data": {
            "text/plain": [
              "                                             Reviews  Rating  review_length\n",
              "0  purchase device work advertised never much pho...       5            158\n",
              "1  work expect sprung high capacity think make bi...       4            166\n",
              "2  think work great diff bran gb card go south mo...       5            340\n",
              "3  buy retail packaging arrive legit orange envel...       5            290\n",
              "4  mini storage anything else suppose purchase ad...       5            282"
            ],
            "text/html": [
              "\n",
              "  <div id=\"df-de3a1559-122e-4f1b-81bf-7891d427bccd\" class=\"colab-df-container\">\n",
              "    <div>\n",
              "<style scoped>\n",
              "    .dataframe tbody tr th:only-of-type {\n",
              "        vertical-align: middle;\n",
              "    }\n",
              "\n",
              "    .dataframe tbody tr th {\n",
              "        vertical-align: top;\n",
              "    }\n",
              "\n",
              "    .dataframe thead th {\n",
              "        text-align: right;\n",
              "    }\n",
              "</style>\n",
              "<table border=\"1\" class=\"dataframe\">\n",
              "  <thead>\n",
              "    <tr style=\"text-align: right;\">\n",
              "      <th></th>\n",
              "      <th>Reviews</th>\n",
              "      <th>Rating</th>\n",
              "      <th>review_length</th>\n",
              "    </tr>\n",
              "  </thead>\n",
              "  <tbody>\n",
              "    <tr>\n",
              "      <th>0</th>\n",
              "      <td>purchase device work advertised never much pho...</td>\n",
              "      <td>5</td>\n",
              "      <td>158</td>\n",
              "    </tr>\n",
              "    <tr>\n",
              "      <th>1</th>\n",
              "      <td>work expect sprung high capacity think make bi...</td>\n",
              "      <td>4</td>\n",
              "      <td>166</td>\n",
              "    </tr>\n",
              "    <tr>\n",
              "      <th>2</th>\n",
              "      <td>think work great diff bran gb card go south mo...</td>\n",
              "      <td>5</td>\n",
              "      <td>340</td>\n",
              "    </tr>\n",
              "    <tr>\n",
              "      <th>3</th>\n",
              "      <td>buy retail packaging arrive legit orange envel...</td>\n",
              "      <td>5</td>\n",
              "      <td>290</td>\n",
              "    </tr>\n",
              "    <tr>\n",
              "      <th>4</th>\n",
              "      <td>mini storage anything else suppose purchase ad...</td>\n",
              "      <td>5</td>\n",
              "      <td>282</td>\n",
              "    </tr>\n",
              "  </tbody>\n",
              "</table>\n",
              "</div>\n",
              "    <div class=\"colab-df-buttons\">\n",
              "\n",
              "  <div class=\"colab-df-container\">\n",
              "    <button class=\"colab-df-convert\" onclick=\"convertToInteractive('df-de3a1559-122e-4f1b-81bf-7891d427bccd')\"\n",
              "            title=\"Convert this dataframe to an interactive table.\"\n",
              "            style=\"display:none;\">\n",
              "\n",
              "  <svg xmlns=\"http://www.w3.org/2000/svg\" height=\"24px\" viewBox=\"0 -960 960 960\">\n",
              "    <path d=\"M120-120v-720h720v720H120Zm60-500h600v-160H180v160Zm220 220h160v-160H400v160Zm0 220h160v-160H400v160ZM180-400h160v-160H180v160Zm440 0h160v-160H620v160ZM180-180h160v-160H180v160Zm440 0h160v-160H620v160Z\"/>\n",
              "  </svg>\n",
              "    </button>\n",
              "\n",
              "  <style>\n",
              "    .colab-df-container {\n",
              "      display:flex;\n",
              "      gap: 12px;\n",
              "    }\n",
              "\n",
              "    .colab-df-convert {\n",
              "      background-color: #E8F0FE;\n",
              "      border: none;\n",
              "      border-radius: 50%;\n",
              "      cursor: pointer;\n",
              "      display: none;\n",
              "      fill: #1967D2;\n",
              "      height: 32px;\n",
              "      padding: 0 0 0 0;\n",
              "      width: 32px;\n",
              "    }\n",
              "\n",
              "    .colab-df-convert:hover {\n",
              "      background-color: #E2EBFA;\n",
              "      box-shadow: 0px 1px 2px rgba(60, 64, 67, 0.3), 0px 1px 3px 1px rgba(60, 64, 67, 0.15);\n",
              "      fill: #174EA6;\n",
              "    }\n",
              "\n",
              "    .colab-df-buttons div {\n",
              "      margin-bottom: 4px;\n",
              "    }\n",
              "\n",
              "    [theme=dark] .colab-df-convert {\n",
              "      background-color: #3B4455;\n",
              "      fill: #D2E3FC;\n",
              "    }\n",
              "\n",
              "    [theme=dark] .colab-df-convert:hover {\n",
              "      background-color: #434B5C;\n",
              "      box-shadow: 0px 1px 3px 1px rgba(0, 0, 0, 0.15);\n",
              "      filter: drop-shadow(0px 1px 2px rgba(0, 0, 0, 0.3));\n",
              "      fill: #FFFFFF;\n",
              "    }\n",
              "  </style>\n",
              "\n",
              "    <script>\n",
              "      const buttonEl =\n",
              "        document.querySelector('#df-de3a1559-122e-4f1b-81bf-7891d427bccd button.colab-df-convert');\n",
              "      buttonEl.style.display =\n",
              "        google.colab.kernel.accessAllowed ? 'block' : 'none';\n",
              "\n",
              "      async function convertToInteractive(key) {\n",
              "        const element = document.querySelector('#df-de3a1559-122e-4f1b-81bf-7891d427bccd');\n",
              "        const dataTable =\n",
              "          await google.colab.kernel.invokeFunction('convertToInteractive',\n",
              "                                                    [key], {});\n",
              "        if (!dataTable) return;\n",
              "\n",
              "        const docLinkHtml = 'Like what you see? Visit the ' +\n",
              "          '<a target=\"_blank\" href=https://colab.research.google.com/notebooks/data_table.ipynb>data table notebook</a>'\n",
              "          + ' to learn more about interactive tables.';\n",
              "        element.innerHTML = '';\n",
              "        dataTable['output_type'] = 'display_data';\n",
              "        await google.colab.output.renderOutput(dataTable, element);\n",
              "        const docLink = document.createElement('div');\n",
              "        docLink.innerHTML = docLinkHtml;\n",
              "        element.appendChild(docLink);\n",
              "      }\n",
              "    </script>\n",
              "  </div>\n",
              "\n",
              "\n",
              "    <div id=\"df-3629a721-e0ba-4642-b969-ec39797fdfe9\">\n",
              "      <button class=\"colab-df-quickchart\" onclick=\"quickchart('df-3629a721-e0ba-4642-b969-ec39797fdfe9')\"\n",
              "                title=\"Suggest charts\"\n",
              "                style=\"display:none;\">\n",
              "\n",
              "<svg xmlns=\"http://www.w3.org/2000/svg\" height=\"24px\"viewBox=\"0 0 24 24\"\n",
              "     width=\"24px\">\n",
              "    <g>\n",
              "        <path d=\"M19 3H5c-1.1 0-2 .9-2 2v14c0 1.1.9 2 2 2h14c1.1 0 2-.9 2-2V5c0-1.1-.9-2-2-2zM9 17H7v-7h2v7zm4 0h-2V7h2v10zm4 0h-2v-4h2v4z\"/>\n",
              "    </g>\n",
              "</svg>\n",
              "      </button>\n",
              "\n",
              "<style>\n",
              "  .colab-df-quickchart {\n",
              "      --bg-color: #E8F0FE;\n",
              "      --fill-color: #1967D2;\n",
              "      --hover-bg-color: #E2EBFA;\n",
              "      --hover-fill-color: #174EA6;\n",
              "      --disabled-fill-color: #AAA;\n",
              "      --disabled-bg-color: #DDD;\n",
              "  }\n",
              "\n",
              "  [theme=dark] .colab-df-quickchart {\n",
              "      --bg-color: #3B4455;\n",
              "      --fill-color: #D2E3FC;\n",
              "      --hover-bg-color: #434B5C;\n",
              "      --hover-fill-color: #FFFFFF;\n",
              "      --disabled-bg-color: #3B4455;\n",
              "      --disabled-fill-color: #666;\n",
              "  }\n",
              "\n",
              "  .colab-df-quickchart {\n",
              "    background-color: var(--bg-color);\n",
              "    border: none;\n",
              "    border-radius: 50%;\n",
              "    cursor: pointer;\n",
              "    display: none;\n",
              "    fill: var(--fill-color);\n",
              "    height: 32px;\n",
              "    padding: 0;\n",
              "    width: 32px;\n",
              "  }\n",
              "\n",
              "  .colab-df-quickchart:hover {\n",
              "    background-color: var(--hover-bg-color);\n",
              "    box-shadow: 0 1px 2px rgba(60, 64, 67, 0.3), 0 1px 3px 1px rgba(60, 64, 67, 0.15);\n",
              "    fill: var(--button-hover-fill-color);\n",
              "  }\n",
              "\n",
              "  .colab-df-quickchart-complete:disabled,\n",
              "  .colab-df-quickchart-complete:disabled:hover {\n",
              "    background-color: var(--disabled-bg-color);\n",
              "    fill: var(--disabled-fill-color);\n",
              "    box-shadow: none;\n",
              "  }\n",
              "\n",
              "  .colab-df-spinner {\n",
              "    border: 2px solid var(--fill-color);\n",
              "    border-color: transparent;\n",
              "    border-bottom-color: var(--fill-color);\n",
              "    animation:\n",
              "      spin 1s steps(1) infinite;\n",
              "  }\n",
              "\n",
              "  @keyframes spin {\n",
              "    0% {\n",
              "      border-color: transparent;\n",
              "      border-bottom-color: var(--fill-color);\n",
              "      border-left-color: var(--fill-color);\n",
              "    }\n",
              "    20% {\n",
              "      border-color: transparent;\n",
              "      border-left-color: var(--fill-color);\n",
              "      border-top-color: var(--fill-color);\n",
              "    }\n",
              "    30% {\n",
              "      border-color: transparent;\n",
              "      border-left-color: var(--fill-color);\n",
              "      border-top-color: var(--fill-color);\n",
              "      border-right-color: var(--fill-color);\n",
              "    }\n",
              "    40% {\n",
              "      border-color: transparent;\n",
              "      border-right-color: var(--fill-color);\n",
              "      border-top-color: var(--fill-color);\n",
              "    }\n",
              "    60% {\n",
              "      border-color: transparent;\n",
              "      border-right-color: var(--fill-color);\n",
              "    }\n",
              "    80% {\n",
              "      border-color: transparent;\n",
              "      border-right-color: var(--fill-color);\n",
              "      border-bottom-color: var(--fill-color);\n",
              "    }\n",
              "    90% {\n",
              "      border-color: transparent;\n",
              "      border-bottom-color: var(--fill-color);\n",
              "    }\n",
              "  }\n",
              "</style>\n",
              "\n",
              "      <script>\n",
              "        async function quickchart(key) {\n",
              "          const quickchartButtonEl =\n",
              "            document.querySelector('#' + key + ' button');\n",
              "          quickchartButtonEl.disabled = true;  // To prevent multiple clicks.\n",
              "          quickchartButtonEl.classList.add('colab-df-spinner');\n",
              "          try {\n",
              "            const charts = await google.colab.kernel.invokeFunction(\n",
              "                'suggestCharts', [key], {});\n",
              "          } catch (error) {\n",
              "            console.error('Error during call to suggestCharts:', error);\n",
              "          }\n",
              "          quickchartButtonEl.classList.remove('colab-df-spinner');\n",
              "          quickchartButtonEl.classList.add('colab-df-quickchart-complete');\n",
              "        }\n",
              "        (() => {\n",
              "          let quickchartButtonEl =\n",
              "            document.querySelector('#df-3629a721-e0ba-4642-b969-ec39797fdfe9 button');\n",
              "          quickchartButtonEl.style.display =\n",
              "            google.colab.kernel.accessAllowed ? 'block' : 'none';\n",
              "        })();\n",
              "      </script>\n",
              "    </div>\n",
              "\n",
              "    </div>\n",
              "  </div>\n"
            ],
            "application/vnd.google.colaboratory.intrinsic+json": {
              "type": "dataframe",
              "variable_name": "merged_df"
            }
          },
          "metadata": {},
          "execution_count": 53
        }
      ]
    },
    {
      "cell_type": "markdown",
      "metadata": {
        "id": "HYwOjNIIQdZj"
      },
      "source": [
        "Balancing datasets"
      ]
    },
    {
      "cell_type": "code",
      "execution_count": null,
      "metadata": {
        "colab": {
          "base_uri": "https://localhost:8080/"
        },
        "id": "04FJZ0T-oWP7",
        "outputId": "bf9df1c5-9839-409e-a6b9-cafeef6c0224"
      },
      "outputs": [
        {
          "output_type": "stream",
          "name": "stdout",
          "text": [
            "Before balancing:\n",
            "Rating\n",
            "5    83022\n",
            "1    24007\n",
            "4    19198\n",
            "3    10441\n",
            "2     7803\n",
            "Name: count, dtype: int64\n",
            "\n",
            "After balancing:\n",
            "Rating\n",
            "1    2000\n",
            "2    2000\n",
            "3    2000\n",
            "4    2000\n",
            "5    2000\n",
            "Name: count, dtype: int64\n",
            "Balanced dataset shape: (10000, 3)\n"
          ]
        },
        {
          "output_type": "stream",
          "name": "stderr",
          "text": [
            "/tmp/ipython-input-1955334307.py:19: DeprecationWarning: DataFrameGroupBy.apply operated on the grouping columns. This behavior is deprecated, and in a future version of pandas the grouping columns will be excluded from the operation. Either pass `include_groups=False` to exclude the groupings or explicitly select the grouping columns after groupby to silence this warning.\n",
            "  .apply(lambda x: x.sample(n=min(len(x), samples_per_class), random_state=42))\n"
          ]
        }
      ],
      "source": [
        "from sklearn.utils import resample\n",
        "import pandas as pd\n",
        "\n",
        "# Ensure Rating column is numeric\n",
        "merged_df['Rating'] = pd.to_numeric(merged_df['Rating'], errors='coerce')\n",
        "merged_df = merged_df.dropna(subset=['Rating'])\n",
        "merged_df['Rating'] = merged_df['Rating'].astype(int)\n",
        "\n",
        "# Show class distribution before balancing\n",
        "print(\"Before balancing:\")\n",
        "print(merged_df['Rating'].value_counts())\n",
        "\n",
        "# Define desired number of samples per class\n",
        "samples_per_class = 2000\n",
        "\n",
        "# Balance dataset by sampling equal number of reviews for each rating\n",
        "balanced_df = (\n",
        "    merged_df.groupby('Rating', group_keys=False)\n",
        "    .apply(lambda x: x.sample(n=min(len(x), samples_per_class), random_state=42))\n",
        "    .reset_index(drop=True)\n",
        ")\n",
        "\n",
        "# Show results\n",
        "print(\"\\nAfter balancing:\")\n",
        "print(balanced_df['Rating'].value_counts())\n",
        "print(\"Balanced dataset shape:\", balanced_df.shape)\n"
      ]
    },
    {
      "cell_type": "markdown",
      "metadata": {
        "id": "82IOI3HM_SvN"
      },
      "source": [
        "**Visualization**"
      ]
    },
    {
      "cell_type": "code",
      "execution_count": null,
      "metadata": {
        "id": "s-9sfRdp_UnB"
      },
      "outputs": [],
      "source": [
        "import matplotlib.pyplot as plt\n",
        "import seaborn as sns"
      ]
    },
    {
      "cell_type": "markdown",
      "metadata": {
        "id": "5lNVD6mHEY1O"
      },
      "source": [
        "**Bar chart**\n"
      ]
    },
    {
      "cell_type": "code",
      "execution_count": null,
      "metadata": {
        "id": "sNUWbd8SijLa",
        "colab": {
          "base_uri": "https://localhost:8080/",
          "height": 507
        },
        "outputId": "241bfd93-d0ec-4e4f-e6a1-f55bd41812d6"
      },
      "outputs": [
        {
          "output_type": "display_data",
          "data": {
            "text/plain": [
              "<Figure size 800x500 with 1 Axes>"
            ],
            "image/png": "[encoded data removed]"
          },
          "metadata": {}
        }
      ],
      "source": [
        "plt.figure(figsize=(8,5))\n",
        "rating_counts = balanced_df[\"Rating\"].value_counts().sort_index()\n",
        "plt.bar(rating_counts.index.astype(str), rating_counts.values)\n",
        "plt.xlabel(\"Rating\")\n",
        "plt.ylabel(\"Count\")\n",
        "plt.title(\"Rating Distribution\")\n",
        "plt.grid(axis=\"y\", linestyle=\"--\", alpha=0.3)\n",
        "plt.tight_layout()\n",
        "plt.show()"
      ]
    },
    {
      "cell_type": "markdown",
      "metadata": {
        "id": "2i8LIyH3prLP"
      },
      "source": [
        "**Histogram**"
      ]
    },
    {
      "cell_type": "code",
      "execution_count": null,
      "metadata": {
        "id": "2hFazrTKpu_N",
        "colab": {
          "base_uri": "https://localhost:8080/",
          "height": 410
        },
        "outputId": "bc74c707-c52a-4d88-cfe1-41018e53a5b5"
      },
      "outputs": [
        {
          "output_type": "display_data",
          "data": {
            "text/plain": [
              "<Figure size 600x400 with 1 Axes>"
            ],
            "image/png": "[encoded data removed]"
          },
          "metadata": {}
        }
      ],
      "source": [
        "plt.figure(figsize=(6,4))\n",
        "plt.hist(balanced_df['review_length'], bins=30, color='skyblue', edgecolor='black')\n",
        "plt.title('Review Length Distribution')\n",
        "plt.xlabel('Review Length')\n",
        "plt.xlim(0, 2500)\n",
        "plt.ylabel('Frequency')\n",
        "plt.show()"
      ]
    },
    {
      "cell_type": "markdown",
      "metadata": {
        "id": "hP1xMZdOp8HR"
      },
      "source": [
        "**Boxplot**"
      ]
    },
    {
      "cell_type": "code",
      "execution_count": null,
      "metadata": {
        "id": "_pCZpc-5p7oF",
        "colab": {
          "base_uri": "https://localhost:8080/",
          "height": 472
        },
        "outputId": "2c2b42ae-5e2f-43e0-91b5-da4f172e6b65"
      },
      "outputs": [
        {
          "output_type": "display_data",
          "data": {
            "text/plain": [
              "<Figure size 640x480 with 1 Axes>"
            ],
            "image/png": "[encoded data removed]"
          },
          "metadata": {}
        }
      ],
      "source": [
        "review_lengths = balanced_df['Reviews'].astype(str).apply(len)\n",
        "sns.boxplot(x=balanced_df['Rating'], y=review_lengths)\n",
        "plt.xlabel(\"Ratings\")\n",
        "plt.ylabel(\"Review Length (characters)\")\n",
        "plt.title(\"Boxplot of Review Length per Rating\")\n",
        "plt.show()"
      ]
    },
    {
      "cell_type": "markdown",
      "metadata": {
        "id": "sZIBMItl7GWv"
      },
      "source": [
        "**Violin Plot**"
      ]
    },
    {
      "cell_type": "code",
      "execution_count": null,
      "metadata": {
        "id": "o404ROWLAxr7",
        "colab": {
          "base_uri": "https://localhost:8080/",
          "height": 578
        },
        "outputId": "0a6039be-c859-4f3e-a899-d892e73113b0"
      },
      "outputs": [
        {
          "output_type": "stream",
          "name": "stderr",
          "text": [
            "/tmp/ipython-input-3521188022.py:2: FutureWarning: \n",
            "\n",
            "Passing `palette` without assigning `hue` is deprecated and will be removed in v0.14.0. Assign the `x` variable to `hue` and set `legend=False` for the same effect.\n",
            "\n",
            "  sns.violinplot(x='Rating', y='review_length', data=balanced_df, palette='magma')\n"
          ]
        },
        {
          "output_type": "display_data",
          "data": {
            "text/plain": [
              "<Figure size 800x500 with 1 Axes>"
            ],
            "image/png": "[encoded data removed]"
          },
          "metadata": {}
        }
      ],
      "source": [
        "plt.figure(figsize=(8,5))\n",
        "sns.violinplot(x='Rating', y='review_length', data=balanced_df, palette='magma')\n",
        "plt.title('Violin Plot of Review Length per Rating')\n",
        "plt.show()"
      ]
    },
    {
      "cell_type": "markdown",
      "metadata": {
        "id": "_qkcLmVmD3D7"
      },
      "source": [
        "**Word Frequency** (Top words per class)"
      ]
    },
    {
      "cell_type": "code",
      "execution_count": null,
      "metadata": {
        "id": "zlHTZZEZD9xa",
        "colab": {
          "base_uri": "https://localhost:8080/",
          "height": 1000
        },
        "outputId": "49362258-78d9-4b59-9a77-e4c3074b56df"
      },
      "outputs": [
        {
          "output_type": "display_data",
          "data": {
            "text/plain": [
              "<Figure size 640x480 with 1 Axes>"
            ],
            "image/png": "[encoded data removed]"
          },
          "metadata": {}
        },
        {
          "output_type": "display_data",
          "data": {
            "text/plain": [
              "<Figure size 640x480 with 1 Axes>"
            ],
            "image/png": "[encoded data removed]"
          },
          "metadata": {}
        },
        {
          "output_type": "display_data",
          "data": {
            "text/plain": [
              "<Figure size 640x480 with 1 Axes>"
            ],
            "image/png": "[encoded data removed]"
          },
          "metadata": {}
        },
        {
          "output_type": "display_data",
          "data": {
            "text/plain": [
              "<Figure size 640x480 with 1 Axes>"
            ],
            "image/png": "[encoded data removed]"
          },
          "metadata": {}
        },
        {
          "output_type": "display_data",
          "data": {
            "text/plain": [
              "<Figure size 640x480 with 1 Axes>"
            ],
            "image/png": "[encoded data removed]"
          },
          "metadata": {}
        }
      ],
      "source": [
        "from collections import Counter\n",
        "import re\n",
        "import matplotlib.pyplot as plt\n",
        "\n",
        "# Loop through each rating\n",
        "for rating in sorted(balanced_df['Rating'].unique()):\n",
        "    # Get all reviews for this rating\n",
        "    reviews_text = \" \".join(balanced_df[balanced_df['Rating'] == rating]['Reviews'].dropna().tolist())\n",
        "\n",
        "    # Clean text\n",
        "    reviews_text = re.sub(r'[^a-zA-Z\\s]', '', reviews_text.lower())\n",
        "\n",
        "    # Split into words\n",
        "    words = reviews_text.split()\n",
        "\n",
        "    # Count top 10 words\n",
        "    top_words = Counter(words).most_common(10)\n",
        "\n",
        "    # --- Plot ---\n",
        "    words_list, counts = zip(*top_words)\n",
        "    plt.bar(words_list, counts)\n",
        "    plt.xticks(rotation=45)\n",
        "    plt.title(f\"Top 10 Words for Rating {rating}\")\n",
        "    plt.ylabel(\"Frequency\")\n",
        "    plt.show()\n"
      ]
    },
    {
      "cell_type": "markdown",
      "source": [
        "Display 3-10 ratings per review"
      ],
      "metadata": {
        "id": "Bqgum5K9MSn5"
      }
    },
    {
      "cell_type": "code",
      "execution_count": null,
      "metadata": {
        "id": "yTsu7XCE8ftS",
        "colab": {
          "base_uri": "https://localhost:8080/"
        },
        "outputId": "5bdcb9e2-76f8-4512-ec8d-c6fd9bffab23"
      },
      "outputs": [
        {
          "output_type": "stream",
          "name": "stdout",
          "text": [
            "\n",
            "--- Rating 1 ---\n",
            "1. amazon seller everything proof item still amazon attitude accept proof seller also jealous account top first time amazon make thing difficult\n",
            "2. use thing deliver every house mine order cancel apparent reason really misleading description good\n",
            "3. live ireland order amazon uk always slow despatch normally take week send stock give false delivery date always track parcel never anywhere near u suppose delivery date send quicker stop lying\n",
            "4. awful company consistently ship incorrect defective product unable resolve issue contact person even cancel account bad company planet would rather shop twenty different website stuff need rip break robot anymore\n",
            "5. amason prime member get tedious rug pull stream content pay free prime member late delivery day even though opted next day prime delivery earlier delivery week find harder justify money im pay pathetic service seriously consider cancel sue breach contract basos think im pay extra leave\n",
            "\n",
            "--- Rating 2 ---\n",
            "1. read review buy pack cranberry orange sugar biscotti expect crisp light others thick like biscuit child use teethe yes taste good certainly one make regular biscotti tasty crispy still omit sugar take looong dunk get soft go nonni biscotti day\n",
            "2. item basket collectively worth quite sure expect buy glove something gummi worm cent stale cooky seed amazon tea way overprice deliver\n",
            "3. order large version field europe orange rise version flower close really want pink rose want pink rose would order bouquet instead hop something really pop summer springy love bouquet price send order make hope best ordered lot flower flower think find someone else disappoint something cost would come look closer want\n",
            "4. get husband drank pod yet use anymore think coffee weak less water recommend thanks free sample fun try new thing best coffee yet worth try update cut five packet put five cup filter full amount water coffee brew perfectly taste really good try instead use one shot packet work\n",
            "5. amazon need stop lying people horrible company never follow thru sell crap\n",
            "\n",
            "--- Rating 3 ---\n",
            "1. sample kali ginger lemon drink mix cold wintry day throat bit inflamed sore drank hot direct foil pouch honest first sip burn quite bit go due ginger continue drink lemon honey flavor come fore finishing whole cup throat felt little bit well realize overall liked beverage say big question like well enough order honest answer probably gold kali ginger lemon one product might enjoy rare occasion one tempt stock make part regular diet definitely group consumer spicy drink appeal heartily recommend man enjoy traditional warm cold beverage let say really cup tea\n",
            "2. ok son eat love carrot eats go move onto stage food\n",
            "3. quality brand good really enjoyed three six three bland three like little less spicy would eat make mass buy pack kidney bean curry spice like great\n",
            "4. nice perk senior citizen buy item receive free small drink ask counter clerk substitute limeade obviously would pay difference say limeade would still remain full price ask limeade labor intensive say question suggestion charge cent difference even extra cent fair ingredient cost full price insult customer sale clerk apologize say make sense either\n",
            "5. get chef michael grill sirloin dry dog food mixed half half dog current food avoid get run could definitely tell like new food since seem pick old food eat costco brand salmon grain free food year huge change since second third ingredient type soy product however disturbing part oil realize several piece kibble laid pantry several day vacuum oil stain slate floor let say costco kibble stick old brand dog food dog appreciate little variety diet last week\n",
            "\n",
            "--- Rating 4 ---\n",
            "1. use site everytime recomand\n",
            "2. haribo sour cherry vibrantly color look like red cherry green stem green leaf attach piece inch long cute unfortunately sugary sweet sour taste like cherry flavor cough drop come red white box medicinal purpose whatsoever like flavor artificial cherry good smell good look candy kid birthday party definitely hit need sugary pick grab set really want something sour try another kind haribo candy add thought would beautiful cake decoration\n",
            "3. good soda bread easy make also obtain one item gift\n",
            "4. try powdered milk year worth new try taste fine plan use blender make easy fast great somewhere fresh milk hard find good add smoothy protein booster many us take one star packaging nearly useless open zipper plastic bag closure function well fine powdery substance track clog become un closable almost bag also envelope shape tend flatten make scoop powder difficult plan dump wide mouth canister container tight lid efficient packaging traveler however light weight take least possible space great product camp travel probably still need double bag ziplock bag open seal problem\n",
            "5. cracker good bit sweet look sesame cracker go cheese egg salad salami etc flavor sour cream etc\n",
            "\n",
            "--- Rating 5 ---\n",
            "1. order year ago repeatedly order since everyone share love much also get right amazon order also mix coffee feel particularly naughty top whip cream delicious\n",
            "2. feel cold come product work get rest need traditional medicinals wonderful product work proclaim\n",
            "3. cant keep enough house kid drink like go style love cause easy make water packet best part sugar free\n",
            "4. best thing ever find use give dog pills great idea\n",
            "5. love amazon loyal amazon prime customer year amazon fair great refund return policy deliver fast smoothly sometimes day delivery take picture delivery notify package arrive amazon wide variety choose also large variety price item get pay hundred order amazon year refund one box spring dent puller\n"
          ]
        }
      ],
      "source": [
        "for rating in sorted(balanced_df[\"Rating\"].unique()):\n",
        "    print(f\"\\n--- Rating {rating} ---\")\n",
        "    samples = balanced_df[balanced_df[\"Rating\"] == rating][\"Reviews\"].sample(n=5, random_state=42)\n",
        "    for i, review in enumerate(samples, 1):\n",
        "        print(f\"{i}. {review}\")"
      ]
    },
    {
      "cell_type": "markdown",
      "metadata": {
        "id": "Ly9wRnKCQMoY"
      },
      "source": [
        "Imbalanced Dataset"
      ]
    },
    {
      "cell_type": "code",
      "execution_count": null,
      "metadata": {
        "id": "p636zINpNkBw",
        "colab": {
          "base_uri": "https://localhost:8080/"
        },
        "outputId": "fbbde231-0f65-444a-9376-b5f9ea0f3bf7"
      },
      "outputs": [
        {
          "output_type": "stream",
          "name": "stdout",
          "text": [
            "Remaining dataset shape after removing balanced: (134458, 3)\n",
            "✅ Final unbalanced dataset shape: (10000, 3)\n",
            "\n",
            " Rating distribution (%):\n",
            "Rating\n",
            "4    30.0\n",
            "3    25.0\n",
            "5    20.0\n",
            "2    15.0\n",
            "1    10.0\n",
            "Name: proportion, dtype: float64\n"
          ]
        }
      ],
      "source": [
        "import pandas as pd\n",
        "\n",
        "df_remaining = merged_df.merge(\n",
        "    balanced_df[['Rating', 'Reviews']],\n",
        "    on=['Rating', 'Reviews'],\n",
        "    how='left',\n",
        "    indicator=True\n",
        ")\n",
        "\n",
        "df_remaining = (\n",
        "    df_remaining[df_remaining['_merge'] == 'left_only']\n",
        "    .drop(columns=['_merge'])\n",
        "    .reset_index(drop=True)\n",
        ")\n",
        "\n",
        "print(\"Remaining dataset shape after removing balanced:\", df_remaining.shape)\n",
        "\n",
        "# Desired ratios for each rating\n",
        "ratios = {\n",
        "    1: 0.10,  # 10%\n",
        "    2: 0.15,  # 15%\n",
        "    3: 0.25,  # 25%\n",
        "    4: 0.30,  # 30%\n",
        "    5: 0.20   # 20%\n",
        "}\n",
        "\n",
        "# ✅ Set total size of unbalanced dataset\n",
        "total_unbalanced = 10000\n",
        "unbalanced_df_list = []\n",
        "\n",
        "for rating, ratio in ratios.items():\n",
        "    df_rating = df_remaining[df_remaining['Rating'] == rating]\n",
        "    sample_size = int(total_unbalanced * ratio)\n",
        "\n",
        "    # Handle cases where not enough samples are available\n",
        "    if len(df_rating) >= sample_size:\n",
        "        df_sampled = df_rating.sample(sample_size, random_state=42)\n",
        "    else:\n",
        "        print(f\" Only {len(df_rating)} samples available for rating {rating}, expected {sample_size}. Taking all available.\")\n",
        "        df_sampled = df_rating\n",
        "\n",
        "    unbalanced_df_list.append(df_sampled)\n",
        "\n",
        "df_unbalanced = pd.concat(unbalanced_df_list).reset_index(drop=True)\n",
        "\n",
        "# Shuffle to mix the samples well\n",
        "df_unbalanced = df_unbalanced.sample(frac=1, random_state=42).reset_index(drop=True)\n",
        "\n",
        "print(\"✅ Final unbalanced dataset shape:\", df_unbalanced.shape)\n",
        "print(\"\\n Rating distribution (%):\")\n",
        "print(df_unbalanced['Rating'].value_counts(normalize=True) * 100)\n"
      ]
    },
    {
      "cell_type": "code",
      "execution_count": null,
      "metadata": {
        "id": "TM3XyLAxY0MO",
        "colab": {
          "base_uri": "https://localhost:8080/"
        },
        "outputId": "82144699-7bd2-4777-f2dc-6524d8d8eb33"
      },
      "outputs": [
        {
          "output_type": "execute_result",
          "data": {
            "text/plain": [
              "(10000, 3)"
            ]
          },
          "metadata": {},
          "execution_count": 63
        }
      ],
      "source": [
        "df_unbalanced.shape"
      ]
    },
    {
      "cell_type": "markdown",
      "metadata": {
        "id": "cX_w3VJaRN_g"
      },
      "source": [
        "Visualization"
      ]
    },
    {
      "cell_type": "code",
      "execution_count": null,
      "metadata": {
        "id": "D9kN_ETCR_yy"
      },
      "outputs": [],
      "source": [
        "import matplotlib.pyplot as plt\n",
        "import seaborn as sns"
      ]
    },
    {
      "cell_type": "markdown",
      "metadata": {
        "id": "t6wPysaSTsVD"
      },
      "source": [
        "Bar Chart"
      ]
    },
    {
      "cell_type": "code",
      "execution_count": null,
      "metadata": {
        "id": "cAhe3xLxTs_0",
        "colab": {
          "base_uri": "https://localhost:8080/",
          "height": 410
        },
        "outputId": "3cf5d226-35e0-46fc-8226-b2470c845c8e"
      },
      "outputs": [
        {
          "output_type": "display_data",
          "data": {
            "text/plain": [
              "<Figure size 600x400 with 1 Axes>"
            ],
            "image/png": "[encoded data removed]"
          },
          "metadata": {}
        }
      ],
      "source": [
        "plt.figure(figsize=(6,4))\n",
        "sns.countplot(x=\"Rating\", data=df_unbalanced, order=sorted(df_unbalanced[\"Rating\"].unique()))\n",
        "plt.title(\"Rating Distribution (Imbalanced)\")\n",
        "plt.xlabel(\"Rating\")\n",
        "plt.ylabel(\"Count\")\n",
        "plt.show()"
      ]
    },
    {
      "cell_type": "markdown",
      "metadata": {
        "id": "qvNEXFr_UJlZ"
      },
      "source": [
        "Histogram"
      ]
    },
    {
      "cell_type": "code",
      "execution_count": null,
      "metadata": {
        "id": "2m9M0e3MUaza",
        "colab": {
          "base_uri": "https://localhost:8080/",
          "height": 410
        },
        "outputId": "2a4fe739-8e95-4b40-8079-ade0296ea2c5"
      },
      "outputs": [
        {
          "output_type": "display_data",
          "data": {
            "text/plain": [
              "<Figure size 600x400 with 1 Axes>"
            ],
            "image/png": "[encoded data removed]"
          },
          "metadata": {}
        }
      ],
      "source": [
        "plt.figure(figsize=(6,4))\n",
        "plt.hist(df_unbalanced[\"review_length\"], bins=50)\n",
        "plt.title(\"Review Length Distribution\")\n",
        "plt.xlabel(\"Number of Words\")\n",
        "plt.xlim(0, 2500)\n",
        "plt.ylabel(\"Frequency\")\n",
        "plt.show()"
      ]
    },
    {
      "cell_type": "markdown",
      "metadata": {
        "id": "iCcTEHPkUqRU"
      },
      "source": [
        "Boxplot"
      ]
    },
    {
      "cell_type": "code",
      "execution_count": null,
      "metadata": {
        "id": "KYxBL-7mUuVu",
        "colab": {
          "base_uri": "https://localhost:8080/",
          "height": 410
        },
        "outputId": "f49738f1-fd43-4f84-a237-f1e5856b527d"
      },
      "outputs": [
        {
          "output_type": "display_data",
          "data": {
            "text/plain": [
              "<Figure size 600x400 with 1 Axes>"
            ],
            "image/png": "[encoded data removed]"
          },
          "metadata": {}
        }
      ],
      "source": [
        "plt.figure(figsize=(6,4))\n",
        "sns.boxplot(x=\"Rating\", y=\"review_length\", data=df_unbalanced)\n",
        "plt.title(\"Review Length per Rating\")\n",
        "plt.xlabel(\"Rating\")\n",
        "plt.ylabel(\"Review Length (words)\")\n",
        "plt.show()"
      ]
    },
    {
      "cell_type": "markdown",
      "metadata": {
        "id": "0In_8kFVU4W3"
      },
      "source": [
        "Violin Plot"
      ]
    },
    {
      "cell_type": "code",
      "execution_count": null,
      "metadata": {
        "id": "hmCkXwZdU6cb",
        "colab": {
          "base_uri": "https://localhost:8080/",
          "height": 410
        },
        "outputId": "c818bcb5-79ce-495c-98da-4caf78227c1b"
      },
      "outputs": [
        {
          "output_type": "display_data",
          "data": {
            "text/plain": [
              "<Figure size 600x400 with 1 Axes>"
            ],
            "image/png": "[encoded data removed]"
          },
          "metadata": {}
        }
      ],
      "source": [
        "plt.figure(figsize=(6,4))\n",
        "sns.violinplot(x=\"Rating\", y=\"review_length\", data=df_unbalanced, inner=\"quartile\")\n",
        "plt.title(\"Review Length Distribution per Rating\")\n",
        "plt.xlabel(\"Rating\")\n",
        "plt.ylabel(\"Review Length (words)\")\n",
        "plt.show()"
      ]
    },
    {
      "cell_type": "markdown",
      "metadata": {
        "id": "Chs3Z0krVHcb"
      },
      "source": [
        "Word Frequency Top words per class"
      ]
    },
    {
      "cell_type": "code",
      "execution_count": null,
      "metadata": {
        "id": "jtuZ5UWrZhGX",
        "colab": {
          "base_uri": "https://localhost:8080/"
        },
        "outputId": "ad8c778f-74d0-49b7-eab4-d82c90e72cc1"
      },
      "outputs": [
        {
          "output_type": "stream",
          "name": "stderr",
          "text": [
            "[nltk_data] Downloading package stopwords to /root/nltk_data...\n",
            "[nltk_data]   Package stopwords is already up-to-date!\n"
          ]
        },
        {
          "output_type": "execute_result",
          "data": {
            "text/plain": [
              "True"
            ]
          },
          "metadata": {},
          "execution_count": 69
        }
      ],
      "source": [
        "import re\n",
        "from collections import Counter\n",
        "import nltk\n",
        "from nltk.corpus import stopwords\n",
        "nltk.download('stopwords')"
      ]
    },
    {
      "cell_type": "code",
      "execution_count": null,
      "metadata": {
        "id": "9NezDZ-fZdQJ",
        "colab": {
          "base_uri": "https://localhost:8080/",
          "height": 1000
        },
        "outputId": "6e1ec578-3ea0-4d75-b80c-e569a7e1bff1"
      },
      "outputs": [
        {
          "output_type": "display_data",
          "data": {
            "text/plain": [
              "<Figure size 600x400 with 1 Axes>"
            ],
            "image/png": "[encoded data removed]"
          },
          "metadata": {}
        },
        {
          "output_type": "display_data",
          "data": {
            "text/plain": [
              "<Figure size 600x400 with 1 Axes>"
            ],
            "image/png": "[encoded data removed]"
          },
          "metadata": {}
        },
        {
          "output_type": "display_data",
          "data": {
            "text/plain": [
              "<Figure size 600x400 with 1 Axes>"
            ],
            "image/png": "[encoded data removed]"
          },
          "metadata": {}
        },
        {
          "output_type": "display_data",
          "data": {
            "text/plain": [
              "<Figure size 600x400 with 1 Axes>"
            ],
            "image/png": "[encoded data removed]"
          },
          "metadata": {}
        },
        {
          "output_type": "display_data",
          "data": {
            "text/plain": [
              "<Figure size 600x400 with 1 Axes>"
            ],
            "image/png": "[encoded data removed]"
          },
          "metadata": {}
        }
      ],
      "source": [
        "# Run once\n",
        "stop_words = set(stopwords.words(\"english\"))\n",
        "\n",
        "def preprocess(text):\n",
        "    text = re.sub(r\"[^a-zA-Z\\s]\", \"\", text.lower())\n",
        "    return [w for w in text.split() if w not in stop_words and len(w) > 2]\n",
        "\n",
        "top_n = 10\n",
        "for rating in sorted(df[\"Rating\"].unique()):\n",
        "    words = df[df[\"Rating\"] == rating][\"Reviews\"].astype(str).apply(preprocess).sum()\n",
        "    freq = Counter(words).most_common(top_n)\n",
        "    words_, counts = zip(*freq)\n",
        "\n",
        "    plt.figure(figsize=(6,4))\n",
        "    sns.barplot(x=list(counts), y=list(words_))\n",
        "    plt.title(f\"Top {top_n} Words for Rating {rating}\")\n",
        "    plt.xlabel(\"Frequency\")\n",
        "    plt.ylabel(\"Word\")\n",
        "    plt.show()\n"
      ]
    },
    {
      "cell_type": "markdown",
      "source": [
        "Display 3-10 reviews per rating"
      ],
      "metadata": {
        "id": "lmc9j9BcNCcv"
      }
    },
    {
      "cell_type": "code",
      "execution_count": null,
      "metadata": {
        "id": "WX_UiZ8gALQi",
        "colab": {
          "base_uri": "https://localhost:8080/"
        },
        "outputId": "2e07ddde-3eed-4d9f-f052-3eb5c3f5c985"
      },
      "outputs": [
        {
          "output_type": "stream",
          "name": "stdout",
          "text": [
            "\n",
            "--- Rating 1 ---\n",
            "1. amazon bad thing ever encounter blocked order provide bunch document screenshot bank app show card number bunch card account statement copy passport even twice completely blocked account enough understand actually make payment card recruit moron employee amazon account closedthe information provide insufficient verify payment ownership pending order cancel believe error please contact amazon customer service\n",
            "2. enjoy syrup hate constant increase get reeeally feed corporate greed country\n",
            "3. person india need know treat customer instead go superior amazon fault agent priyanka bad ego fit inside chatbox learn c apply cs job\n",
            "4. hop find delicious new low carb snack well miss mark delicious mile extremely salty chewy hop find way salvage anyone suggestion ear\n",
            "5. disgust customer care rude unhelpful unprofessional keep refuse answer question chat feel would look bad end chat end still type awful people\n",
            "\n",
            "--- Rating 2 ---\n",
            "1. gum stick teeth flavor last long ok vending machine gum decent price gum good\n",
            "2. amazon one point amaze understand delay ship crazy time ship time keep get longer longer wish membership cost reflect inconvenience since two day delivery nonexistent\n",
            "3. sure happen amazon feel like care mess anymore actually seem like mess often get right delivery come say drop package neighbor place customer service absolute joke say dealt kind customer service rep last night one leave hold min hang without ever come back call back dealt rep call parag actually help rude way like usual get think every time call amazon treat like something wrong hello amazon people complain complain someone patience deal automated system interrogation order speak someone must really bad experience know care delivery get postponed next day send message sorry order delay cancel order get full refund bring pay well amazon get bad price like use\n",
            "4. like large variety oatmeal less week purchase amazon amazon prime march th go costco find exact product save money buy somewhere else\n",
            "5. find watery least can pumpkin likely less watery fresh pumpkin puree definitely watery libby generic brand grocery store texture upon open organic one smooth irregular make pie taste bit bland well also make mistake crust much water hand pie disappear two day rather one really liked art though label nice basically make fantastic pie especially would like organic suggest strain coffee filter place mesh colander overnight longer\n",
            "\n",
            "--- Rating 3 ---\n",
            "1. melitta cafe riviera sunset coffee bad sadly great either something would buy mainly probably forget\n",
            "2. general walden farm dressing taste great make diet less monotonous husband like always prefers high calorie version anything ranch bland bad taste great possibly could add little garlic onion powder make dip\n",
            "3. dark chocolate raspberry two favorite flavor together however difficult get dark chocolate enough cacao give health benefit need justify eat chocolate need high protein bar taste good fit bill\n",
            "4. grown sugar maple country buy syrup farmer unmarked gallon can store syrup never enter house plenty experience maple syrup tip maple tree maple syrup organic definition farmer tap tree add nothing pay organic house sugar every winter know talk read idea may happy product good syrup price right purchase good buy shy purchasing really star minus star good grade b syrup normally mapley caramel note syrup lack strong maple flavor make suitable cooking good match like strong flavor complexity finesse grade amber short rather bland pedestrian maple syrup know whether tree tap label vary year year batch uninteresting buy alternative whole food label quite frankly whole food grade amber strong maple flavor complexity whole food grade b significantly strong flavor would rate whole food grade amber star minus grade b star\n",
            "5. best glutin free ritz like cracker exactly praise cheese bad plain one taste like egg lot gluten free bread cracker use egg lack glue always taste yuck say plain one ok make peanut butter sandwich cracker pretty good dip chicken tuna salad sigh\n",
            "\n",
            "--- Rating 4 ---\n",
            "1. open package trepidation base review rinse fishy smell liquid drop noodle simmer tomato sauce wait minute plat pigged texture odd unpleasant noodle absorb sauce flavor felt satisfied full ask\n",
            "2. serious coffee drinker grid bean brew coffee yes taste difference burr grinder blade grinder oh yeah serious probably imagine instant coffee year becasue normally taste aweful sour chemical taste fragrance friend tell via giggle call one joked use coffee flavor milk applogize one day another friend ask buy instant coffee laughted request friend much buy small via package possible tasted surprise sour taste chemical taste low ignore especially drink coffee sugar strongly like skinny long bag choose scissors teeth open bag bag tear open easily top finger course alert hide away toddler next thing brainer dump powder coffee mug pour hot water doubt really need stir anyway smell strong fresh burr grind cofee good enough believe coffee confess almost helded breath first sip ready sort aweful taste surprise taste sour trouble drink whole cup lick lip think hmm bad second think hot water away another cup come final judgement instant coffee awesome grinder loud noise carry anywhere go scissors need good cup coffee hot water away replace old fashion fresh grind coffee still yet keep around th house time house need dead quiet crave cup coffee star still good fresh grind coffee\n",
            "3. go get excite soup mile away soup pot acceptable alternative sprinkle fresh bacon crumbles mine since can version flavor lack texture\n",
            "4. good digestive crunchy sweet reasonable especially subscription great cup tea\n",
            "5. start eat almond healthy alternative fatty high carb snack want something satisfy sweet tooth occasion cocoa roast almonds fit bill nicely dust cocoa fat unhealthy stuff would find regular almond still get nice chocolate taste little bit sweeter really want like dark chocolate semisweet bittersweet still great awhile snack\n",
            "\n",
            "--- Rating 5 ---\n",
            "1. order christmas gift arrive time destination tell taste good\n",
            "2. great long lasting chew small dog yorkie spend happy hour two new chew return later gnaw chew put samson small dog need big name tranquil brain neutral state wife feel good poisoning make china junk besides chew stink low quality brand try\n",
            "3. find single place price love little glass pitcher single coffee maker\n",
            "4. perfect need huge fan loose leaf tea mild white tea deep rich strong black tea realize thing miss inventory jasmine tea almost identical one serve fine chinese eatery voila sunflower jasmine fit bill hop nice smooth easy drink tea go well meal pleased\n",
            "5. wellness brand one vet recommend overweight cat say brand filler can cat food since use three cat overweight cat lose weight regain vim vigor arthritis well three cat love stuff\n"
          ]
        }
      ],
      "source": [
        "for rating in sorted(df_unbalanced[\"Rating\"].unique()):\n",
        "    print(f\"\\n--- Rating {rating} ---\")\n",
        "    samples = df_unbalanced[df_unbalanced[\"Rating\"] == rating][\"Reviews\"].sample(n=5, random_state=42)\n",
        "    for i, review in enumerate(samples, 1):\n",
        "        print(f\"{i}. {review}\")"
      ]
    },
    {
      "cell_type": "code",
      "source": [
        "# Remove the 'review_length' column\n",
        "balanced_df = balanced_df.drop(columns=['review_length'])\n",
        "\n",
        "# Optional: check the result\n",
        "print(balanced_df.head())"
      ],
      "metadata": {
        "id": "JOeZmBvt2jZM",
        "colab": {
          "base_uri": "https://localhost:8080/"
        },
        "outputId": "b2cb4508-eb36-4a6e-dddd-485d14b9e7ee"
      },
      "execution_count": null,
      "outputs": [
        {
          "output_type": "stream",
          "name": "stdout",
          "text": [
            "                                             Reviews  Rating\n",
            "0  smoked salmon absolutely disgust box neat also...       1\n",
            "1  may unfair rate one star something noticed bef...       1\n",
            "2  cat like waste money ya surprise see horse bed...       1\n",
            "3  tried load movie amazon prime get message put ...       1\n",
            "4  first time get everything great second time ho...       1\n"
          ]
        }
      ]
    },
    {
      "cell_type": "markdown",
      "source": [
        "Balanced Train Test split"
      ],
      "metadata": {
        "id": "tW4t6uUl2VVb"
      }
    },
    {
      "cell_type": "code",
      "execution_count": null,
      "metadata": {
        "id": "_i34bw-DDdG9",
        "colab": {
          "base_uri": "https://localhost:8080/"
        },
        "outputId": "7c5b9fd0-1e44-4d48-c4cc-ffe0427b7103"
      },
      "outputs": [
        {
          "output_type": "stream",
          "name": "stdout",
          "text": [
            "Shapes:\n",
            "X_train_vec: (8000, 20000)\n",
            "X_test_vec: (2000, 20000)\n",
            "y_train: (8000,)\n",
            "y_test: (2000,)\n"
          ]
        }
      ],
      "source": [
        "import joblib\n",
        "from sklearn.model_selection import train_test_split\n",
        "from sklearn.feature_extraction.text import TfidfVectorizer\n",
        "\n",
        "# Split data\n",
        "X_bal = balanced_df[\"Reviews\"]\n",
        "y_bal = balanced_df[\"Rating\"]\n",
        "\n",
        "X_train_bal_raw, X_test_bal_raw, y_train_bal_raw, y_test_bal_raw = train_test_split(\n",
        "    X_bal, y_bal,\n",
        "    test_size=0.2,\n",
        "    random_state=42,\n",
        "    stratify=y_bal\n",
        ")\n",
        "\n",
        "# --- Clean training and testing reviews ---\n",
        "X_train_cleaned = X_train_bal_raw.apply(clean_review)\n",
        "X_test_cleaned = X_test_bal_raw.apply(clean_review)\n",
        "\n",
        "# --- Keep only valid (non-empty) rows ---\n",
        "train_valid = X_train_cleaned.notna()\n",
        "test_valid = X_test_cleaned.notna()\n",
        "\n",
        "# --- Filter y accordingly (same valid indices) ---\n",
        "X_train_bal = X_train_cleaned[train_valid].reset_index(drop=True)\n",
        "y_train_bal = y_train_bal_raw[train_valid].reset_index(drop=True)\n",
        "\n",
        "X_test_bal = X_test_cleaned[test_valid].reset_index(drop=True)\n",
        "y_test_bal = y_test_bal_raw[test_valid].reset_index(drop=True)\n",
        "\n",
        "# --- TF-IDF Vectorizer ---\n",
        "vectorizer_bal = TfidfVectorizer(\n",
        "    max_features=20000,      # more features → better coverage\n",
        "    ngram_range=(1, 3),      # 1-gram, 2-gram, and 3-gram\n",
        "    sublinear_tf=True,       # scales tf values\n",
        "    stop_words='english'     # removes common English words\n",
        ")\n",
        "\n",
        "X_train_bal_vec = vectorizer_bal.fit_transform(X_train_bal)\n",
        "X_test_bal_vec = vectorizer_bal.transform(X_test_bal)\n",
        "\n",
        "# --- Save vectorizer ---\n",
        "joblib.dump(vectorizer_bal, '/content/drive/MyDrive/balanced_split/vectorizer_bal.pkl')\n",
        "\n",
        "# --- Display shapes ---\n",
        "print(\"Shapes:\")\n",
        "print(\"X_train_vec:\", X_train_bal_vec.shape)\n",
        "print(\"X_test_vec:\", X_test_bal_vec.shape)\n",
        "print(\"y_train:\", y_train_bal.shape)\n",
        "print(\"y_test:\", y_test_bal.shape)"
      ]
    },
    {
      "cell_type": "markdown",
      "source": [
        "Percentage"
      ],
      "metadata": {
        "id": "VpyAoK862yAh"
      }
    },
    {
      "cell_type": "code",
      "execution_count": null,
      "metadata": {
        "id": "6kLGoKi0Eo4F",
        "colab": {
          "base_uri": "https://localhost:8080/"
        },
        "outputId": "a0d6e230-c836-4e38-bfee-ad97ebf37ab3"
      },
      "outputs": [
        {
          "output_type": "stream",
          "name": "stdout",
          "text": [
            "Training set size: 8000 (80.00%)\n",
            "Test set size: 2000 (20.00%)\n"
          ]
        }
      ],
      "source": [
        "# Total samples in balanced dataset\n",
        "total_samples = len(balanced_df)\n",
        "\n",
        "# Training and test sizes\n",
        "train_size = len(X_train_bal)\n",
        "test_size = len(X_test_bal)\n",
        "\n",
        "print(\"Training set size:\", train_size, f\"({train_size/total_samples:.2%})\")\n",
        "print(\"Test set size:\", test_size, f\"({test_size/total_samples:.2%})\")"
      ]
    },
    {
      "cell_type": "code",
      "execution_count": null,
      "metadata": {
        "id": "RuuyQdY3FqFT",
        "colab": {
          "base_uri": "https://localhost:8080/"
        },
        "outputId": "be778fa9-c693-4bbc-ed85-dd503578893e"
      },
      "outputs": [
        {
          "output_type": "stream",
          "name": "stdout",
          "text": [
            "Drive already mounted at /content/drive; to attempt to forcibly remount, call drive.mount(\"/content/drive\", force_remount=True).\n"
          ]
        }
      ],
      "source": [
        "from google.colab import drive\n",
        "drive.mount('/content/drive')"
      ]
    },
    {
      "cell_type": "code",
      "source": [
        "import pandas as pd\n",
        "import joblib\n",
        "\n",
        "# Save features\n",
        "pd.DataFrame(X_train_bal).to_csv('/content/X_train_bal.csv', index=False)\n",
        "pd.DataFrame(X_test_bal).to_csv('/content/X_test_bal.csv', index=False)\n",
        "\n",
        "# Save labels\n",
        "pd.DataFrame(y_train_bal_raw).to_csv('/content/y_train_bal.csv', index=False)\n",
        "pd.DataFrame(y_test_bal).to_csv('/content/y_test_bal.csv', index=False)\n",
        "\n",
        "joblib.dump(X_train_bal_vec, '/content/X_train_bal_vec.pkl')\n",
        "joblib.dump(X_test_bal_vec, '/content/X_test_bal_vec.pkl')\n",
        "\n",
        "pd.DataFrame(balanced_df).to_csv('/content/balanced_df.csv', index=False)\n",
        "# Save labels"
      ],
      "metadata": {
        "id": "ZSb5Um_SqhZs"
      },
      "execution_count": null,
      "outputs": []
    },
    {
      "cell_type": "code",
      "execution_count": null,
      "metadata": {
        "id": "EPv5YV9yFwTf"
      },
      "outputs": [],
      "source": [
        "!mkdir -p /content/drive/MyDrive/balanced_split\n",
        "!cp /content/X_train_bal.csv /content/drive/MyDrive/balanced_split/\n",
        "!cp /content/X_test_bal.csv /content/drive/MyDrive/balanced_split/\n",
        "!cp /content/y_train_bal.csv /content/drive/MyDrive/balanced_split/\n",
        "!cp /content/y_test_bal.csv /content/drive/MyDrive/balanced_split/\n",
        "!cp /content/X_train_bal_vec.pkl /content/drive/MyDrive/balanced_split/\n",
        "!cp /content/X_test_bal_vec.pkl /content/drive/MyDrive/balanced_split/\n",
        "!cp /content/balanced_df.csv /content/drive/MyDrive/"
      ]
    },
    {
      "cell_type": "code",
      "source": [
        "# Remove the 'review_length' col\n",
        "df_unbalanced = df_unbalanced.drop(columns=['review_length'])\n",
        "\n",
        "# Optional: check the result\n",
        "print(df_unbalanced.head())"
      ],
      "metadata": {
        "id": "9Ued62K0olZ5",
        "colab": {
          "base_uri": "https://localhost:8080/"
        },
        "outputId": "c8c2f5d3-d2f4-405d-f8b5-a8d66cceb9f9"
      },
      "execution_count": null,
      "outputs": [
        {
          "output_type": "stream",
          "name": "stdout",
          "text": [
            "                                             Reviews  Rating\n",
            "0  anchor bar buffalo hot wing invent sauce captu...       4\n",
            "1  great real cheap right use oz water much good ...       3\n",
            "2  amazon ship gotten bad even amazon send email ...       2\n",
            "3  st think order wrong size guess small size pre...       3\n",
            "4  bit energy drink addict get hooked live japan ...       3\n"
          ]
        }
      ]
    },
    {
      "cell_type": "markdown",
      "metadata": {
        "id": "sWu7U2lePwdx"
      },
      "source": [
        "Train test split for unbalanced"
      ]
    },
    {
      "cell_type": "code",
      "execution_count": null,
      "metadata": {
        "id": "YJhgKfdyEuai",
        "colab": {
          "base_uri": "https://localhost:8080/"
        },
        "outputId": "10077d1e-132f-4504-b860-430720dbeb7d"
      },
      "outputs": [
        {
          "output_type": "stream",
          "name": "stdout",
          "text": [
            "✅ Sampled rating distribution:\n",
            "Rating\n",
            "4    3000\n",
            "3    2500\n",
            "5    2000\n",
            "2    1500\n",
            "1    1000\n",
            "Name: count, dtype: int64\n",
            "Total samples: 10000\n",
            "\n",
            "✅ Final Unbalanced Split Shapes:\n",
            "X_train_unbal_vec: (8000, 20000)\n",
            "X_test_unbal_vec: (2000, 20000)\n",
            "y_train_unbal: (8000,)\n",
            "y_test_unbal: (2000,)\n"
          ]
        }
      ],
      "source": [
        "import pandas as pd\n",
        "import joblib\n",
        "from sklearn.model_selection import train_test_split\n",
        "from sklearn.feature_extraction.text import TfidfVectorizer\n",
        "\n",
        "# --- Step 1: Define desired ratios and total size ---\n",
        "ratios = {\n",
        "    1: 0.10,  # 10%\n",
        "    2: 0.15,  # 15%\n",
        "    3: 0.25,  # 25%\n",
        "    4: 0.30,  # 30%\n",
        "    5: 0.20   # 20%\n",
        "}\n",
        "\n",
        "total_samples = 10000\n",
        "unbalanced_df_list = []\n",
        "\n",
        "# --- Step 2: Sample according to ratios ---\n",
        "for rating, ratio in ratios.items():\n",
        "    df_rating = df_unbalanced[df_unbalanced['Rating'] == rating]\n",
        "    sample_size = int(total_samples * ratio)\n",
        "\n",
        "    if len(df_rating) >= sample_size:\n",
        "        df_sampled = df_rating.sample(sample_size, random_state=42)\n",
        "    else:\n",
        "        # If fewer rows available, take all\n",
        "        df_sampled = df_rating\n",
        "        print(f\"⚠️ Rating {rating} has only {len(df_rating)} samples, taking all available.\")\n",
        "\n",
        "    unbalanced_df_list.append(df_sampled)\n",
        "\n",
        "# ✅ Final dataset name remains df_unbalanced\n",
        "df_unbalanced = pd.concat(unbalanced_df_list).reset_index(drop=True)\n",
        "\n",
        "print(\"✅ Sampled rating distribution:\")\n",
        "print(df_unbalanced['Rating'].value_counts())\n",
        "print(\"Total samples:\", len(df_unbalanced))\n",
        "\n",
        "# --- Step 3: Train-Test Split (stratified) ---\n",
        "X_unbal = df_unbalanced[\"Reviews\"]\n",
        "y_unbal = df_unbalanced[\"Rating\"]\n",
        "\n",
        "X_train_unbal_raw, X_test_unbal_raw, y_train_unbal_raw, y_test_unbal_raw = train_test_split(\n",
        "    X_unbal, y_unbal,\n",
        "    stratify=y_unbal,\n",
        "    test_size=0.2,\n",
        "    random_state=42,\n",
        "    shuffle=True\n",
        ")\n",
        "\n",
        "# --- Step 4: Text cleaning ---\n",
        "X_train_unbal = X_train_unbal_raw.apply(clean_review)\n",
        "X_test_unbal = X_test_unbal_raw.apply(clean_review)\n",
        "\n",
        "# Keep only valid (non-empty) rows\n",
        "train_valid = X_train_unbal.notna()\n",
        "test_valid = X_test_unbal.notna()\n",
        "\n",
        "X_train_unbal = X_train_unbal[train_valid].reset_index(drop=True)\n",
        "y_train_unbal = y_train_unbal_raw[train_valid].reset_index(drop=True)\n",
        "\n",
        "X_test_unbal = X_test_unbal[test_valid].reset_index(drop=True)\n",
        "y_test_unbal = y_test_unbal_raw[test_valid].reset_index(drop=True)\n",
        "\n",
        "# --- Step 5: TF-IDF Vectorization ---\n",
        "vectorizer_unbal = TfidfVectorizer(\n",
        "    max_features=20000,\n",
        "    ngram_range=(1, 3),\n",
        "    sublinear_tf=True,\n",
        "    stop_words='english'\n",
        ")\n",
        "\n",
        "X_train_unbal_vec = vectorizer_unbal.fit_transform(X_train_unbal)\n",
        "X_test_unbal_vec = vectorizer_unbal.transform(X_test_unbal)\n",
        "\n",
        "# --- Step 6: Save vectorizer for reuse ---\n",
        "joblib.dump(vectorizer_unbal, '/content/drive/MyDrive/unbalanced_split/vectorizer_unbal.pkl')\n",
        "\n",
        "# --- Step 7: Final output ---\n",
        "print(\"\\n✅ Final Unbalanced Split Shapes:\")\n",
        "print(\"X_train_unbal_vec:\", X_train_unbal_vec.shape)\n",
        "print(\"X_test_unbal_vec:\", X_test_unbal_vec.shape)\n",
        "print(\"y_train_unbal:\", y_train_unbal.shape)\n",
        "print(\"y_test_unbal:\", y_test_unbal.shape)\n"
      ]
    },
    {
      "cell_type": "markdown",
      "metadata": {
        "id": "47kS_SvtP1fE"
      },
      "source": [
        "Percentage of test and training set"
      ]
    },
    {
      "cell_type": "code",
      "execution_count": null,
      "metadata": {
        "id": "sCKJLO6KF0A5",
        "colab": {
          "base_uri": "https://localhost:8080/"
        },
        "outputId": "5f3b80b9-55ed-4300-fa36-9b5a3e149d52"
      },
      "outputs": [
        {
          "output_type": "stream",
          "name": "stdout",
          "text": [
            "Training set size: 8000 (80.00%)\n",
            "Test set size: 2000 (20.00%)\n"
          ]
        }
      ],
      "source": [
        "# Total samples in imbalanced dataset\n",
        "total_samples = len(df_unbalanced)\n",
        "\n",
        "# Training and test sizes\n",
        "train_size = len(X_train_unbal)\n",
        "test_size = len(X_test_unbal)\n",
        "\n",
        "print(\"Training set size:\", train_size, f\"({train_size/total_samples:.2%})\")\n",
        "print(\"Test set size:\", test_size, f\"({test_size/total_samples:.2%})\")"
      ]
    },
    {
      "cell_type": "markdown",
      "metadata": {
        "id": "3u-_BBQJeGXE"
      },
      "source": [
        "Saving to google drive"
      ]
    },
    {
      "cell_type": "code",
      "source": [
        "import pandas as pd\n",
        "import joblib\n",
        "\n",
        "# Save features\n",
        "pd.DataFrame(X_train_unbal).to_csv('/content/X_train_unbal.csv', index=False)\n",
        "pd.DataFrame(X_test_unbal).to_csv('/content/X_test_unbal.csv', index=False)\n",
        "\n",
        "# Save labels\n",
        "pd.DataFrame(y_train_unbal).to_csv('/content/y_train_unbal.csv', index=False)\n",
        "pd.DataFrame(y_test_unbal).to_csv('/content/y_test_unbal.csv', index=False)\n",
        "\n",
        "# Save features\n",
        "joblib.dump(X_train_unbal_vec,'/content/X_train_unbal_vec.pkl')\n",
        "joblib.dump(X_test_unbal_vec,'/content/X_test_unbal_vec.pkl')\n",
        "pd.DataFrame(df_unbalanced).to_csv('/content/df_unbalanced.csv', index=False)"
      ],
      "metadata": {
        "id": "Jr7weME1sacb"
      },
      "execution_count": null,
      "outputs": []
    },
    {
      "cell_type": "code",
      "execution_count": null,
      "metadata": {
        "id": "Hshxu9j5enY3"
      },
      "outputs": [],
      "source": [
        "!mkdir -p /content/drive/MyDrive/unbalanced_split\n",
        "!cp /content/X_train_unbal.csv /content/drive/MyDrive/unbalanced_split/\n",
        "!cp /content/X_test_unbal.csv /content/drive/MyDrive/unbalanced_split/\n",
        "!cp /content/y_train_unbal.csv /content/drive/MyDrive/unbalanced_split/\n",
        "!cp /content/y_test_unbal.csv /content/drive/MyDrive/unbalanced_split/\n",
        "!cp /content/X_train_unbal_vec.pkl /content/drive/MyDrive/unbalanced_split/\n",
        "!cp /content/X_test_unbal_vec.pkl /content/drive/MyDrive/unbalanced_split/\n",
        "!cp /content/df_unbalanced.csv /content/drive/MyDrive/"
      ]
    },
    {
      "cell_type": "code",
      "source": [
        "balanced_df.shape"
      ],
      "metadata": {
        "id": "xKNPXa_Uj2G3",
        "colab": {
          "base_uri": "https://localhost:8080/"
        },
        "outputId": "8374aa97-9101-479a-a396-84c65c981fa4"
      },
      "execution_count": null,
      "outputs": [
        {
          "output_type": "execute_result",
          "data": {
            "text/plain": [
              "(10000, 2)"
            ]
          },
          "metadata": {},
          "execution_count": 83
        }
      ]
    },
    {
      "cell_type": "code",
      "source": [
        "df_unbalanced.shape"
      ],
      "metadata": {
        "id": "nsSu1PwgkGYP",
        "colab": {
          "base_uri": "https://localhost:8080/"
        },
        "outputId": "71b40e72-1571-49fb-a341-a0c53a6d3741"
      },
      "execution_count": null,
      "outputs": [
        {
          "output_type": "execute_result",
          "data": {
            "text/plain": [
              "(10000, 2)"
            ]
          },
          "metadata": {},
          "execution_count": 84
        }
      ]
    }
  ],
  "metadata": {
    "colab": {
      "provenance": [],
      "mount_file_id": "1sjn1uQS8XXWy7f7tmiJI4j7scp8Y7sRj",
      "authorship_tag": "ABX9TyOFkEYFFUVntRvWbkwyWXS5",
      "include_colab_link": true
    },
    "kernelspec": {
      "display_name": "Python 3",
      "name": "python3"
    },
    "language_info": {
      "name": "python"
    }
  },
  "nbformat": 4,
  "nbformat_minor": 0
}