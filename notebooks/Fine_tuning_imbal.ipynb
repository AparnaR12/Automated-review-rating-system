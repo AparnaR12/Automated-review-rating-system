{
  "cells": [
    {
      "cell_type": "markdown",
      "metadata": {
        "id": "kCdup0aiVmrn"
      },
      "source": [
        "Load data"
      ]
    },
    {
      "cell_type": "code",
      "execution_count": null,
      "metadata": {
        "colab": {
          "base_uri": "https://localhost:8080/"
        },
        "id": "X9uaVqsaV9k1",
        "outputId": "38f60c67-92df-42ef-ef4b-943094a921a1"
      },
      "outputs": [
        {
          "output_type": "stream",
          "name": "stdout",
          "text": [
            "Mounted at /content/drive\n"
          ]
        }
      ],
      "source": [
        "from google.colab import drive\n",
        "drive.mount('/content/drive')"
      ]
    },
    {
      "cell_type": "code",
      "execution_count": null,
      "metadata": {
        "id": "C7T5sX5FWO4H"
      },
      "outputs": [],
      "source": [
        "import pandas as pd\n",
        "import joblib\n",
        "\n",
        "x_train_unbal = pd.read_csv('/content/drive/MyDrive/unbalanced_split/X_train_unbal.csv')\n",
        "x_test_unbal = pd.read_csv('/content/drive/MyDrive/unbalanced_split/X_test_unbal.csv')\n",
        "df_unbalanced = pd.read_csv('/content/drive/MyDrive/df_unbalanced.csv')\n",
        "y_train_unbal = pd.read_csv('/content/drive/MyDrive/unbalanced_split/y_train_unbal.csv').squeeze()\n",
        "y_test_unbal = pd.read_csv('/content/drive/MyDrive/unbalanced_split/y_test_unbal.csv').squeeze()\n",
        "X_train_unbal_vec = joblib.load('/content/drive/MyDrive/unbalanced_split/X_train_unbal_vec.pkl')\n",
        "X_test_unbal_vec = joblib.load('/content/drive/MyDrive/unbalanced_split/X_test_unbal_vec.pkl')"
      ]
    },
    {
      "cell_type": "code",
      "execution_count": null,
      "metadata": {
        "id": "2lNIpHz_VoQ_"
      },
      "outputs": [],
      "source": [
        "from sklearn.model_selection import GridSearchCV\n",
        "from sklearn.linear_model import LogisticRegression\n",
        "from sklearn.ensemble import RandomForestClassifier\n",
        "from sklearn.svm import SVC\n",
        "from sklearn.naive_bayes import MultinomialNB\n",
        "from sklearn.metrics import classification_report, confusion_matrix, accuracy_score, roc_auc_score\n",
        "import joblib"
      ]
    },
    {
      "cell_type": "code",
      "execution_count": null,
      "metadata": {
        "colab": {
          "base_uri": "https://localhost:8080/"
        },
        "id": "xEZxv5CuwYUn",
        "outputId": "36cf323c-f926-498c-e5b7-2b07bbf5b402"
      },
      "outputs": [
        {
          "output_type": "execute_result",
          "data": {
            "text/plain": [
              "(10000, 2)"
            ]
          },
          "metadata": {},
          "execution_count": 4
        }
      ],
      "source": [
        "df_unbalanced.shape"
      ]
    },
    {
      "cell_type": "markdown",
      "metadata": {
        "id": "YObvm0cZWZNE"
      },
      "source": [
        "Logistic Regression"
      ]
    },
    {
      "cell_type": "code",
      "execution_count": null,
      "metadata": {
        "colab": {
          "base_uri": "https://localhost:8080/"
        },
        "id": "QTrkOp0KWX_x",
        "outputId": "5dc57fc9-173f-4ca8-f710-fa3884106f7a"
      },
      "outputs": [
        {
          "output_type": "stream",
          "name": "stdout",
          "text": [
            "Fitting 5 folds for each of 8 candidates, totalling 40 fits\n",
            "Best Parameters: {'C': 1, 'solver': 'lbfgs'}\n",
            "Best CV Score: 0.46109354479956116\n"
          ]
        }
      ],
      "source": [
        "# Initialize model\n",
        "lr_unbal = LogisticRegression(max_iter=1000, class_weight='balanced')\n",
        "\n",
        "# Define hyperparameter grid\n",
        "param_grid_lr_unbal = {\n",
        "    'C': [0.01, 0.1, 1, 10],\n",
        "    'solver': ['liblinear', 'lbfgs']\n",
        "}\n",
        "\n",
        "# Apply GridSearchCV\n",
        "grid_lr_unbal = GridSearchCV(\n",
        "    lr_unbal,\n",
        "    param_grid=param_grid_lr_unbal,\n",
        "    cv=5,\n",
        "    scoring='f1_macro',  # better for imbalanced classes\n",
        "    n_jobs=-1,\n",
        "    verbose=2\n",
        ")\n",
        "\n",
        "grid_lr_unbal.fit(X_train_unbal_vec, y_train_unbal)\n",
        "\n",
        "print(\"Best Parameters:\", grid_lr_unbal.best_params_)\n",
        "print(\"Best CV Score:\", grid_lr_unbal.best_score_)\n",
        "\n",
        "best_lr_unbal = grid_lr_unbal.best_estimator_\n"
      ]
    },
    {
      "cell_type": "code",
      "execution_count": null,
      "metadata": {
        "colab": {
          "base_uri": "https://localhost:8080/"
        },
        "id": "qDuUJEZ5We_q",
        "outputId": "64f048f8-1763-4223-efcc-f0aff05fa32b"
      },
      "outputs": [
        {
          "output_type": "stream",
          "name": "stdout",
          "text": [
            "\n",
            "Classification Report:\n",
            "               precision    recall  f1-score   support\n",
            "\n",
            "           1       0.51      0.64      0.57       200\n",
            "           2       0.35      0.36      0.35       300\n",
            "           3       0.45      0.38      0.41       500\n",
            "           4       0.51      0.45      0.47       600\n",
            "           5       0.51      0.63      0.56       400\n",
            "\n",
            "    accuracy                           0.47      2000\n",
            "   macro avg       0.46      0.49      0.47      2000\n",
            "weighted avg       0.47      0.47      0.47      2000\n",
            "\n",
            "\n",
            "Confusion Matrix:\n",
            " [[127  45  13   7   8]\n",
            " [ 56 107  79  40  18]\n",
            " [ 42  96 188 122  52]\n",
            " [ 14  40 114 267 165]\n",
            " [ 10  20  28  90 252]]\n",
            "\n",
            "Accuracy: 0.4705\n",
            "ROC-AUC (multi-class, macro avg): 0.7938265209150327\n"
          ]
        }
      ],
      "source": [
        "from sklearn.metrics import roc_auc_score\n",
        "y_pred_unbal = best_lr_unbal.predict(X_test_unbal_vec)\n",
        "print(\"\\nClassification Report:\\n\", classification_report(y_test_unbal, y_pred_unbal))\n",
        "print(\"\\nConfusion Matrix:\\n\", confusion_matrix(y_test_unbal, y_pred_unbal))\n",
        "print(\"\\nAccuracy:\", accuracy_score(y_test_unbal, y_pred_unbal))\n",
        "\n",
        "if hasattr(best_lr_unbal, \"predict_proba\"):\n",
        "    y_prob_unbal = best_lr_unbal.predict_proba(X_test_unbal_vec)\n",
        "    roc_auc = roc_auc_score(y_test_unbal, y_prob_unbal, multi_class=\"ovr\", average=\"macro\")\n",
        "    print(\"ROC-AUC (multi-class, macro avg):\", roc_auc)"
      ]
    },
    {
      "cell_type": "markdown",
      "metadata": {
        "id": "15VRjwtTWm4S"
      },
      "source": [
        "Random Forest"
      ]
    },
    {
      "cell_type": "code",
      "execution_count": null,
      "metadata": {
        "colab": {
          "base_uri": "https://localhost:8080/"
        },
        "id": "8yOOKsgjWj9V",
        "outputId": "34a28157-f385-40fc-a748-1d984e8c456c"
      },
      "outputs": [
        {
          "name": "stdout",
          "output_type": "stream",
          "text": [
            "Fitting 3 folds for each of 6 candidates, totalling 18 fits\n",
            "Best Random Forest Params: {'n_estimators': 300, 'min_samples_split': 2, 'max_depth': 30}\n",
            "Best CV Score: 0.4030148015932707\n"
          ]
        }
      ],
      "source": [
        "rf_unbal = RandomForestClassifier(random_state=42, class_weight='balanced')\n",
        "\n",
        "param_grid_rf_unbal = {\n",
        "    'n_estimators': [100, 300],\n",
        "    'max_depth': [None, 10, 30],\n",
        "    'min_samples_split': [2, 5]\n",
        "}\n",
        "\n",
        "from sklearn.model_selection import RandomizedSearchCV\n",
        "import numpy as np\n",
        "\n",
        "rand_rf_unbal = RandomizedSearchCV(\n",
        "    rf_unbal,\n",
        "    param_distributions=param_grid_rf_unbal,\n",
        "    n_iter=6,  # test only 6 combinations\n",
        "    cv=3,      # use fewer folds\n",
        "    scoring='f1_macro',\n",
        "    n_jobs=-1,\n",
        "    verbose=2,\n",
        "    random_state=42\n",
        ")\n",
        "rand_rf_unbal.fit(X_train_unbal_vec, y_train_unbal)\n",
        "\n",
        "print(\"Best Random Forest Params:\", rand_rf_unbal.best_params_)\n",
        "print(\"Best CV Score:\", rand_rf_unbal.best_score_)\n",
        "best_rand_rf_unbal = rand_rf_unbal.best_estimator_"
      ]
    },
    {
      "cell_type": "code",
      "execution_count": null,
      "metadata": {
        "colab": {
          "base_uri": "https://localhost:8080/"
        },
        "id": "7SFdIZCDlqT5",
        "outputId": "ce0b27e7-6c8c-4505-92e2-87c1a4bf918f"
      },
      "outputs": [
        {
          "name": "stdout",
          "output_type": "stream",
          "text": [
            "Classification Report for Random Forest (Imbalanced Data):\n",
            "              precision    recall  f1-score   support\n",
            "\n",
            "           1       0.46      0.70      0.55       200\n",
            "           2       0.33      0.07      0.12       300\n",
            "           3       0.39      0.35      0.37       500\n",
            "           4       0.45      0.42      0.43       600\n",
            "           5       0.43      0.65      0.51       400\n",
            "\n",
            "    accuracy                           0.42      2000\n",
            "   macro avg       0.41      0.44      0.40      2000\n",
            "weighted avg       0.41      0.42      0.40      2000\n",
            "\n"
          ]
        }
      ],
      "source": [
        "from sklearn.metrics import classification_report\n",
        "\n",
        "# Predict on the test set\n",
        "y_pred_unbal = best_rand_rf_unbal.predict(X_test_unbal_vec)\n",
        "\n",
        "# Print classification report\n",
        "print(\"Classification Report for Random Forest (Imbalanced Data):\")\n",
        "print(classification_report(y_test_unbal, y_pred_unbal))\n"
      ]
    },
    {
      "cell_type": "markdown",
      "metadata": {
        "id": "PH56CPp-WuOs"
      },
      "source": [
        "SVM"
      ]
    },
    {
      "cell_type": "code",
      "execution_count": null,
      "metadata": {
        "colab": {
          "background_save": true,
          "base_uri": "https://localhost:8080/"
        },
        "id": "JqlG5U73WpQa",
        "outputId": "e649b9bd-806e-4dac-f95d-e31e45e91070"
      },
      "outputs": [
        {
          "name": "stdout",
          "output_type": "stream",
          "text": [
            "Fitting 5 folds for each of 6 candidates, totalling 30 fits\n",
            "Best SVM Params: {'C': 1, 'kernel': 'linear'}\n"
          ]
        }
      ],
      "source": [
        "svm_unbal = SVC(probability=True, class_weight='balanced')\n",
        "\n",
        "param_grid_svm_unbal = {\n",
        "    'C': [0.1, 1, 10],\n",
        "    'kernel': ['linear', 'rbf']\n",
        "}\n",
        "\n",
        "grid_svm_unbal = GridSearchCV(\n",
        "    svm_unbal,\n",
        "    param_grid=param_grid_svm_unbal,\n",
        "    cv=5,\n",
        "    scoring='f1_macro',\n",
        "    n_jobs=-1,\n",
        "    verbose=2\n",
        ")\n",
        "\n",
        "grid_svm_unbal.fit(X_train_unbal_vec, y_train_unbal)\n",
        "print(\"Best SVM Params:\", grid_svm_unbal.best_params_)\n",
        "best_svm_unbal = grid_svm_unbal.best_estimator_"
      ]
    },
    {
      "cell_type": "code",
      "execution_count": null,
      "metadata": {
        "id": "wslOR2qEpjdV"
      },
      "outputs": [],
      "source": [
        "from sklearn.metrics import classification_report, confusion_matrix\n",
        "import matplotlib.pyplot as plt\n",
        "import seaborn as sns\n",
        "\n",
        "# Predict on the test set\n",
        "y_pred_svm_unbal = best_svm_unbal.predict(X_test_unbal_vec)\n",
        "\n",
        "# Print classification report\n",
        "print(\"Classification Report for SVM (Imbalanced Data):\")\n",
        "print(classification_report(y_test_unbal, y_pred_svm_unbal))"
      ]
    },
    {
      "cell_type": "markdown",
      "metadata": {
        "id": "JAweRfqCW0qK"
      },
      "source": [
        "Naive Bayes"
      ]
    },
    {
      "cell_type": "code",
      "execution_count": null,
      "metadata": {
        "id": "d0WKUp0MWwpV"
      },
      "outputs": [],
      "source": [
        "nb_unbal = MultinomialNB()\n",
        "nb_unbal.fit(X_train_unbal_vec, y_train_unbal)\n",
        "\n",
        "y_pred_nb_unbal = nb_unbal.predict(X_test_unbal_vec)\n",
        "print(\"Naive Bayes Report:\\n\", classification_report(y_test_unbal, y_pred_nb_unbal))"
      ]
    },
    {
      "cell_type": "markdown",
      "metadata": {
        "id": "rsT0IvghW6DW"
      },
      "source": [
        "Comparing models"
      ]
    },
    {
      "cell_type": "code",
      "execution_count": null,
      "metadata": {
        "id": "oyAPq9j1W3Hd"
      },
      "outputs": [],
      "source": [
        "models_unbal = {\n",
        "    \"Logistic Regression\": best_lr_unbal,\n",
        "    \"Random Forest\": best_rand_rf_unbal,\n",
        "    \"SVM\": best_svm_unbal,\n",
        "    \"Naive Bayes\": nb_unbal\n",
        "}\n",
        "\n",
        "for name, model in models_unbal.items():\n",
        "    y_pred = model.predict(X_test_unbal_vec)\n",
        "    acc = accuracy_score(y_test_unbal, y_pred)\n",
        "    f1 = classification_report(y_test_unbal, y_pred, output_dict=True)['weighted avg']['f1-score']\n",
        "    print(f\"\\n{name} → Accuracy: {acc:.4f}, Weighted F1: {f1:.4f}\")"
      ]
    },
    {
      "cell_type": "code",
      "execution_count": null,
      "metadata": {
        "id": "ECgAbA5cXIrm",
        "colab": {
          "base_uri": "https://localhost:8080/"
        },
        "outputId": "580f500f-1423-4f53-ac1d-93049525e40c"
      },
      "outputs": [
        {
          "output_type": "stream",
          "name": "stdout",
          "text": [
            "✅ Model_B saved successfully (imbalanced).\n"
          ]
        }
      ],
      "source": [
        "import joblib\n",
        "\n",
        "# Save Model_B (trained on imbalanced data)\n",
        "joblib.dump(best_lr_unbal, '/content/drive/MyDrive/ModelB_imbalanced.pkl')\n",
        "print(\"✅ Model_B saved successfully (imbalanced).\")"
      ]
    },
    {
      "cell_type": "code",
      "execution_count": null,
      "metadata": {
        "id": "mojlojgRXPJl"
      },
      "outputs": [],
      "source": [
        "vectorizer_unbal = joblib.load('/content/drive/MyDrive/unbalanced_split/vectorizer_unbal.pkl')"
      ]
    }
  ],
  "metadata": {
    "colab": {
      "provenance": []
    },
    "kernelspec": {
      "display_name": "Python 3",
      "name": "python3"
    },
    "language_info": {
      "name": "python"
    }
  },
  "nbformat": 4,
  "nbformat_minor": 0
}