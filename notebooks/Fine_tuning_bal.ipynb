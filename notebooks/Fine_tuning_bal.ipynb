{
  "nbformat": 4,
  "nbformat_minor": 0,
  "metadata": {
    "colab": {
      "provenance": [],
      "gpuType": "T4"
    },
    "kernelspec": {
      "name": "python3",
      "display_name": "Python 3"
    },
    "language_info": {
      "name": "python"
    },
    "accelerator": "GPU"
  },
  "cells": [
    {
      "cell_type": "markdown",
      "source": [
        "Load data"
      ],
      "metadata": {
        "id": "_eo3TFP3Veiv"
      }
    },
    {
      "cell_type": "code",
      "source": [
        "from google.colab import drive\n",
        "drive.mount('/content/drive')"
      ],
      "metadata": {
        "colab": {
          "base_uri": "https://localhost:8080/"
        },
        "id": "LUO_AvWF8hFd",
        "outputId": "bca6c097-aa59-48df-8b80-6deca8af9c5a"
      },
      "execution_count": null,
      "outputs": [
        {
          "output_type": "stream",
          "name": "stdout",
          "text": [
            "Drive already mounted at /content/drive; to attempt to forcibly remount, call drive.mount(\"/content/drive\", force_remount=True).\n"
          ]
        }
      ]
    },
    {
      "cell_type": "code",
      "source": [
        "import pandas as pd\n",
        "import joblib\n",
        "\n",
        "x_train_bal = pd.read_csv('/content/drive/MyDrive/balanced_split/X_train_bal.csv')\n",
        "x_test_bal = pd.read_csv('/content/drive/MyDrive/balanced_split/X_test_bal.csv')\n",
        "balanced_df = pd.read_csv('/content/drive/MyDrive/balanced_df.csv')\n",
        "y_train_bal = pd.read_csv('/content/drive/MyDrive/balanced_split/y_train_bal.csv').squeeze()\n",
        "y_test_bal = pd.read_csv('/content/drive/MyDrive/balanced_split/y_test_bal.csv').squeeze()\n",
        "X_train_bal_vec = joblib.load('/content/drive/MyDrive/balanced_split/X_train_bal_vec.pkl')\n",
        "X_test_bal_vec = joblib.load('/content/drive/MyDrive/balanced_split/X_test_bal_vec.pkl')"
      ],
      "metadata": {
        "id": "dVlCFxbF8wgP"
      },
      "execution_count": null,
      "outputs": []
    },
    {
      "cell_type": "code",
      "source": [
        "balanced_df.head()"
      ],
      "metadata": {
        "colab": {
          "base_uri": "https://localhost:8080/",
          "height": 206
        },
        "id": "rPMBL8-29nVc",
        "outputId": "3040d7f6-964d-469d-b27a-a6795aa846b4"
      },
      "execution_count": null,
      "outputs": [
        {
          "output_type": "execute_result",
          "data": {
            "text/plain": [
              "                                             Reviews  Rating\n",
              "0  really gotten bad worth money order two item n...       1\n",
              "1  sorry write address cannot accept incoming e m...       1\n",
              "2  dog decidedly new age impressed fact dog treat...       1\n",
              "3  purchase lego ferrari arrive external box dent...       1\n",
              "4  could give amazon zero would po box fill amazo...       1"
            ],
            "text/html": [
              "\n",
              "  <div id=\"df-67f0a627-893e-4953-a1d8-a4ce4ae4f7a5\" class=\"colab-df-container\">\n",
              "    <div>\n",
              "<style scoped>\n",
              "    .dataframe tbody tr th:only-of-type {\n",
              "        vertical-align: middle;\n",
              "    }\n",
              "\n",
              "    .dataframe tbody tr th {\n",
              "        vertical-align: top;\n",
              "    }\n",
              "\n",
              "    .dataframe thead th {\n",
              "        text-align: right;\n",
              "    }\n",
              "</style>\n",
              "<table border=\"1\" class=\"dataframe\">\n",
              "  <thead>\n",
              "    <tr style=\"text-align: right;\">\n",
              "      <th></th>\n",
              "      <th>Reviews</th>\n",
              "      <th>Rating</th>\n",
              "    </tr>\n",
              "  </thead>\n",
              "  <tbody>\n",
              "    <tr>\n",
              "      <th>0</th>\n",
              "      <td>really gotten bad worth money order two item n...</td>\n",
              "      <td>1</td>\n",
              "    </tr>\n",
              "    <tr>\n",
              "      <th>1</th>\n",
              "      <td>sorry write address cannot accept incoming e m...</td>\n",
              "      <td>1</td>\n",
              "    </tr>\n",
              "    <tr>\n",
              "      <th>2</th>\n",
              "      <td>dog decidedly new age impressed fact dog treat...</td>\n",
              "      <td>1</td>\n",
              "    </tr>\n",
              "    <tr>\n",
              "      <th>3</th>\n",
              "      <td>purchase lego ferrari arrive external box dent...</td>\n",
              "      <td>1</td>\n",
              "    </tr>\n",
              "    <tr>\n",
              "      <th>4</th>\n",
              "      <td>could give amazon zero would po box fill amazo...</td>\n",
              "      <td>1</td>\n",
              "    </tr>\n",
              "  </tbody>\n",
              "</table>\n",
              "</div>\n",
              "    <div class=\"colab-df-buttons\">\n",
              "\n",
              "  <div class=\"colab-df-container\">\n",
              "    <button class=\"colab-df-convert\" onclick=\"convertToInteractive('df-67f0a627-893e-4953-a1d8-a4ce4ae4f7a5')\"\n",
              "            title=\"Convert this dataframe to an interactive table.\"\n",
              "            style=\"display:none;\">\n",
              "\n",
              "  <svg xmlns=\"http://www.w3.org/2000/svg\" height=\"24px\" viewBox=\"0 -960 960 960\">\n",
              "    <path d=\"M120-120v-720h720v720H120Zm60-500h600v-160H180v160Zm220 220h160v-160H400v160Zm0 220h160v-160H400v160ZM180-400h160v-160H180v160Zm440 0h160v-160H620v160ZM180-180h160v-160H180v160Zm440 0h160v-160H620v160Z\"/>\n",
              "  </svg>\n",
              "    </button>\n",
              "\n",
              "  <style>\n",
              "    .colab-df-container {\n",
              "      display:flex;\n",
              "      gap: 12px;\n",
              "    }\n",
              "\n",
              "    .colab-df-convert {\n",
              "      background-color: #E8F0FE;\n",
              "      border: none;\n",
              "      border-radius: 50%;\n",
              "      cursor: pointer;\n",
              "      display: none;\n",
              "      fill: #1967D2;\n",
              "      height: 32px;\n",
              "      padding: 0 0 0 0;\n",
              "      width: 32px;\n",
              "    }\n",
              "\n",
              "    .colab-df-convert:hover {\n",
              "      background-color: #E2EBFA;\n",
              "      box-shadow: 0px 1px 2px rgba(60, 64, 67, 0.3), 0px 1px 3px 1px rgba(60, 64, 67, 0.15);\n",
              "      fill: #174EA6;\n",
              "    }\n",
              "\n",
              "    .colab-df-buttons div {\n",
              "      margin-bottom: 4px;\n",
              "    }\n",
              "\n",
              "    [theme=dark] .colab-df-convert {\n",
              "      background-color: #3B4455;\n",
              "      fill: #D2E3FC;\n",
              "    }\n",
              "\n",
              "    [theme=dark] .colab-df-convert:hover {\n",
              "      background-color: #434B5C;\n",
              "      box-shadow: 0px 1px 3px 1px rgba(0, 0, 0, 0.15);\n",
              "      filter: drop-shadow(0px 1px 2px rgba(0, 0, 0, 0.3));\n",
              "      fill: #FFFFFF;\n",
              "    }\n",
              "  </style>\n",
              "\n",
              "    <script>\n",
              "      const buttonEl =\n",
              "        document.querySelector('#df-67f0a627-893e-4953-a1d8-a4ce4ae4f7a5 button.colab-df-convert');\n",
              "      buttonEl.style.display =\n",
              "        google.colab.kernel.accessAllowed ? 'block' : 'none';\n",
              "\n",
              "      async function convertToInteractive(key) {\n",
              "        const element = document.querySelector('#df-67f0a627-893e-4953-a1d8-a4ce4ae4f7a5');\n",
              "        const dataTable =\n",
              "          await google.colab.kernel.invokeFunction('convertToInteractive',\n",
              "                                                    [key], {});\n",
              "        if (!dataTable) return;\n",
              "\n",
              "        const docLinkHtml = 'Like what you see? Visit the ' +\n",
              "          '<a target=\"_blank\" href=https://colab.research.google.com/notebooks/data_table.ipynb>data table notebook</a>'\n",
              "          + ' to learn more about interactive tables.';\n",
              "        element.innerHTML = '';\n",
              "        dataTable['output_type'] = 'display_data';\n",
              "        await google.colab.output.renderOutput(dataTable, element);\n",
              "        const docLink = document.createElement('div');\n",
              "        docLink.innerHTML = docLinkHtml;\n",
              "        element.appendChild(docLink);\n",
              "      }\n",
              "    </script>\n",
              "  </div>\n",
              "\n",
              "\n",
              "    <div id=\"df-be271eea-8a7b-45f4-8721-e389e037c151\">\n",
              "      <button class=\"colab-df-quickchart\" onclick=\"quickchart('df-be271eea-8a7b-45f4-8721-e389e037c151')\"\n",
              "                title=\"Suggest charts\"\n",
              "                style=\"display:none;\">\n",
              "\n",
              "<svg xmlns=\"http://www.w3.org/2000/svg\" height=\"24px\"viewBox=\"0 0 24 24\"\n",
              "     width=\"24px\">\n",
              "    <g>\n",
              "        <path d=\"M19 3H5c-1.1 0-2 .9-2 2v14c0 1.1.9 2 2 2h14c1.1 0 2-.9 2-2V5c0-1.1-.9-2-2-2zM9 17H7v-7h2v7zm4 0h-2V7h2v10zm4 0h-2v-4h2v4z\"/>\n",
              "    </g>\n",
              "</svg>\n",
              "      </button>\n",
              "\n",
              "<style>\n",
              "  .colab-df-quickchart {\n",
              "      --bg-color: #E8F0FE;\n",
              "      --fill-color: #1967D2;\n",
              "      --hover-bg-color: #E2EBFA;\n",
              "      --hover-fill-color: #174EA6;\n",
              "      --disabled-fill-color: #AAA;\n",
              "      --disabled-bg-color: #DDD;\n",
              "  }\n",
              "\n",
              "  [theme=dark] .colab-df-quickchart {\n",
              "      --bg-color: #3B4455;\n",
              "      --fill-color: #D2E3FC;\n",
              "      --hover-bg-color: #434B5C;\n",
              "      --hover-fill-color: #FFFFFF;\n",
              "      --disabled-bg-color: #3B4455;\n",
              "      --disabled-fill-color: #666;\n",
              "  }\n",
              "\n",
              "  .colab-df-quickchart {\n",
              "    background-color: var(--bg-color);\n",
              "    border: none;\n",
              "    border-radius: 50%;\n",
              "    cursor: pointer;\n",
              "    display: none;\n",
              "    fill: var(--fill-color);\n",
              "    height: 32px;\n",
              "    padding: 0;\n",
              "    width: 32px;\n",
              "  }\n",
              "\n",
              "  .colab-df-quickchart:hover {\n",
              "    background-color: var(--hover-bg-color);\n",
              "    box-shadow: 0 1px 2px rgba(60, 64, 67, 0.3), 0 1px 3px 1px rgba(60, 64, 67, 0.15);\n",
              "    fill: var(--button-hover-fill-color);\n",
              "  }\n",
              "\n",
              "  .colab-df-quickchart-complete:disabled,\n",
              "  .colab-df-quickchart-complete:disabled:hover {\n",
              "    background-color: var(--disabled-bg-color);\n",
              "    fill: var(--disabled-fill-color);\n",
              "    box-shadow: none;\n",
              "  }\n",
              "\n",
              "  .colab-df-spinner {\n",
              "    border: 2px solid var(--fill-color);\n",
              "    border-color: transparent;\n",
              "    border-bottom-color: var(--fill-color);\n",
              "    animation:\n",
              "      spin 1s steps(1) infinite;\n",
              "  }\n",
              "\n",
              "  @keyframes spin {\n",
              "    0% {\n",
              "      border-color: transparent;\n",
              "      border-bottom-color: var(--fill-color);\n",
              "      border-left-color: var(--fill-color);\n",
              "    }\n",
              "    20% {\n",
              "      border-color: transparent;\n",
              "      border-left-color: var(--fill-color);\n",
              "      border-top-color: var(--fill-color);\n",
              "    }\n",
              "    30% {\n",
              "      border-color: transparent;\n",
              "      border-left-color: var(--fill-color);\n",
              "      border-top-color: var(--fill-color);\n",
              "      border-right-color: var(--fill-color);\n",
              "    }\n",
              "    40% {\n",
              "      border-color: transparent;\n",
              "      border-right-color: var(--fill-color);\n",
              "      border-top-color: var(--fill-color);\n",
              "    }\n",
              "    60% {\n",
              "      border-color: transparent;\n",
              "      border-right-color: var(--fill-color);\n",
              "    }\n",
              "    80% {\n",
              "      border-color: transparent;\n",
              "      border-right-color: var(--fill-color);\n",
              "      border-bottom-color: var(--fill-color);\n",
              "    }\n",
              "    90% {\n",
              "      border-color: transparent;\n",
              "      border-bottom-color: var(--fill-color);\n",
              "    }\n",
              "  }\n",
              "</style>\n",
              "\n",
              "      <script>\n",
              "        async function quickchart(key) {\n",
              "          const quickchartButtonEl =\n",
              "            document.querySelector('#' + key + ' button');\n",
              "          quickchartButtonEl.disabled = true;  // To prevent multiple clicks.\n",
              "          quickchartButtonEl.classList.add('colab-df-spinner');\n",
              "          try {\n",
              "            const charts = await google.colab.kernel.invokeFunction(\n",
              "                'suggestCharts', [key], {});\n",
              "          } catch (error) {\n",
              "            console.error('Error during call to suggestCharts:', error);\n",
              "          }\n",
              "          quickchartButtonEl.classList.remove('colab-df-spinner');\n",
              "          quickchartButtonEl.classList.add('colab-df-quickchart-complete');\n",
              "        }\n",
              "        (() => {\n",
              "          let quickchartButtonEl =\n",
              "            document.querySelector('#df-be271eea-8a7b-45f4-8721-e389e037c151 button');\n",
              "          quickchartButtonEl.style.display =\n",
              "            google.colab.kernel.accessAllowed ? 'block' : 'none';\n",
              "        })();\n",
              "      </script>\n",
              "    </div>\n",
              "\n",
              "    </div>\n",
              "  </div>\n"
            ],
            "application/vnd.google.colaboratory.intrinsic+json": {
              "type": "dataframe",
              "variable_name": "balanced_df",
              "summary": "{\n  \"name\": \"balanced_df\",\n  \"rows\": 10000,\n  \"fields\": [\n    {\n      \"column\": \"Reviews\",\n      \"properties\": {\n        \"dtype\": \"string\",\n        \"num_unique_values\": 9999,\n        \"samples\": [\n          \"switch juice drink seem percent sweeter need imagine mix perrier kool aid mountain dew together get good idea expect ok know bad would somebody please tell taste bud\",\n          \"like k cup ground leave bottom coffee make strong hot cup joe cup melt shape coffee maker work wonderfully math save buck whole reason go look alternative buying prepackaged cup try buy k cup around except choose coffee measure use cup yet see coffee leave might little cheap breakdown dollar disposable cup ship include favorite coffee time fill cup environmentally wasteful need good solution reusable filter receive mixed review might give shot\",\n          \"hellman longer taste like use read another website water content increase drastically year never use brand usually tell something eat make cheap mayonnaise hellman taste like cheap mayonnaise try brand see one prefer\"\n        ],\n        \"semantic_type\": \"\",\n        \"description\": \"\"\n      }\n    },\n    {\n      \"column\": \"Rating\",\n      \"properties\": {\n        \"dtype\": \"number\",\n        \"std\": 1,\n        \"min\": 1,\n        \"max\": 5,\n        \"num_unique_values\": 5,\n        \"samples\": [\n          2,\n          5,\n          3\n        ],\n        \"semantic_type\": \"\",\n        \"description\": \"\"\n      }\n    }\n  ]\n}"
            }
          },
          "metadata": {},
          "execution_count": 3
        }
      ]
    },
    {
      "cell_type": "code",
      "execution_count": null,
      "metadata": {
        "id": "UPrhOJQZ8Cl5"
      },
      "outputs": [],
      "source": [
        "from sklearn.model_selection import GridSearchCV, RandomizedSearchCV\n",
        "from sklearn.metrics import classification_report, confusion_matrix, accuracy_score\n",
        "from sklearn.linear_model import LogisticRegression\n",
        "from sklearn.ensemble import RandomForestClassifier\n",
        "from sklearn.svm import SVC\n",
        "from sklearn.naive_bayes import MultinomialNB\n",
        "import joblib"
      ]
    },
    {
      "cell_type": "markdown",
      "source": [
        "Logistic regression"
      ],
      "metadata": {
        "id": "hjcOuNOM9h3U"
      }
    },
    {
      "cell_type": "code",
      "source": [
        "import warnings\n",
        "warnings.filterwarnings(\"ignore\")\n",
        "\n",
        "print(\"Logistic Regression\")\n",
        "\n",
        "# Initialize Logistic Regression\n",
        "lr = LogisticRegression(max_iter=2000, solver='liblinear')\n",
        "\n",
        "# Define parameter grid for tuning\n",
        "param_grid_lr = {\n",
        "    'C': [0.01, 0.1, 1, 10, 100],   # Regularization strength\n",
        "    'penalty': ['l1', 'l2'],         # Regularization type\n",
        "    'class_weight': [None, 'balanced']  # Handle class imbalance\n",
        "}\n",
        "\n",
        "# GridSearchCV setup\n",
        "grid_lr = GridSearchCV(\n",
        "    estimator=lr,\n",
        "    param_grid=param_grid_lr,\n",
        "    cv=5,                   # 5-fold cross-validation\n",
        "    scoring='accuracy',\n",
        "    n_jobs=-1,              # Use all CPU cores\n",
        "    verbose=1\n",
        ")\n",
        "\n",
        "# Fit model on training data\n",
        "grid_lr.fit(X_train_bal_vec, y_train_bal)\n",
        "\n",
        "# Predictions on test set\n",
        "y_pred_lr = grid_lr.predict(X_test_bal_vec)\n",
        "\n",
        "# Print results\n",
        "print(\"\\n Best Parameters:\", grid_lr.best_params_)\n",
        "print(\" Best CV Score:\", grid_lr.best_score_)\n",
        "print(\" Test Accuracy:\", accuracy_score(y_test_bal, y_pred_lr))\n",
        "print(\"\\nClassification Report:\\n\", classification_report(y_test_bal, y_pred_lr))"
      ],
      "metadata": {
        "colab": {
          "base_uri": "https://localhost:8080/"
        },
        "id": "H869FjyeMdsK",
        "outputId": "d627ed9d-0f68-4337-c535-a0a209e1eb69"
      },
      "execution_count": null,
      "outputs": [
        {
          "output_type": "stream",
          "name": "stdout",
          "text": [
            "Logistic Regression\n",
            "Fitting 5 folds for each of 20 candidates, totalling 100 fits\n",
            "\n",
            " Best Parameters: {'C': 1, 'class_weight': None, 'penalty': 'l2'}\n",
            " Best CV Score: 0.467375\n",
            " Test Accuracy: 0.4805\n",
            "\n",
            "Classification Report:\n",
            "               precision    recall  f1-score   support\n",
            "\n",
            "           1       0.62      0.71      0.66       400\n",
            "           2       0.41      0.35      0.38       400\n",
            "           3       0.40      0.35      0.37       400\n",
            "           4       0.39      0.34      0.36       400\n",
            "           5       0.53      0.65      0.58       400\n",
            "\n",
            "    accuracy                           0.48      2000\n",
            "   macro avg       0.47      0.48      0.47      2000\n",
            "weighted avg       0.47      0.48      0.47      2000\n",
            "\n"
          ]
        }
      ]
    },
    {
      "cell_type": "code",
      "source": [
        "y_pred = grid_lr.predict(X_test_bal_vec)\n",
        "print(\"\\nConfusion Matrix:\\n\", confusion_matrix(y_test_bal, y_pred))"
      ],
      "metadata": {
        "colab": {
          "base_uri": "https://localhost:8080/"
        },
        "id": "adAYMS499F8g",
        "outputId": "264b974e-307a-45c2-de67-f1da5d10ecd8"
      },
      "execution_count": null,
      "outputs": [
        {
          "output_type": "stream",
          "name": "stdout",
          "text": [
            "\n",
            "Confusion Matrix:\n",
            " [[284  71  18  12  15]\n",
            " [ 87 140 103  32  38]\n",
            " [ 55  72 141  90  42]\n",
            " [ 22  39  63 136 140]\n",
            " [ 12  17  29  82 260]]\n"
          ]
        }
      ]
    },
    {
      "cell_type": "markdown",
      "source": [
        "Random Forest"
      ],
      "metadata": {
        "id": "X1KAZQBp9tuJ"
      }
    },
    {
      "cell_type": "code",
      "source": [
        "rf = RandomForestClassifier(random_state=42, class_weight='balanced')\n",
        "param_grid_rf = {\n",
        "    'n_estimators': [100, 300],\n",
        "    'max_depth': [None, 10, 30],\n",
        "    'min_samples_split': [2, 5]\n",
        "}\n",
        "\n",
        "grid_rf = GridSearchCV(rf, param_grid_rf, cv=5, scoring='f1_macro', n_jobs=-1, verbose=2)\n",
        "grid_rf.fit(X_train_bal_vec, y_train_bal)\n",
        "print(\"Best RF Params:\", grid_rf.best_params_)\n",
        "best_rf = grid_rf.best_estimator_"
      ],
      "metadata": {
        "colab": {
          "base_uri": "https://localhost:8080/"
        },
        "id": "vVsWZDFz9YWJ",
        "outputId": "60fbe2a6-11f0-477e-b000-70fdd5d14738"
      },
      "execution_count": null,
      "outputs": [
        {
          "output_type": "stream",
          "name": "stdout",
          "text": [
            "Fitting 5 folds for each of 12 candidates, totalling 60 fits\n",
            "Best RF Params: {'max_depth': None, 'min_samples_split': 5, 'n_estimators': 300}\n"
          ]
        }
      ]
    },
    {
      "cell_type": "code",
      "source": [
        "# Fit the model on training data\n",
        "rf.fit(X_train_bal_vec, y_train_bal)\n",
        "\n",
        "# Predict on test data\n",
        "y_pred = rf.predict(X_test_bal_vec)\n",
        "\n",
        "# Evaluate the model\n",
        "print(\"\\nClassification Report:\\n\", classification_report(y_test_bal, y_pred))\n",
        "print(\"\\nConfusion Matrix:\\n\", confusion_matrix(y_test_bal, y_pred))\n",
        "print(\"\\nAccuracy:\", accuracy_score(y_test_bal, y_pred))"
      ],
      "metadata": {
        "id": "TACkKwo_EilP",
        "colab": {
          "base_uri": "https://localhost:8080/"
        },
        "outputId": "4a586c0d-d453-46ac-95af-92d26389ee68"
      },
      "execution_count": null,
      "outputs": [
        {
          "output_type": "stream",
          "name": "stdout",
          "text": [
            "\n",
            "Classification Report:\n",
            "               precision    recall  f1-score   support\n",
            "\n",
            "           1       0.57      0.76      0.65       400\n",
            "           2       0.30      0.17      0.22       400\n",
            "           3       0.36      0.33      0.35       400\n",
            "           4       0.35      0.33      0.34       400\n",
            "           5       0.45      0.58      0.51       400\n",
            "\n",
            "    accuracy                           0.43      2000\n",
            "   macro avg       0.41      0.43      0.41      2000\n",
            "weighted avg       0.41      0.43      0.41      2000\n",
            "\n",
            "\n",
            "Confusion Matrix:\n",
            " [[305  47  20  10  18]\n",
            " [122  67  96  56  59]\n",
            " [ 50  69 132  85  64]\n",
            " [ 32  24  75 132 137]\n",
            " [ 23  13  41  92 231]]\n",
            "\n",
            "Accuracy: 0.4335\n"
          ]
        }
      ]
    },
    {
      "cell_type": "markdown",
      "source": [
        "SVM"
      ],
      "metadata": {
        "id": "ZpAPU80WVWMm"
      }
    },
    {
      "cell_type": "code",
      "source": [
        "svm = SVC(probability=True, class_weight='balanced')\n",
        "param_grid_svm = {\n",
        "    'C': [0.1, 1, 10],\n",
        "    'kernel': ['linear', 'rbf']\n",
        "}\n",
        "\n",
        "grid_svm = GridSearchCV(svm, param_grid_svm, cv=5, scoring='f1_macro', n_jobs=-1, verbose=2)\n",
        "grid_svm.fit(X_train_bal_vec, y_train_bal)\n",
        "print(\"Best SVM Params:\", grid_svm.best_params_)\n",
        "best_svm = grid_svm.best_estimator_"
      ],
      "metadata": {
        "id": "xdXilUyP93Nk"
      },
      "execution_count": null,
      "outputs": []
    },
    {
      "cell_type": "code",
      "source": [
        "from sklearn.metrics import accuracy_score, classification_report, confusion_matrix, ConfusionMatrixDisplay\n",
        "import matplotlib.pyplot as plt\n",
        "import seaborn as sns\n",
        "\n",
        "# --- Evaluate on Test Set ---\n",
        "y_pred_svm = best_svm.predict(X_test_bal_vec)\n",
        "print(\"\\nAccuracy:\", accuracy_score(y_test_bal, y_pred_svm))\n",
        "print(\"\\nClassification Report:\\n\", classification_report(y_test_bal, y_pred_svm))\n",
        "\n",
        "# --- Confusion Matrix ---\n",
        "cm = confusion_matrix(y_test_bal, y_pred_svm)\n",
        "plt.figure(figsize=(7,5))\n",
        "sns.heatmap(cm, annot=True, fmt='d', cmap='Blues', xticklabels=[1,2,3,4,5], yticklabels=[1,2,3,4,5])\n",
        "plt.title(\"Confusion Matrix - SVM\")\n",
        "plt.xlabel(\"Predicted Labels\")\n",
        "plt.ylabel(\"True Labels\")\n",
        "plt.show()\n"
      ],
      "metadata": {
        "colab": {
          "base_uri": "https://localhost:8080/",
          "height": 779
        },
        "id": "sK4jD73tauXc",
        "outputId": "44877fc5-1237-4844-eb27-85a09e3c0b22"
      },
      "execution_count": null,
      "outputs": [
        {
          "output_type": "stream",
          "name": "stdout",
          "text": [
            "\n",
            "Accuracy: 0.467\n",
            "\n",
            "Classification Report:\n",
            "               precision    recall  f1-score   support\n",
            "\n",
            "           1       0.66      0.70      0.68       400\n",
            "           2       0.35      0.32      0.33       400\n",
            "           3       0.38      0.38      0.38       400\n",
            "           4       0.38      0.37      0.37       400\n",
            "           5       0.54      0.57      0.55       400\n",
            "\n",
            "    accuracy                           0.47      2000\n",
            "   macro avg       0.46      0.47      0.46      2000\n",
            "weighted avg       0.46      0.47      0.46      2000\n",
            "\n"
          ]
        },
        {
          "output_type": "display_data",
          "data": {
            "text/plain": [
              "<Figure size 700x500 with 2 Axes>"
            ],
            "image/png": "[encoded data removed]"
          },
          "metadata": {}
        }
      ]
    },
    {
      "cell_type": "code",
      "source": [
        "nb = MultinomialNB()\n",
        "nb.fit(X_train_bal_vec, y_train_bal)\n",
        "y_pred_nb = nb.predict(X_test_bal_vec)\n",
        "print(\"Naive Bayes Report:\\n\", classification_report(y_test_bal, y_pred_nb))"
      ],
      "metadata": {
        "id": "QWrPtQuO98qA"
      },
      "execution_count": null,
      "outputs": []
    },
    {
      "cell_type": "code",
      "source": [
        "models = {\n",
        "    \"Logistic Regression\": grid_lr,\n",
        "    \"Random Forest\": best_rf,\n",
        "    \"SVM\": best_svm,\n",
        "    \"Naive Bayes\": nb\n",
        "}\n",
        "\n",
        "for name, model in models.items():\n",
        "    preds = model.predict(X_test_bal_vec)\n",
        "    print(f\"\\n{name} Accuracy: {accuracy_score(y_test_bal, preds):.4f}\")"
      ],
      "metadata": {
        "id": "RQoLupW8-AZI",
        "colab": {
          "base_uri": "https://localhost:8080/"
        },
        "outputId": "12466a9f-5484-4ae1-9ac6-84cdbd76b2d7"
      },
      "execution_count": null,
      "outputs": [
        {
          "output_type": "stream",
          "name": "stdout",
          "text": [
            "\n",
            "Logistic Regression Accuracy: 0.4830\n",
            "\n",
            "Random Forest Accuracy: 0.4520\n",
            "\n",
            "SVM Accuracy: 0.4670\n",
            "\n",
            "Naive Bayes Accuracy: 0.4515\n"
          ]
        }
      ]
    },
    {
      "cell_type": "code",
      "source": [
        "import joblib\n",
        "# Save Model_A (trained on balanced data)\n",
        "joblib.dump(grid_lr, '/content/drive/MyDrive/ModelA_balanced.pkl')\n",
        "print(\"✅ Model_A saved successfully (balanced).\")"
      ],
      "metadata": {
        "id": "tF1VhLVxT2d5",
        "colab": {
          "base_uri": "https://localhost:8080/"
        },
        "outputId": "897bc618-5386-4fc0-aace-862888252e78"
      },
      "execution_count": null,
      "outputs": [
        {
          "output_type": "stream",
          "name": "stdout",
          "text": [
            "✅ Model_A saved successfully (balanced).\n"
          ]
        }
      ]
    },
    {
      "cell_type": "code",
      "source": [
        "vectorizer_bal = joblib.load('/content/drive/MyDrive/balanced_split/vectorizer_bal.pkl')"
      ],
      "metadata": {
        "id": "wLN0mwHRUUS7"
      },
      "execution_count": null,
      "outputs": []
    }
  ]
}