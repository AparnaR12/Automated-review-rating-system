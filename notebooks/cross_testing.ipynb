{
  "nbformat": 4,
  "nbformat_minor": 0,
  "metadata": {
    "colab": {
      "provenance": []
    },
    "kernelspec": {
      "name": "python3",
      "display_name": "Python 3"
    },
    "language_info": {
      "name": "python"
    }
  },
  "cells": [
    {
      "cell_type": "code",
      "source": [
        "from google.colab import drive\n",
        "drive.mount('/content/drive')"
      ],
      "metadata": {
        "colab": {
          "base_uri": "https://localhost:8080/"
        },
        "id": "phCPIZm4P_uw",
        "outputId": "863d4b0a-4d59-41e0-e9af-6074db3c9dee"
      },
      "execution_count": null,
      "outputs": [
        {
          "output_type": "stream",
          "name": "stdout",
          "text": [
            "Drive already mounted at /content/drive; to attempt to forcibly remount, call drive.mount(\"/content/drive\", force_remount=True).\n"
          ]
        }
      ]
    },
    {
      "cell_type": "markdown",
      "source": [
        "Load Models"
      ],
      "metadata": {
        "id": "klEvqa2xR23v"
      }
    },
    {
      "cell_type": "code",
      "source": [
        "import joblib\n",
        "\n",
        "Model_A = joblib.load('/content/drive/MyDrive/ModelA_balanced.pkl')\n",
        "Model_B = joblib.load('/content/drive/MyDrive/ModelB_imbalanced.pkl')"
      ],
      "metadata": {
        "id": "juR0wGGrQRY8"
      },
      "execution_count": null,
      "outputs": []
    },
    {
      "cell_type": "code",
      "execution_count": null,
      "metadata": {
        "id": "rlIu21O2PYxO"
      },
      "outputs": [],
      "source": [
        "import pandas as pd\n",
        "import joblib\n",
        "from sklearn.metrics import accuracy_score, classification_report, confusion_matrix, f1_score,precision_score, recall_score\n",
        "import seaborn as sns\n",
        "import matplotlib.pyplot as plt\n",
        "\n",
        "# Load both vectorizers\n",
        "vectorizer_bal = joblib.load('/content/drive/MyDrive/balanced_split/vectorizer_bal.pkl')\n",
        "vectorizer_unbal = joblib.load('/content/drive/MyDrive/unbalanced_split/vectorizer_unbal.pkl')\n",
        "\n",
        "# Load raw text test sets\n",
        "X_test_bal = pd.read_csv('/content/drive/MyDrive/balanced_split/X_test_bal.csv').squeeze()\n",
        "y_test_bal = pd.read_csv('/content/drive/MyDrive/balanced_split/y_test_bal.csv')\n",
        "X_test_unbal = pd.read_csv('/content/drive/MyDrive/unbalanced_split/X_test_unbal.csv').squeeze()\n",
        "y_test_unbal = pd.read_csv('/content/drive/MyDrive/unbalanced_split/y_test_unbal.csv')\n",
        "\n",
        "\n",
        "# Re-vectorize for cross-testing\n",
        "X_test_bal_for_unbal = vectorizer_unbal.transform(X_test_bal)\n",
        "X_test_unbal_for_bal = vectorizer_bal.transform(X_test_unbal)\n"
      ]
    },
    {
      "cell_type": "markdown",
      "source": [
        "Model A tested on imbalanced"
      ],
      "metadata": {
        "id": "5iLlcapUTISo"
      }
    },
    {
      "cell_type": "code",
      "source": [
        "from sklearn.metrics import accuracy_score, f1_score, classification_report, confusion_matrix\n",
        "import seaborn as sns\n",
        "import matplotlib.pyplot as plt\n",
        "\n",
        "def evaluate_model(model, X_test, y_test, title):\n",
        "    y_pred = model.predict(X_test)\n",
        "\n",
        "    acc = accuracy_score(y_test, y_pred)\n",
        "    f1_macro = f1_score(y_test, y_pred, average='macro')\n",
        "\n",
        "    print(f\"\\n {title}\")\n",
        "    print(f\"Accuracy: {acc:.4f}\")\n",
        "    print(f\"Macro F1-Score: {f1_macro:.4f}\\n\")\n",
        "    print(classification_report(y_test, y_pred))\n",
        "\n",
        "    # Confusion Matrix\n",
        "    cm = confusion_matrix(y_test, y_pred)\n",
        "    sns.heatmap(cm, annot=True, fmt='d', cmap='Blues')\n",
        "    plt.title(f\"Confusion Matrix – {title}\")\n",
        "    plt.xlabel(\"Predicted\")\n",
        "    plt.ylabel(\"Actual\")\n",
        "    plt.show()\n",
        "\n",
        "    return acc, f1_macro\n",
        "\n",
        "prec_A_on_unbal = precision_score(y_test_unbal, Model_A.predict(X_test_unbal_for_bal), average='macro')\n",
        "rec_A_on_unbal  = recall_score(y_test_unbal, Model_A.predict(X_test_unbal_for_bal), average='macro')\n",
        "\n",
        "# Model_A (trained on balanced) → Test on imbalanced data\n",
        "X_test_unbal_for_bal = vectorizer_bal.transform(X_test_unbal)\n",
        "\n",
        "acc_A_on_unbal, f1_A_on_unbal = evaluate_model(\n",
        "    Model_A,\n",
        "    X_test_unbal_for_bal,\n",
        "    y_test_unbal,\n",
        "    \"Model_A\"\n",
        ")"
      ],
      "metadata": {
        "id": "rrNMSOgDetrB",
        "outputId": "2bf7d199-3166-4cc8-d824-47c79c6f81d9",
        "colab": {
          "base_uri": "https://localhost:8080/",
          "height": 782
        }
      },
      "execution_count": null,
      "outputs": [
        {
          "output_type": "stream",
          "name": "stdout",
          "text": [
            "\n",
            " Model_A\n",
            "Accuracy: 0.4670\n",
            "Macro F1-Score: 0.4692\n",
            "\n",
            "              precision    recall  f1-score   support\n",
            "\n",
            "           1       0.50      0.74      0.59       200\n",
            "           2       0.33      0.33      0.33       300\n",
            "           3       0.44      0.38      0.41       500\n",
            "           4       0.54      0.39      0.45       600\n",
            "           5       0.49      0.66      0.56       400\n",
            "\n",
            "    accuracy                           0.47      2000\n",
            "   macro avg       0.46      0.50      0.47      2000\n",
            "weighted avg       0.47      0.47      0.46      2000\n",
            "\n"
          ]
        },
        {
          "output_type": "display_data",
          "data": {
            "text/plain": [
              "<Figure size 640x480 with 2 Axes>"
            ],
            "image/png": "[encoded data removed]"
          },
          "metadata": {}
        }
      ]
    },
    {
      "cell_type": "markdown",
      "source": [
        "Model B tested on balanced"
      ],
      "metadata": {
        "id": "UvFCZXkdTUE4"
      }
    },
    {
      "cell_type": "code",
      "source": [
        "from sklearn.metrics import accuracy_score, f1_score, classification_report, confusion_matrix\n",
        "import seaborn as sns\n",
        "import matplotlib.pyplot as plt\n",
        "\n",
        "def evaluate_model(model, X_test, y_test, title):\n",
        "    y_pred = model.predict(X_test)\n",
        "\n",
        "    acc = accuracy_score(y_test, y_pred)\n",
        "    f1_macro = f1_score(y_test, y_pred, average='macro')\n",
        "\n",
        "    print(f\"\\n{title}\")\n",
        "    print(f\"Accuracy: {acc:.4f}\")\n",
        "    print(f\"Macro F1-Score: {f1_macro:.4f}\\n\")\n",
        "    print(classification_report(y_test, y_pred))\n",
        "\n",
        "    # Confusion Matrix\n",
        "    cm = confusion_matrix(y_test, y_pred)\n",
        "    sns.heatmap(cm, annot=True, fmt='d', cmap='Greens')\n",
        "    plt.title(f\"Confusion Matrix – {title}\")\n",
        "    plt.xlabel(\"Predicted\")\n",
        "    plt.ylabel(\"Actual\")\n",
        "    plt.show()\n",
        "\n",
        "    return acc, f1_macro\n",
        "prec_B_on_bal = precision_score(y_test_bal, Model_B.predict(X_test_bal_for_unbal), average='macro')\n",
        "rec_B_on_bal  = recall_score(y_test_bal, Model_B.predict(X_test_bal_for_unbal), average='macro')\n",
        "\n",
        "\n",
        "# Model_B (trained on imbalanced) → Test on balanced data\n",
        "X_test_bal_for_unbal = vectorizer_unbal.transform(X_test_bal)\n",
        "\n",
        "acc_B_on_bal, f1_B_on_bal = evaluate_model(\n",
        "    Model_B,\n",
        "    X_test_bal_for_unbal,\n",
        "    y_test_bal,\n",
        "    \"Model_B\"\n",
        ")"
      ],
      "metadata": {
        "id": "CY2eljf9TSUX",
        "colab": {
          "base_uri": "https://localhost:8080/",
          "height": 782
        },
        "outputId": "552efce2-83cd-4f58-e6e8-fa4ffa41448f"
      },
      "execution_count": null,
      "outputs": [
        {
          "output_type": "stream",
          "name": "stdout",
          "text": [
            "\n",
            "Model_B\n",
            "Accuracy: 0.4865\n",
            "Macro F1-Score: 0.4855\n",
            "\n",
            "              precision    recall  f1-score   support\n",
            "\n",
            "           1       0.67      0.64      0.65       400\n",
            "           2       0.39      0.34      0.37       400\n",
            "           3       0.38      0.44      0.41       400\n",
            "           4       0.41      0.38      0.39       400\n",
            "           5       0.58      0.63      0.61       400\n",
            "\n",
            "    accuracy                           0.49      2000\n",
            "   macro avg       0.49      0.49      0.49      2000\n",
            "weighted avg       0.49      0.49      0.49      2000\n",
            "\n"
          ]
        },
        {
          "output_type": "display_data",
          "data": {
            "text/plain": [
              "<Figure size 640x480 with 2 Axes>"
            ],
            "image/png": "[encoded data removed]"
          },
          "metadata": {}
        }
      ]
    },
    {
      "cell_type": "markdown",
      "source": [
        "Comparison Table"
      ],
      "metadata": {
        "id": "F3xdOlHZcBp1"
      }
    },
    {
      "cell_type": "code",
      "source": [
        "import pandas as pd\n",
        "\n",
        "results = pd.DataFrame({\n",
        "    \"Model\": [\"Model_A (Balanced)\", \"Model_B (Imbalanced)\"],\n",
        "    \"Trained_On\": [\"Balanced\", \"Imbalanced\"],\n",
        "    \"Tested_On\": [\"Imbalanced\", \"Balanced\"],\n",
        "    \"Accuracy\": [acc_A_on_unbal, acc_B_on_bal],\n",
        "    \"Precision (Macro)\": [prec_A_on_unbal, prec_B_on_bal],\n",
        "    \"Recall (Macro)\": [rec_A_on_unbal, rec_B_on_bal],\n",
        "    \"F1 (Macro)\": [f1_A_on_unbal, f1_B_on_bal]\n",
        "})\n",
        "\n",
        "print(\"\\n\\n Cross-Testing Summary:\")\n",
        "display(results.round(4))"
      ],
      "metadata": {
        "id": "diUIMCsLb-_m",
        "colab": {
          "base_uri": "https://localhost:8080/",
          "height": 167
        },
        "outputId": "6c4e1bdd-95fd-492b-f183-62c6026b2a6d"
      },
      "execution_count": null,
      "outputs": [
        {
          "output_type": "stream",
          "name": "stdout",
          "text": [
            "\n",
            "\n",
            " Cross-Testing Summary:\n"
          ]
        },
        {
          "output_type": "display_data",
          "data": {
            "text/plain": [
              "                  Model  Trained_On   Tested_On  Accuracy  Precision (Macro)  \\\n",
              "0    Model_A (Balanced)    Balanced  Imbalanced    0.4670             0.4590   \n",
              "1  Model_B (Imbalanced)  Imbalanced    Balanced    0.4865             0.4867   \n",
              "\n",
              "   Recall (Macro)  F1 (Macro)  \n",
              "0          0.4997      0.4692  \n",
              "1          0.4865      0.4855  "
            ],
            "text/html": [
              "\n",
              "  <div id=\"df-98ccff7a-9985-414c-a45f-9a9202237327\" class=\"colab-df-container\">\n",
              "    <div>\n",
              "<style scoped>\n",
              "    .dataframe tbody tr th:only-of-type {\n",
              "        vertical-align: middle;\n",
              "    }\n",
              "\n",
              "    .dataframe tbody tr th {\n",
              "        vertical-align: top;\n",
              "    }\n",
              "\n",
              "    .dataframe thead th {\n",
              "        text-align: right;\n",
              "    }\n",
              "</style>\n",
              "<table border=\"1\" class=\"dataframe\">\n",
              "  <thead>\n",
              "    <tr style=\"text-align: right;\">\n",
              "      <th></th>\n",
              "      <th>Model</th>\n",
              "      <th>Trained_On</th>\n",
              "      <th>Tested_On</th>\n",
              "      <th>Accuracy</th>\n",
              "      <th>Precision (Macro)</th>\n",
              "      <th>Recall (Macro)</th>\n",
              "      <th>F1 (Macro)</th>\n",
              "    </tr>\n",
              "  </thead>\n",
              "  <tbody>\n",
              "    <tr>\n",
              "      <th>0</th>\n",
              "      <td>Model_A (Balanced)</td>\n",
              "      <td>Balanced</td>\n",
              "      <td>Imbalanced</td>\n",
              "      <td>0.4670</td>\n",
              "      <td>0.4590</td>\n",
              "      <td>0.4997</td>\n",
              "      <td>0.4692</td>\n",
              "    </tr>\n",
              "    <tr>\n",
              "      <th>1</th>\n",
              "      <td>Model_B (Imbalanced)</td>\n",
              "      <td>Imbalanced</td>\n",
              "      <td>Balanced</td>\n",
              "      <td>0.4865</td>\n",
              "      <td>0.4867</td>\n",
              "      <td>0.4865</td>\n",
              "      <td>0.4855</td>\n",
              "    </tr>\n",
              "  </tbody>\n",
              "</table>\n",
              "</div>\n",
              "    <div class=\"colab-df-buttons\">\n",
              "\n",
              "  <div class=\"colab-df-container\">\n",
              "    <button class=\"colab-df-convert\" onclick=\"convertToInteractive('df-98ccff7a-9985-414c-a45f-9a9202237327')\"\n",
              "            title=\"Convert this dataframe to an interactive table.\"\n",
              "            style=\"display:none;\">\n",
              "\n",
              "  <svg xmlns=\"http://www.w3.org/2000/svg\" height=\"24px\" viewBox=\"0 -960 960 960\">\n",
              "    <path d=\"M120-120v-720h720v720H120Zm60-500h600v-160H180v160Zm220 220h160v-160H400v160Zm0 220h160v-160H400v160ZM180-400h160v-160H180v160Zm440 0h160v-160H620v160ZM180-180h160v-160H180v160Zm440 0h160v-160H620v160Z\"/>\n",
              "  </svg>\n",
              "    </button>\n",
              "\n",
              "  <style>\n",
              "    .colab-df-container {\n",
              "      display:flex;\n",
              "      gap: 12px;\n",
              "    }\n",
              "\n",
              "    .colab-df-convert {\n",
              "      background-color: #E8F0FE;\n",
              "      border: none;\n",
              "      border-radius: 50%;\n",
              "      cursor: pointer;\n",
              "      display: none;\n",
              "      fill: #1967D2;\n",
              "      height: 32px;\n",
              "      padding: 0 0 0 0;\n",
              "      width: 32px;\n",
              "    }\n",
              "\n",
              "    .colab-df-convert:hover {\n",
              "      background-color: #E2EBFA;\n",
              "      box-shadow: 0px 1px 2px rgba(60, 64, 67, 0.3), 0px 1px 3px 1px rgba(60, 64, 67, 0.15);\n",
              "      fill: #174EA6;\n",
              "    }\n",
              "\n",
              "    .colab-df-buttons div {\n",
              "      margin-bottom: 4px;\n",
              "    }\n",
              "\n",
              "    [theme=dark] .colab-df-convert {\n",
              "      background-color: #3B4455;\n",
              "      fill: #D2E3FC;\n",
              "    }\n",
              "\n",
              "    [theme=dark] .colab-df-convert:hover {\n",
              "      background-color: #434B5C;\n",
              "      box-shadow: 0px 1px 3px 1px rgba(0, 0, 0, 0.15);\n",
              "      filter: drop-shadow(0px 1px 2px rgba(0, 0, 0, 0.3));\n",
              "      fill: #FFFFFF;\n",
              "    }\n",
              "  </style>\n",
              "\n",
              "    <script>\n",
              "      const buttonEl =\n",
              "        document.querySelector('#df-98ccff7a-9985-414c-a45f-9a9202237327 button.colab-df-convert');\n",
              "      buttonEl.style.display =\n",
              "        google.colab.kernel.accessAllowed ? 'block' : 'none';\n",
              "\n",
              "      async function convertToInteractive(key) {\n",
              "        const element = document.querySelector('#df-98ccff7a-9985-414c-a45f-9a9202237327');\n",
              "        const dataTable =\n",
              "          await google.colab.kernel.invokeFunction('convertToInteractive',\n",
              "                                                    [key], {});\n",
              "        if (!dataTable) return;\n",
              "\n",
              "        const docLinkHtml = 'Like what you see? Visit the ' +\n",
              "          '<a target=\"_blank\" href=https://colab.research.google.com/notebooks/data_table.ipynb>data table notebook</a>'\n",
              "          + ' to learn more about interactive tables.';\n",
              "        element.innerHTML = '';\n",
              "        dataTable['output_type'] = 'display_data';\n",
              "        await google.colab.output.renderOutput(dataTable, element);\n",
              "        const docLink = document.createElement('div');\n",
              "        docLink.innerHTML = docLinkHtml;\n",
              "        element.appendChild(docLink);\n",
              "      }\n",
              "    </script>\n",
              "  </div>\n",
              "\n",
              "\n",
              "    <div id=\"df-60eebeda-8d0d-4d18-8cae-5c2e1c76516c\">\n",
              "      <button class=\"colab-df-quickchart\" onclick=\"quickchart('df-60eebeda-8d0d-4d18-8cae-5c2e1c76516c')\"\n",
              "                title=\"Suggest charts\"\n",
              "                style=\"display:none;\">\n",
              "\n",
              "<svg xmlns=\"http://www.w3.org/2000/svg\" height=\"24px\"viewBox=\"0 0 24 24\"\n",
              "     width=\"24px\">\n",
              "    <g>\n",
              "        <path d=\"M19 3H5c-1.1 0-2 .9-2 2v14c0 1.1.9 2 2 2h14c1.1 0 2-.9 2-2V5c0-1.1-.9-2-2-2zM9 17H7v-7h2v7zm4 0h-2V7h2v10zm4 0h-2v-4h2v4z\"/>\n",
              "    </g>\n",
              "</svg>\n",
              "      </button>\n",
              "\n",
              "<style>\n",
              "  .colab-df-quickchart {\n",
              "      --bg-color: #E8F0FE;\n",
              "      --fill-color: #1967D2;\n",
              "      --hover-bg-color: #E2EBFA;\n",
              "      --hover-fill-color: #174EA6;\n",
              "      --disabled-fill-color: #AAA;\n",
              "      --disabled-bg-color: #DDD;\n",
              "  }\n",
              "\n",
              "  [theme=dark] .colab-df-quickchart {\n",
              "      --bg-color: #3B4455;\n",
              "      --fill-color: #D2E3FC;\n",
              "      --hover-bg-color: #434B5C;\n",
              "      --hover-fill-color: #FFFFFF;\n",
              "      --disabled-bg-color: #3B4455;\n",
              "      --disabled-fill-color: #666;\n",
              "  }\n",
              "\n",
              "  .colab-df-quickchart {\n",
              "    background-color: var(--bg-color);\n",
              "    border: none;\n",
              "    border-radius: 50%;\n",
              "    cursor: pointer;\n",
              "    display: none;\n",
              "    fill: var(--fill-color);\n",
              "    height: 32px;\n",
              "    padding: 0;\n",
              "    width: 32px;\n",
              "  }\n",
              "\n",
              "  .colab-df-quickchart:hover {\n",
              "    background-color: var(--hover-bg-color);\n",
              "    box-shadow: 0 1px 2px rgba(60, 64, 67, 0.3), 0 1px 3px 1px rgba(60, 64, 67, 0.15);\n",
              "    fill: var(--button-hover-fill-color);\n",
              "  }\n",
              "\n",
              "  .colab-df-quickchart-complete:disabled,\n",
              "  .colab-df-quickchart-complete:disabled:hover {\n",
              "    background-color: var(--disabled-bg-color);\n",
              "    fill: var(--disabled-fill-color);\n",
              "    box-shadow: none;\n",
              "  }\n",
              "\n",
              "  .colab-df-spinner {\n",
              "    border: 2px solid var(--fill-color);\n",
              "    border-color: transparent;\n",
              "    border-bottom-color: var(--fill-color);\n",
              "    animation:\n",
              "      spin 1s steps(1) infinite;\n",
              "  }\n",
              "\n",
              "  @keyframes spin {\n",
              "    0% {\n",
              "      border-color: transparent;\n",
              "      border-bottom-color: var(--fill-color);\n",
              "      border-left-color: var(--fill-color);\n",
              "    }\n",
              "    20% {\n",
              "      border-color: transparent;\n",
              "      border-left-color: var(--fill-color);\n",
              "      border-top-color: var(--fill-color);\n",
              "    }\n",
              "    30% {\n",
              "      border-color: transparent;\n",
              "      border-left-color: var(--fill-color);\n",
              "      border-top-color: var(--fill-color);\n",
              "      border-right-color: var(--fill-color);\n",
              "    }\n",
              "    40% {\n",
              "      border-color: transparent;\n",
              "      border-right-color: var(--fill-color);\n",
              "      border-top-color: var(--fill-color);\n",
              "    }\n",
              "    60% {\n",
              "      border-color: transparent;\n",
              "      border-right-color: var(--fill-color);\n",
              "    }\n",
              "    80% {\n",
              "      border-color: transparent;\n",
              "      border-right-color: var(--fill-color);\n",
              "      border-bottom-color: var(--fill-color);\n",
              "    }\n",
              "    90% {\n",
              "      border-color: transparent;\n",
              "      border-bottom-color: var(--fill-color);\n",
              "    }\n",
              "  }\n",
              "</style>\n",
              "\n",
              "      <script>\n",
              "        async function quickchart(key) {\n",
              "          const quickchartButtonEl =\n",
              "            document.querySelector('#' + key + ' button');\n",
              "          quickchartButtonEl.disabled = true;  // To prevent multiple clicks.\n",
              "          quickchartButtonEl.classList.add('colab-df-spinner');\n",
              "          try {\n",
              "            const charts = await google.colab.kernel.invokeFunction(\n",
              "                'suggestCharts', [key], {});\n",
              "          } catch (error) {\n",
              "            console.error('Error during call to suggestCharts:', error);\n",
              "          }\n",
              "          quickchartButtonEl.classList.remove('colab-df-spinner');\n",
              "          quickchartButtonEl.classList.add('colab-df-quickchart-complete');\n",
              "        }\n",
              "        (() => {\n",
              "          let quickchartButtonEl =\n",
              "            document.querySelector('#df-60eebeda-8d0d-4d18-8cae-5c2e1c76516c button');\n",
              "          quickchartButtonEl.style.display =\n",
              "            google.colab.kernel.accessAllowed ? 'block' : 'none';\n",
              "        })();\n",
              "      </script>\n",
              "    </div>\n",
              "\n",
              "    </div>\n",
              "  </div>\n"
            ],
            "application/vnd.google.colaboratory.intrinsic+json": {
              "type": "dataframe",
              "summary": "{\n  \"name\": \"display(results\",\n  \"rows\": 2,\n  \"fields\": [\n    {\n      \"column\": \"Model\",\n      \"properties\": {\n        \"dtype\": \"string\",\n        \"num_unique_values\": 2,\n        \"samples\": [\n          \"Model_B (Imbalanced)\",\n          \"Model_A (Balanced)\"\n        ],\n        \"semantic_type\": \"\",\n        \"description\": \"\"\n      }\n    },\n    {\n      \"column\": \"Trained_On\",\n      \"properties\": {\n        \"dtype\": \"string\",\n        \"num_unique_values\": 2,\n        \"samples\": [\n          \"Imbalanced\",\n          \"Balanced\"\n        ],\n        \"semantic_type\": \"\",\n        \"description\": \"\"\n      }\n    },\n    {\n      \"column\": \"Tested_On\",\n      \"properties\": {\n        \"dtype\": \"string\",\n        \"num_unique_values\": 2,\n        \"samples\": [\n          \"Balanced\",\n          \"Imbalanced\"\n        ],\n        \"semantic_type\": \"\",\n        \"description\": \"\"\n      }\n    },\n    {\n      \"column\": \"Accuracy\",\n      \"properties\": {\n        \"dtype\": \"number\",\n        \"std\": 0.01378858223313765,\n        \"min\": 0.467,\n        \"max\": 0.4865,\n        \"num_unique_values\": 2,\n        \"samples\": [\n          0.4865,\n          0.467\n        ],\n        \"semantic_type\": \"\",\n        \"description\": \"\"\n      }\n    },\n    {\n      \"column\": \"Precision (Macro)\",\n      \"properties\": {\n        \"dtype\": \"number\",\n        \"std\": 0.019586857838867367,\n        \"min\": 0.459,\n        \"max\": 0.4867,\n        \"num_unique_values\": 2,\n        \"samples\": [\n          0.4867,\n          0.459\n        ],\n        \"semantic_type\": \"\",\n        \"description\": \"\"\n      }\n    },\n    {\n      \"column\": \"Recall (Macro)\",\n      \"properties\": {\n        \"dtype\": \"number\",\n        \"std\": 0.00933380951166242,\n        \"min\": 0.4865,\n        \"max\": 0.4997,\n        \"num_unique_values\": 2,\n        \"samples\": [\n          0.4865,\n          0.4997\n        ],\n        \"semantic_type\": \"\",\n        \"description\": \"\"\n      }\n    },\n    {\n      \"column\": \"F1 (Macro)\",\n      \"properties\": {\n        \"dtype\": \"number\",\n        \"std\": 0.011525840533340711,\n        \"min\": 0.4692,\n        \"max\": 0.4855,\n        \"num_unique_values\": 2,\n        \"samples\": [\n          0.4855,\n          0.4692\n        ],\n        \"semantic_type\": \"\",\n        \"description\": \"\"\n      }\n    }\n  ]\n}"
            }
          },
          "metadata": {}
        }
      ]
    }
  ]
}